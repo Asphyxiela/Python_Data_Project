{
  "cells": [
    {
      "cell_type": "code",
      "execution_count": null,
      "metadata": {
        "id": "-v8U8lEDRsY1"
      },
      "outputs": [],
      "source": [
        "job_count = 42"
      ]
    },
    {
      "cell_type": "code",
      "execution_count": null,
      "metadata": {
        "colab": {
          "base_uri": "https://localhost:8080/"
        },
        "id": "iQxHe2TyR1Np",
        "outputId": "335e2140-7910-4279-fb39-cfc606e37c63"
      },
      "outputs": [
        {
          "output_type": "execute_result",
          "data": {
            "text/plain": [
              "42"
            ]
          },
          "metadata": {},
          "execution_count": 131
        }
      ],
      "source": [
        "job_count"
      ]
    },
    {
      "cell_type": "code",
      "execution_count": null,
      "metadata": {
        "id": "ZMRTZ3u7R2jf"
      },
      "outputs": [],
      "source": [
        "# job_title = \"Data Engineer\"\n",
        "# company_name = \"Data Works\"\n",
        "# work_from_home = True\n",
        "\n",
        "# print(job_title)\n",
        "# print(company_name)\n",
        "# print(work_from_home)"
      ]
    },
    {
      "cell_type": "code",
      "execution_count": null,
      "metadata": {
        "colab": {
          "base_uri": "https://localhost:8080/"
        },
        "id": "RcCW48ThSm7b",
        "outputId": "64b339de-e004-474c-ee9c-cbe43c350547"
      },
      "outputs": [
        {
          "output_type": "stream",
          "name": "stdout",
          "text": [
            "140000\n"
          ]
        }
      ],
      "source": [
        "base_salary = 120_000\n",
        "bonus_salary = 20_000\n",
        "\n",
        "total_compensation = base_salary + bonus_salary\n",
        "\n",
        "print(total_compensation)"
      ]
    },
    {
      "cell_type": "code",
      "execution_count": null,
      "metadata": {
        "id": "7qwQj9IyTHMV"
      },
      "outputs": [],
      "source": [
        "# job_title = \"Data Analyst\"\n",
        "# annual_salary = 72000\n",
        "# monthly_salary = annual_salary / 12\n",
        "# print(monthly_salary)"
      ]
    },
    {
      "cell_type": "code",
      "execution_count": null,
      "metadata": {
        "id": "J6ky6VWvTyT8"
      },
      "outputs": [],
      "source": [
        "# job_title = \"Data Scientist\"\n",
        "# company_name = \"AI Solutions\"\n",
        "# job_salary = 110_000\n",
        "# bonus_salary = job_salary * 0.1\n",
        "# total_compensation = job_salary + bonus_salary\n",
        "# print(total_compensation)\n",
        "# print(job_title)\n",
        "# print(company_name)\n",
        "\n",
        "# print(\"Congrats, your total compensation for being a\", job_title, \"in\", company_name, \"is\", total_compensation)"
      ]
    },
    {
      "cell_type": "code",
      "execution_count": null,
      "metadata": {
        "colab": {
          "base_uri": "https://localhost:8080/"
        },
        "id": "2n82KyauT1-6",
        "outputId": "b1c2d64d-967c-4e22-92b6-523491519e02"
      },
      "outputs": [
        {
          "output_type": "stream",
          "name": "stdout",
          "text": [
            "<class 'str'>\n"
          ]
        }
      ],
      "source": [
        "\n",
        "\n",
        "job_title = 'Data Scientist'\n",
        "\n",
        "print(type(job_title))"
      ]
    },
    {
      "cell_type": "code",
      "execution_count": null,
      "metadata": {
        "colab": {
          "base_uri": "https://localhost:8080/"
        },
        "id": "sPnjSuKnZxzi",
        "outputId": "ad7f0295-a573-4baf-c4d1-92537d77e634"
      },
      "outputs": [
        {
          "output_type": "stream",
          "name": "stdout",
          "text": [
            "<class 'float'>\n"
          ]
        }
      ],
      "source": [
        "\n",
        "\n",
        "salary = 85000.50\n",
        "\n",
        "print(type(salary))"
      ]
    },
    {
      "cell_type": "code",
      "execution_count": null,
      "metadata": {
        "colab": {
          "base_uri": "https://localhost:8080/"
        },
        "id": "qoEig05waD5H",
        "outputId": "46f60215-efff-4234-c205-44b9cde837da"
      },
      "outputs": [
        {
          "output_type": "stream",
          "name": "stdout",
          "text": [
            "<class 'int'>\n"
          ]
        }
      ],
      "source": [
        "\n",
        "\n",
        "salary_rate = 120000.75\n",
        "\n",
        "print(type(int(salary_rate)))"
      ]
    },
    {
      "cell_type": "code",
      "execution_count": null,
      "metadata": {
        "colab": {
          "base_uri": "https://localhost:8080/"
        },
        "id": "qQzsuyZdax5u",
        "outputId": "5e63a67d-86e0-45b9-df68-3014c9632f01"
      },
      "outputs": [
        {
          "output_type": "stream",
          "name": "stdout",
          "text": [
            "True\n"
          ]
        }
      ],
      "source": [
        "company_name = 'DataWiz Inc.'\n",
        "\n",
        "print(isinstance(company_name, str))"
      ]
    },
    {
      "cell_type": "code",
      "execution_count": null,
      "metadata": {
        "colab": {
          "base_uri": "https://localhost:8080/"
        },
        "id": "jqhcJl_jbYZd",
        "outputId": "ebbef967-5cc1-4fcc-aa9b-df468d821b08"
      },
      "outputs": [
        {
          "output_type": "stream",
          "name": "stdout",
          "text": [
            "DATA SCIENTIST\n"
          ]
        }
      ],
      "source": [
        "job_title = 'data scientist'\n",
        "print(job_title.upper())\n"
      ]
    },
    {
      "cell_type": "code",
      "execution_count": null,
      "metadata": {
        "colab": {
          "base_uri": "https://localhost:8080/"
        },
        "id": "1pzj4PJGBsi1",
        "outputId": "531e02c8-9ca6-498e-c306-67c85ccd351d"
      },
      "outputs": [
        {
          "output_type": "stream",
          "name": "stdout",
          "text": [
            "Data Engineer\n"
          ]
        }
      ],
      "source": [
        "job_title = 'Data Analyst'\n",
        "\n",
        "job_title = job_title.replace(\"Analyst\", \"Engineer\")\n",
        "\n",
        "print(job_title)"
      ]
    },
    {
      "cell_type": "code",
      "execution_count": null,
      "metadata": {
        "colab": {
          "base_uri": "https://localhost:8080/"
        },
        "id": "3N5Mjx27Cfg8",
        "outputId": "d8356339-95af-4133-a051-c0096da8ab8c"
      },
      "outputs": [
        {
          "output_type": "stream",
          "name": "stdout",
          "text": [
            "Senior Data Analyst\n"
          ]
        }
      ],
      "source": [
        "seniority_level = 'Senior'\n",
        "job_title = 'Data Analyst'\n",
        "\n",
        "print(seniority_level + \" \" + job_title)"
      ]
    },
    {
      "cell_type": "code",
      "execution_count": null,
      "metadata": {
        "colab": {
          "base_uri": "https://localhost:8080/"
        },
        "id": "9R9pon59Cy2C",
        "outputId": "c065bdf3-c66f-4781-ba85-949f81f7a23b"
      },
      "outputs": [
        {
          "output_type": "execute_result",
          "data": {
            "text/plain": [
              "14"
            ]
          },
          "metadata": {},
          "execution_count": 143
        }
      ],
      "source": [
        "job_title = 'Data Scientist'\n",
        "\n",
        "len(job_title)"
      ]
    },
    {
      "cell_type": "code",
      "execution_count": null,
      "metadata": {
        "colab": {
          "base_uri": "https://localhost:8080/"
        },
        "id": "mgg3otJxDK3G",
        "outputId": "801a772f-8fad-4ac3-eb04-49f86e705c85"
      },
      "outputs": [
        {
          "output_type": "stream",
          "name": "stdout",
          "text": [
            "data engineer\n"
          ]
        }
      ],
      "source": [
        "job_title = 'DATA ENGINEER'\n",
        "new_job_title = job_title.lower()\n",
        "\n",
        "print(new_job_title)"
      ]
    },
    {
      "cell_type": "code",
      "execution_count": null,
      "metadata": {
        "colab": {
          "base_uri": "https://localhost:8080/"
        },
        "id": "NwEjWkYrDXMV",
        "outputId": "a689cf58-3b89-4ac4-b9aa-df45f476c154"
      },
      "outputs": [
        {
          "output_type": "stream",
          "name": "stdout",
          "text": [
            "Job Title: Data Scientist\n"
          ]
        }
      ],
      "source": [
        "job_title = 'Data Scientist'\n",
        "looking_for = \"Job Title:\"\n",
        "\n",
        "print(looking_for + \" \" + job_title)\n"
      ]
    },
    {
      "cell_type": "code",
      "execution_count": null,
      "metadata": {
        "colab": {
          "base_uri": "https://localhost:8080/"
        },
        "id": "mBebX_F1D4Eh",
        "outputId": "da34fc1a-4544-4cdc-da4d-7aaabe0b4975"
      },
      "outputs": [
        {
          "output_type": "stream",
          "name": "stdout",
          "text": [
            "Data Scientist at DataWiz Inc.\n"
          ]
        }
      ],
      "source": [
        "position = 'Data Scientist'\n",
        "company = 'DataWiz Inc.'\n",
        "\n",
        "print(f'{position} at {company}')"
      ]
    },
    {
      "cell_type": "code",
      "execution_count": null,
      "metadata": {
        "colab": {
          "base_uri": "https://localhost:8080/"
        },
        "id": "mmRfA_etEjcm",
        "outputId": "4649823e-1c05-4abd-d518-816f1cfe10f9"
      },
      "outputs": [
        {
          "output_type": "stream",
          "name": "stdout",
          "text": [
            "Role: Data Analyst, Skill Python\n"
          ]
        }
      ],
      "source": [
        "role = 'Data Analyst'\n",
        "skill = 'Python'\n",
        "result = \"Role: {}, Skill {}\".format(role, skill)\n",
        "print(result)"
      ]
    },
    {
      "cell_type": "code",
      "execution_count": null,
      "metadata": {
        "colab": {
          "base_uri": "https://localhost:8080/"
        },
        "id": "X8a0vcNVFKeZ",
        "outputId": "e09b1451-c6dd-4091-91e8-89bf234e6260"
      },
      "outputs": [
        {
          "output_type": "stream",
          "name": "stdout",
          "text": [
            "Role: Data Engineer, Skill SQL\n"
          ]
        }
      ],
      "source": [
        "role = 'Data Engineer'\n",
        "skill = 'SQL'\n",
        "result_1 = \"Role: %s, Skill %s\" % (role, skill)\n",
        "print(result_1)"
      ]
    },
    {
      "cell_type": "code",
      "execution_count": null,
      "metadata": {
        "colab": {
          "base_uri": "https://localhost:8080/"
        },
        "id": "5C34etvJF8CM",
        "outputId": "af329259-e1c6-4b37-ddbf-40b7ce5af600"
      },
      "outputs": [
        {
          "output_type": "stream",
          "name": "stdout",
          "text": [
            "96000\n"
          ]
        }
      ],
      "source": [
        "monthly_salary = 8000\n",
        "annual_salary = monthly_salary * 12\n",
        "print(annual_salary)\n"
      ]
    },
    {
      "cell_type": "code",
      "execution_count": null,
      "metadata": {
        "colab": {
          "base_uri": "https://localhost:8080/"
        },
        "id": "_uGpKmccoiMy",
        "outputId": "2a7771ed-6043-4b25-a168-6a593efd370f"
      },
      "outputs": [
        {
          "output_type": "stream",
          "name": "stdout",
          "text": [
            "False\n"
          ]
        }
      ],
      "source": [
        "avg_salary_analyst = 70000\n",
        "avg_salary_scientist = 85000\n",
        "\n",
        "result = avg_salary_analyst > avg_salary_scientist\n",
        "\n",
        "print(result)"
      ]
    },
    {
      "cell_type": "code",
      "execution_count": null,
      "metadata": {
        "colab": {
          "base_uri": "https://localhost:8080/"
        },
        "id": "AQy5sePmo_Fg",
        "outputId": "069a9e6e-4742-4c3a-a6a8-cb83484f7041"
      },
      "outputs": [
        {
          "output_type": "stream",
          "name": "stdout",
          "text": [
            "56\n"
          ]
        }
      ],
      "source": [
        "total_applications = 123\n",
        "job_openings = 67\n",
        "remainder = total_applications % job_openings\n",
        "\n",
        "print(remainder)"
      ]
    },
    {
      "cell_type": "code",
      "execution_count": null,
      "metadata": {
        "colab": {
          "base_uri": "https://localhost:8080/"
        },
        "id": "_xac7zrRpVRb",
        "outputId": "5f1595a1-42ef-4457-f230-7a12f10feb3b"
      },
      "outputs": [
        {
          "output_type": "stream",
          "name": "stdout",
          "text": [
            "25\n"
          ]
        }
      ],
      "source": [
        "job_postings = 20\n",
        "job_postings += 5\n",
        "print(job_postings)\n"
      ]
    },
    {
      "cell_type": "code",
      "execution_count": null,
      "metadata": {
        "colab": {
          "base_uri": "https://localhost:8080/"
        },
        "id": "-IMIOpOIpjm6",
        "outputId": "2f935fdd-d1a0-4f96-e4f3-9ca603b5275e"
      },
      "outputs": [
        {
          "output_type": "stream",
          "name": "stdout",
          "text": [
            "85000.0\n"
          ]
        }
      ],
      "source": [
        "min_salary = 50000\n",
        "max_salary = 120000\n",
        "avg_salary = (min_salary + max_salary) / 2\n",
        "\n",
        "print(avg_salary)"
      ]
    },
    {
      "cell_type": "code",
      "execution_count": null,
      "metadata": {
        "colab": {
          "base_uri": "https://localhost:8080/"
        },
        "id": "_Aq1fiDRqCK_",
        "outputId": "6c2198ac-7623-4eed-e277-6083e569f36a"
      },
      "outputs": [
        {
          "output_type": "stream",
          "name": "stdout",
          "text": [
            "Intermediate\n"
          ]
        }
      ],
      "source": [
        "python_experience = 3\n",
        "if python_experience < 2:\n",
        "    skill_level = 'Beginner'\n",
        "else:\n",
        "    skill_level = 'Intermediate'\n",
        "print(skill_level)"
      ]
    },
    {
      "cell_type": "code",
      "execution_count": null,
      "metadata": {
        "colab": {
          "base_uri": "https://localhost:8080/"
        },
        "id": "Jj_-LmZUqowj",
        "outputId": "0155a4fc-f044-401d-8f08-3db9817d5cbe"
      },
      "outputs": [
        {
          "output_type": "stream",
          "name": "stdout",
          "text": [
            "Intermediate\n"
          ]
        }
      ],
      "source": [
        "tools_known = 3\n",
        "\n",
        "if tools_known < 1:\n",
        "    skill_level = 'Beginner'\n",
        "elif tools_known < 4:\n",
        "    skill_level = 'Intermediate'\n",
        "else:\n",
        "    skill_level = 'Advance'\n",
        "print(skill_level)"
      ]
    },
    {
      "cell_type": "code",
      "execution_count": null,
      "metadata": {
        "colab": {
          "base_uri": "https://localhost:8080/"
        },
        "id": "dwufg5c6sSDB",
        "outputId": "d1b4a3cc-3d4e-4ac1-dae0-56ceb3c204cc"
      },
      "outputs": [
        {
          "output_type": "stream",
          "name": "stdout",
          "text": [
            "Data Scientist\n"
          ]
        }
      ],
      "source": [
        "job_experience = 4\n",
        "sql_experience = 2\n",
        "\n",
        "if job_experience < 2:\n",
        "  title = \"Junior Analyst\"\n",
        "elif job_experience <= 5 and sql_experience == 1:\n",
        "  title = \"Intermediate Analyst\"\n",
        "elif job_experience >= 5 and sql_experience >= 2:\n",
        "  title = \"Senior Analyst\"\n",
        "elif job_experience > 5 and sql_experience >=3 :\n",
        "  title = \"Lead Analyst\"\n",
        "else:\n",
        "  title = \"Data Analyst\"\n",
        "\n",
        "print(job_title)"
      ]
    },
    {
      "cell_type": "code",
      "execution_count": null,
      "metadata": {
        "colab": {
          "base_uri": "https://localhost:8080/",
          "height": 35
        },
        "id": "vsRAUgYoumwL",
        "outputId": "5c473d23-44e8-49be-a759-6d01d78ee088"
      },
      "outputs": [
        {
          "output_type": "execute_result",
          "data": {
            "text/plain": [
              "'Data Analyst'"
            ],
            "application/vnd.google.colaboratory.intrinsic+json": {
              "type": "string"
            }
          },
          "metadata": {},
          "execution_count": 157
        }
      ],
      "source": [
        "job_titles = ['Data Scientist', 'Data Analyst', 'Machine Learning Engineer']\n",
        "\n",
        "job_titles[1] # Recuerda siempre poner print, debe imprimirse"
      ]
    },
    {
      "cell_type": "code",
      "execution_count": null,
      "metadata": {
        "colab": {
          "base_uri": "https://localhost:8080/"
        },
        "id": "kSjToh7cb28-",
        "outputId": "c475e555-0621-46fe-da75-f8ac1abd4c0d"
      },
      "outputs": [
        {
          "output_type": "stream",
          "name": "stdout",
          "text": [
            "['Data Scientist', 'Data Analyst', 'AI Specialist']\n"
          ]
        }
      ],
      "source": [
        "job_titles = ['Data Scientist', 'Data Analyst', 'Machine Learning Engineer']\n",
        "\n",
        "job_titles[2] = 'AI Specialist'\n",
        "\n",
        "print(job_titles)"
      ]
    },
    {
      "cell_type": "code",
      "execution_count": null,
      "metadata": {
        "colab": {
          "base_uri": "https://localhost:8080/"
        },
        "id": "p0avym07dBQX",
        "outputId": "4520a8b1-9790-482c-ee74-7df595d48e00"
      },
      "outputs": [
        {
          "output_type": "stream",
          "name": "stdout",
          "text": [
            "['Data Scientist', 'Data Analyst']\n"
          ]
        }
      ],
      "source": [
        "job_titles = ['Data Scientist', 'Data Analyst', 'Machine Learning Engineer', 'Data Engineer']\n",
        "\n",
        "first_two = job_titles[0:2]\n",
        "\n",
        "print(first_two)"
      ]
    },
    {
      "cell_type": "code",
      "execution_count": null,
      "metadata": {
        "colab": {
          "base_uri": "https://localhost:8080/"
        },
        "id": "bE_9UFlUdwk3",
        "outputId": "789f465f-91a4-43e1-efcb-afc5040f7ee2"
      },
      "outputs": [
        {
          "output_type": "stream",
          "name": "stdout",
          "text": [
            "['Data Scientist', 'Data Analyst', 'Machine Learning Engineer', 'Data Engineer']\n"
          ]
        }
      ],
      "source": [
        "job_titles = ['Data Scientist', 'Data Analyst', 'Machine Learning Engineer']\n",
        "\n",
        "job_titles.append('Data Engineer')\n",
        "print(job_titles)"
      ]
    },
    {
      "cell_type": "code",
      "execution_count": null,
      "metadata": {
        "colab": {
          "base_uri": "https://localhost:8080/"
        },
        "id": "psIEUJIGeiCJ",
        "outputId": "d586ca8b-59e9-494f-9eca-9f8f7010978c"
      },
      "outputs": [
        {
          "output_type": "stream",
          "name": "stdout",
          "text": [
            "['Data Scientist', 'Business Analyst', 'Data Analyst', 'Machine Learning Engineer']\n"
          ]
        }
      ],
      "source": [
        "job_titles = ['Data Scientist', 'Data Analyst', 'Machine Learning Engineer']\n",
        "\n",
        "job_titles.insert(1, 'Business Analyst')\n",
        "print(job_titles)"
      ]
    },
    {
      "cell_type": "code",
      "execution_count": null,
      "metadata": {
        "colab": {
          "base_uri": "https://localhost:8080/"
        },
        "id": "ARv-rr3gfE42",
        "outputId": "eca492fb-6ef8-4d80-ba39-f434c5d848b2"
      },
      "outputs": [
        {
          "output_type": "stream",
          "name": "stdout",
          "text": [
            "80\n"
          ]
        }
      ],
      "source": [
        "job_postings = {'Data Scientist': 120, 'Data Analyst': 80, 'Machine Learning Engineer': 50}\n",
        "\n",
        "print(job_postings['Data Analyst'])"
      ]
    },
    {
      "cell_type": "code",
      "execution_count": null,
      "metadata": {
        "colab": {
          "base_uri": "https://localhost:8080/"
        },
        "id": "miDn4vOdf47U",
        "outputId": "b3aa8cbc-2175-4bd6-86a5-2b43d282d44d"
      },
      "outputs": [
        {
          "output_type": "stream",
          "name": "stdout",
          "text": [
            "{'Data Scientist': 120, 'Data Analyst': 80, 'Machine Learning Engineer': 50, 'AI Specialist': 30}\n"
          ]
        }
      ],
      "source": [
        "job_postings = {'Data Scientist': 120, 'Data Analyst': 80, 'Machine Learning Engineer': 50}\n",
        "\n",
        "job_postings['AI Specialist'] = 30\n",
        "print(job_postings)"
      ]
    },
    {
      "cell_type": "code",
      "execution_count": null,
      "metadata": {
        "colab": {
          "base_uri": "https://localhost:8080/"
        },
        "id": "tJVlHVjpgzsu",
        "outputId": "61217e8b-40a1-43ff-86e7-4225e7e93805"
      },
      "outputs": [
        {
          "output_type": "stream",
          "name": "stdout",
          "text": [
            "{'Data Scientist': 120, 'Data Analyst': 80}\n"
          ]
        }
      ],
      "source": [
        "job_postings = {'Data Scientist': 120, 'Data Analyst': 80, 'Machine Learning Engineer': 50}\n",
        "job_postings.pop('Machine Learning Engineer')\n",
        "print(job_postings)"
      ]
    },
    {
      "cell_type": "code",
      "execution_count": null,
      "metadata": {
        "colab": {
          "base_uri": "https://localhost:8080/"
        },
        "id": "zIq4-COVhA7p",
        "outputId": "ea93a1f9-bfe2-47dc-c116-786bac9c06c2"
      },
      "outputs": [
        {
          "output_type": "stream",
          "name": "stdout",
          "text": [
            "{'Data Scientist': 120, 'Data Analyst': 80, 'Machine Learning Engineer': 50, 'AI Specialist': 30}\n"
          ]
        }
      ],
      "source": [
        "job_postings1 = {'Data Scientist': 120, 'Data Analyst': 80}\n",
        "job_postings2 = {'Machine Learning Engineer': 50, 'AI Specialist': 30}\n",
        "\n",
        "job_postings.update({'Data Scientist': 120, 'Data Analyst': 80, 'Machine Learning Engineer': 50, 'AI Specialist': 30})\n",
        "print(job_postings)"
      ]
    },
    {
      "cell_type": "code",
      "execution_count": null,
      "metadata": {
        "colab": {
          "base_uri": "https://localhost:8080/"
        },
        "id": "t6cWSxLTi1FY",
        "outputId": "b5e1df01-2f67-4655-8288-eccd047a0981"
      },
      "outputs": [
        {
          "output_type": "stream",
          "name": "stdout",
          "text": [
            "{'Data Scientist': 120, 'Data Analyst': 80, 'Machine Learning Engineer': 50, 'AI Specialist': 30}\n"
          ]
        }
      ],
      "source": [
        "job_postings1 = {'Data Scientist': 120, 'Data Analyst': 80}\n",
        "job_postings2 = {'Machine Learning Engineer': 50, 'AI Specialist': 30}\n",
        "\n",
        "job_postings1.update(job_postings2)\n",
        "print(job_postings1)"
      ]
    },
    {
      "cell_type": "code",
      "execution_count": null,
      "metadata": {
        "colab": {
          "base_uri": "https://localhost:8080/"
        },
        "id": "KftnvpzPjFG3",
        "outputId": "9ed88c81-5e6f-4e05-cafa-c82b64b96e47"
      },
      "outputs": [
        {
          "output_type": "stream",
          "name": "stdout",
          "text": [
            "{'Data Scientist': {'postings': 120, 'average_salary': 120000}, 'Data Analyst': {'postings': 80, 'average_salary': 80000}, 'Machine Learning Engineer': {'postings': 50, 'average_salary': 110000}}\n"
          ]
        }
      ],
      "source": [
        "job_details = {\n",
        "    \"Data Scientist\" : {\n",
        "      \"postings\" : 120,\n",
        "      \"average_salary\" : 120000\n",
        "    },\n",
        "    \"Data Analyst\" : {\n",
        "      \"postings\" : 80,\n",
        "      \"average_salary\" : 80000\n",
        "    },\n",
        "    \"Machine Learning Engineer\" : {\n",
        "       \"postings\" : 50,\n",
        "       \"average_salary\" : 110000\n",
        "    }\n",
        "}\n",
        "print(job_details)"
      ]
    },
    {
      "cell_type": "code",
      "execution_count": null,
      "metadata": {
        "colab": {
          "base_uri": "https://localhost:8080/"
        },
        "id": "S8JwXmxhlB4G",
        "outputId": "c45c330b-3fc4-435a-8080-4d0a310091f4"
      },
      "outputs": [
        {
          "output_type": "stream",
          "name": "stdout",
          "text": [
            "{'Data Scientist', 'Data Analyst', 'Machine Learning Engineer', 'AI Specialist'}\n"
          ]
        }
      ],
      "source": [
        "unique_job_titles = {'Data Scientist', 'Data Analyst', 'Machine Learning Engineer'}\n",
        "unique_job_titles.add('AI Specialist')\n",
        "\n",
        "print(unique_job_titles)"
      ]
    },
    {
      "cell_type": "code",
      "execution_count": null,
      "metadata": {
        "colab": {
          "base_uri": "https://localhost:8080/"
        },
        "id": "kxVzMM1LDQFf",
        "outputId": "f6fdf909-bdbe-401c-a120-8dc2a308687e"
      },
      "outputs": [
        {
          "output_type": "stream",
          "name": "stdout",
          "text": [
            "{'Data Scientist', 'Machine Learning Engineer'}\n"
          ]
        }
      ],
      "source": [
        "unique_job_titles = {'Data Scientist', 'Data Analyst', 'Machine Learning Engineer'}\n",
        "unique_job_titles.remove('Data Analyst')\n",
        "\n",
        "print(unique_job_titles)"
      ]
    },
    {
      "cell_type": "code",
      "execution_count": null,
      "metadata": {
        "colab": {
          "base_uri": "https://localhost:8080/"
        },
        "id": "GtdbEaQCDoTD",
        "outputId": "5e1bed28-3598-4f02-9076-e469471257cf"
      },
      "outputs": [
        {
          "output_type": "stream",
          "name": "stdout",
          "text": [
            "{'San Francisco', 'Austin', 'New York'}\n"
          ]
        }
      ],
      "source": [
        "job_locations = ['New York', 'San Francisco', 'New York', 'Austin', 'San Francisco']\n",
        "\n",
        "unique_job_locations = set(job_locations)\n",
        "print(unique_job_locations)"
      ]
    },
    {
      "cell_type": "code",
      "execution_count": null,
      "metadata": {
        "colab": {
          "base_uri": "https://localhost:8080/"
        },
        "id": "Zomp8de4EXuX",
        "outputId": "09c49790-e371-49d7-be29-a53d7cc27ab8"
      },
      "outputs": [
        {
          "output_type": "stream",
          "name": "stdout",
          "text": [
            "Data Analyst\n"
          ]
        }
      ],
      "source": [
        "job_roles = ('Data Scientist', 'Data Analyst', 'Machine Learning Engineer')\n",
        "\n",
        "print(job_roles[1])"
      ]
    },
    {
      "cell_type": "code",
      "execution_count": null,
      "metadata": {
        "colab": {
          "base_uri": "https://localhost:8080/"
        },
        "id": "oYroxQhNJFDm",
        "outputId": "d7796a42-5f98-4ef7-f62f-f8fc41f2b428"
      },
      "outputs": [
        {
          "output_type": "stream",
          "name": "stdout",
          "text": [
            "('Data Scientist', 'Data Analyst', 'Machine Learning Engineer', 'AI Specialist')\n"
          ]
        }
      ],
      "source": [
        "job_roles = ('Data Scientist', 'Data Analyst', 'Machine Learning Engineer')\n",
        "\n",
        "extended_job_roles = job_roles + ('AI Specialist',) # nota, la coma al final es importante, de lo contrario daria error\n",
        "\n",
        "print(extended_job_roles)"
      ]
    },
    {
      "cell_type": "code",
      "execution_count": null,
      "metadata": {
        "colab": {
          "base_uri": "https://localhost:8080/"
        },
        "id": "aDpAJIgzJILq",
        "outputId": "08e90092-9ac8-4547-d561-bd3bfe49fbe9"
      },
      "outputs": [
        {
          "output_type": "stream",
          "name": "stdout",
          "text": [
            "('Data Scientist', 'Machine Learning Engineer')\n"
          ]
        }
      ],
      "source": [
        "job_roles = ('Data Scientist', 'Data Analyst', 'Machine Learning Engineer')\n",
        "job_roles_list = list(job_roles)\n",
        "job_roles_list.remove('Data Analyst')\n",
        "updated_job_roles = tuple(job_roles_list)\n",
        "\n",
        "print(updated_job_roles)"
      ]
    },
    {
      "cell_type": "code",
      "execution_count": null,
      "metadata": {
        "colab": {
          "base_uri": "https://localhost:8080/"
        },
        "id": "QDIEr0opJJQF",
        "outputId": "e66b1872-416c-42f2-e9b8-75f7aeec2b92"
      },
      "outputs": [
        {
          "output_type": "stream",
          "name": "stdout",
          "text": [
            "120\n",
            "80\n",
            "50\n"
          ]
        }
      ],
      "source": [
        "job_postings = (120, 80, 50)\n",
        "job_postings_roles = list(job_postings)\n",
        "\n",
        "data_scientist_postings = 120\n",
        "data_analyst_postings = 80\n",
        "ml_engineer_postings = 50\n",
        "\n",
        "print(data_scientist_postings)\n",
        "print(data_analyst_postings)\n",
        "print(ml_engineer_postings)"
      ]
    },
    {
      "cell_type": "code",
      "execution_count": null,
      "metadata": {
        "colab": {
          "base_uri": "https://localhost:8080/"
        },
        "id": "JCWaLrf7JK0A",
        "outputId": "9dcf5b33-4e75-4486-ca2a-96ab8d38285c"
      },
      "outputs": [
        {
          "output_type": "stream",
          "name": "stdout",
          "text": [
            "120\n",
            "80\n",
            "50\n"
          ]
        }
      ],
      "source": [
        "job_postings = (120, 80, 50)\n",
        "data_scientist_postings, data_analyst_postings, ml_engineer_postings = job_postings\n",
        "print(data_scientist_postings)\n",
        "print(data_analyst_postings)\n",
        "print(ml_engineer_postings) #lo mismo, mas directo que el de arriba"
      ]
    },
    {
      "cell_type": "code",
      "execution_count": null,
      "metadata": {
        "colab": {
          "base_uri": "https://localhost:8080/"
        },
        "id": "soI6jOQ4JVFQ",
        "outputId": "dd4dd03e-ac5c-4d2a-eb34-9b4d7b216d13"
      },
      "outputs": [
        {
          "output_type": "stream",
          "name": "stdout",
          "text": [
            "50\n"
          ]
        }
      ],
      "source": [
        "job_details = (('Data Scientist', 120), ('Data Analyst', 80), ('Machine Learning Engineer', 50))\n",
        "\n",
        "print(job_details[2][1]) # 2 hace referencia al lugar 2 en la lista, 0 = data scientist, 1 = data analyst, 2 = MLE y el [1] al dato que tiene dentro"
      ]
    },
    {
      "cell_type": "code",
      "execution_count": null,
      "metadata": {
        "colab": {
          "base_uri": "https://localhost:8080/"
        },
        "id": "Rx95hyv8LI6A",
        "outputId": "6656be48-a259-404c-d63d-ff2f8762b088"
      },
      "outputs": [
        {
          "output_type": "stream",
          "name": "stdout",
          "text": [
            "True\n"
          ]
        }
      ],
      "source": [
        "job_title1 = 'Data Engineer'\n",
        "job_title2 = 'Data Scientist'\n",
        "\n",
        "print(job_title1 is not job_title2)"
      ]
    },
    {
      "cell_type": "code",
      "execution_count": null,
      "metadata": {
        "colab": {
          "base_uri": "https://localhost:8080/"
        },
        "id": "ML92MH9eL4IJ",
        "outputId": "94741703-18cd-44b3-cc00-d3afcbc057de"
      },
      "outputs": [
        {
          "output_type": "stream",
          "name": "stdout",
          "text": [
            "True\n"
          ]
        }
      ],
      "source": [
        "job_locations = ['New York', 'San Francisco', 'Austin']\n",
        "\n",
        "print('New York' in job_locations)"
      ]
    },
    {
      "cell_type": "code",
      "execution_count": null,
      "metadata": {
        "colab": {
          "base_uri": "https://localhost:8080/"
        },
        "id": "mEnpVmr3MLfw",
        "outputId": "51656af3-6dcd-4850-af3f-3ca7eea6534b"
      },
      "outputs": [
        {
          "output_type": "stream",
          "name": "stdout",
          "text": [
            "True\n"
          ]
        }
      ],
      "source": [
        "job_title = 'Data Analyst'\n",
        "job_description = 'Data Scientist at Tech Corp'\n",
        "\n",
        "print(job_title not in job_description)"
      ]
    },
    {
      "cell_type": "code",
      "execution_count": null,
      "metadata": {
        "colab": {
          "base_uri": "https://localhost:8080/"
        },
        "id": "eKhHvv0YMZrZ",
        "outputId": "e457788c-f231-43e2-fbf3-e5f301d9b3b0"
      },
      "outputs": [
        {
          "output_type": "stream",
          "name": "stdout",
          "text": [
            "True\n"
          ]
        }
      ],
      "source": [
        "job_titles = ['Data Scientist', 'Data Analyst', 'Machine Learning Engineer']\n",
        "\n",
        "print('Data Scientist' and 'Machine Learning Engineer' in job_titles)"
      ]
    },
    {
      "cell_type": "code",
      "execution_count": null,
      "metadata": {
        "colab": {
          "base_uri": "https://localhost:8080/"
        },
        "id": "CmSojj47MtfT",
        "outputId": "29370ff0-d1ae-48cf-812d-3a56bfdbd506"
      },
      "outputs": [
        {
          "output_type": "stream",
          "name": "stdout",
          "text": [
            "116720\n"
          ]
        }
      ],
      "source": [
        "salary1 = 100000\n",
        "salary2 = 50000\n",
        "\n",
        "result = salary1 | salary2\n",
        "print(result)"
      ]
    },
    {
      "cell_type": "code",
      "execution_count": null,
      "metadata": {
        "colab": {
          "base_uri": "https://localhost:8080/"
        },
        "id": "RNicAalwM8E-",
        "outputId": "430cf6e2-c763-4d4c-e107-5b671ca9f365"
      },
      "outputs": [
        {
          "output_type": "stream",
          "name": "stdout",
          "text": [
            "Data Scientist\n",
            "Data Analyst\n",
            "Machine Learning Engineer\n"
          ]
        }
      ],
      "source": [
        "job_titles = ['Data Scientist', 'Data Analyst', 'Machine Learning Engineer']\n",
        "\n",
        "for title in job_titles:\n",
        "  print(title)"
      ]
    },
    {
      "cell_type": "code",
      "execution_count": null,
      "metadata": {
        "colab": {
          "base_uri": "https://localhost:8080/"
        },
        "id": "hpQJiXrQNzGr",
        "outputId": "a88407a6-c541-4d17-8e93-45a545c0d339"
      },
      "outputs": [
        {
          "output_type": "stream",
          "name": "stdout",
          "text": [
            "75\n"
          ]
        }
      ],
      "source": [
        "index = 0\n",
        "total_postings = 0\n",
        "\n",
        "job_postings = [5, 10, 15, 20, 25]\n",
        "\n",
        "while index < len(job_postings):\n",
        "  total_postings += job_postings[index]\n",
        "  index += 1\n",
        "print(total_postings)"
      ]
    },
    {
      "cell_type": "markdown",
      "metadata": {
        "id": "CcPZ6k8bCF_E"
      },
      "source": [
        "# Volviendo a empezar el curso"
      ]
    },
    {
      "cell_type": "code",
      "execution_count": null,
      "metadata": {
        "colab": {
          "base_uri": "https://localhost:8080/"
        },
        "id": "uymoSuwsCHoq",
        "outputId": "950548d5-29cd-415c-89e3-e6ad914880e2"
      },
      "outputs": [
        {
          "output_type": "stream",
          "name": "stdout",
          "text": [
            "42\n"
          ]
        }
      ],
      "source": [
        "job_count = 42\n",
        "print(job_count)"
      ]
    },
    {
      "cell_type": "code",
      "execution_count": null,
      "metadata": {
        "colab": {
          "base_uri": "https://localhost:8080/"
        },
        "id": "oa42u7a1Cfc_",
        "outputId": "26be3074-7ab7-47bc-8be7-7c15834e3553"
      },
      "outputs": [
        {
          "output_type": "stream",
          "name": "stdout",
          "text": [
            "Data Engineer DataWorks True\n"
          ]
        }
      ],
      "source": [
        "job_title = \"Data Engineer\"\n",
        "company_name = \"DataWorks\"\n",
        "wfh = True\n",
        "\n",
        "print(job_title, company_name, wfh)"
      ]
    },
    {
      "cell_type": "code",
      "execution_count": null,
      "metadata": {
        "colab": {
          "base_uri": "https://localhost:8080/"
        },
        "id": "y1OAdXFyC0Bj",
        "outputId": "7ff09ad8-ae6e-466a-97bf-8f241fec8b9c"
      },
      "outputs": [
        {
          "output_type": "stream",
          "name": "stdout",
          "text": [
            "140000\n"
          ]
        }
      ],
      "source": [
        "base_salary = 120_000\n",
        "bonus_salary = 20_000\n",
        "total_salary = base_salary + bonus_salary\n",
        "\n",
        "print(total_salary)"
      ]
    },
    {
      "cell_type": "code",
      "execution_count": null,
      "metadata": {
        "colab": {
          "base_uri": "https://localhost:8080/"
        },
        "id": "8_VxOju5DJu-",
        "outputId": "bd7001e3-8fa7-42b7-c158-5e48e38dcfb9"
      },
      "outputs": [
        {
          "output_type": "stream",
          "name": "stdout",
          "text": [
            "6000.0\n"
          ]
        }
      ],
      "source": [
        "annual_salary = 72_000\n",
        "monthly_salary = annual_salary / 12\n",
        "print(monthly_salary)"
      ]
    },
    {
      "cell_type": "code",
      "execution_count": null,
      "metadata": {
        "colab": {
          "base_uri": "https://localhost:8080/"
        },
        "id": "VKdET9yjDtM6",
        "outputId": "d6660312-8b96-4fd3-e97c-aafb99e4344a"
      },
      "outputs": [
        {
          "output_type": "stream",
          "name": "stdout",
          "text": [
            "for the role Data Scientist at AI Solutions the salary was 110000 and bonus was 11000.0 so the total compensation is 121000.0\n"
          ]
        }
      ],
      "source": [
        "job_title = \"Data Scientist\"\n",
        "company_name = \"AI Solutions\"\n",
        "salary = 110_000\n",
        "bonus = salary * .1\n",
        "total_compensation = salary + bonus\n",
        "\n",
        "print(\"for the role\", job_title, \"at\", company_name, \"the salary was\", salary, \"and bonus was\", bonus, \"so the total compensation is\", total_compensation)"
      ]
    },
    {
      "cell_type": "code",
      "execution_count": null,
      "metadata": {
        "colab": {
          "base_uri": "https://localhost:8080/"
        },
        "id": "AcpJnEQkFKbw",
        "outputId": "7045245c-902b-49ee-8676-f78d9e9ebf37"
      },
      "outputs": [
        {
          "output_type": "stream",
          "name": "stdout",
          "text": [
            "<class 'str'>\n"
          ]
        }
      ],
      "source": [
        "job_title = 'Data Scientist'\n",
        "print(type(job_title))"
      ]
    },
    {
      "cell_type": "code",
      "execution_count": null,
      "metadata": {
        "colab": {
          "base_uri": "https://localhost:8080/"
        },
        "id": "OHb4Qcf1IIc1",
        "outputId": "af2e6c6c-a24d-4b05-93a5-e1666e3770af"
      },
      "outputs": [
        {
          "output_type": "stream",
          "name": "stdout",
          "text": [
            "<class 'float'>\n"
          ]
        }
      ],
      "source": [
        "salary = 85000.50\n",
        "print(type(salary))\n"
      ]
    },
    {
      "cell_type": "code",
      "execution_count": null,
      "metadata": {
        "colab": {
          "base_uri": "https://localhost:8080/"
        },
        "id": "eJUBKR2lIXSL",
        "outputId": "8650821e-0e54-42a5-dee1-1e99d710df34"
      },
      "outputs": [
        {
          "output_type": "stream",
          "name": "stdout",
          "text": [
            "120000\n"
          ]
        }
      ],
      "source": [
        "salary_rate = 120000.75\n",
        "new_salary = int(salary_rate)\n",
        "print(new_salary)"
      ]
    },
    {
      "cell_type": "code",
      "execution_count": null,
      "metadata": {
        "colab": {
          "base_uri": "https://localhost:8080/"
        },
        "id": "bQaLeumsLO_n",
        "outputId": "f1e8a37d-c181-40da-8f60-b55401440c43"
      },
      "outputs": [
        {
          "output_type": "stream",
          "name": "stdout",
          "text": [
            "True\n"
          ]
        }
      ],
      "source": [
        "company_name = 'DataWiz Inc.'\n",
        "is_instance = isinstance(company_name, str)\n",
        "print(is_instance)"
      ]
    },
    {
      "cell_type": "code",
      "execution_count": null,
      "metadata": {
        "colab": {
          "base_uri": "https://localhost:8080/"
        },
        "id": "ievOF_kcLaVj",
        "outputId": "bf183b20-0291-478d-a592-4674e1477ea6"
      },
      "outputs": [
        {
          "output_type": "stream",
          "name": "stdout",
          "text": [
            "DATA SCIENTIST\n"
          ]
        }
      ],
      "source": [
        "job_title = 'data scientist'\n",
        "print(job_title.upper())"
      ]
    },
    {
      "cell_type": "code",
      "execution_count": null,
      "metadata": {
        "colab": {
          "base_uri": "https://localhost:8080/"
        },
        "id": "MtC36VHeLoFM",
        "outputId": "948ba3e5-0427-4db2-fdfa-d50f7f19bbf9"
      },
      "outputs": [
        {
          "output_type": "stream",
          "name": "stdout",
          "text": [
            "Data Engineer\n"
          ]
        }
      ],
      "source": [
        "job_title = 'Data Analyst'\n",
        "print(job_title.replace('Analyst', 'Engineer'))\n"
      ]
    },
    {
      "cell_type": "code",
      "execution_count": null,
      "metadata": {
        "colab": {
          "base_uri": "https://localhost:8080/"
        },
        "id": "6WZCKIgHL0ue",
        "outputId": "99fd407a-49a8-4287-a37a-c0136157899a"
      },
      "outputs": [
        {
          "output_type": "stream",
          "name": "stdout",
          "text": [
            "Senior Data Analyst\n"
          ]
        }
      ],
      "source": [
        "seniority_level = 'Senior'\n",
        "job_title = 'Data Analyst'\n",
        "print(seniority_level, \"\" + job_title)"
      ]
    },
    {
      "cell_type": "code",
      "execution_count": null,
      "metadata": {
        "colab": {
          "base_uri": "https://localhost:8080/"
        },
        "id": "TALp15_IMCTP",
        "outputId": "1a990d3c-82c1-4199-9554-061251f3fccd"
      },
      "outputs": [
        {
          "output_type": "stream",
          "name": "stdout",
          "text": [
            "14\n"
          ]
        }
      ],
      "source": [
        "job_title = 'Data Scientist'\n",
        "job_lenght = len(job_title)\n",
        "print(job_lenght)"
      ]
    },
    {
      "cell_type": "code",
      "execution_count": null,
      "metadata": {
        "colab": {
          "base_uri": "https://localhost:8080/"
        },
        "id": "4QpNI0tzNS1O",
        "outputId": "421d0059-fc10-483d-97a9-de55b640ab02"
      },
      "outputs": [
        {
          "output_type": "stream",
          "name": "stdout",
          "text": [
            "data engineer\n"
          ]
        }
      ],
      "source": [
        "job_title = 'DATA ENGINEER'\n",
        "print(job_title.lower())"
      ]
    },
    {
      "cell_type": "code",
      "execution_count": null,
      "metadata": {
        "colab": {
          "base_uri": "https://localhost:8080/"
        },
        "id": "nSdTPSYtPWzW",
        "outputId": "cebc4f62-e493-49f1-925d-a19a2fd23295"
      },
      "outputs": [
        {
          "output_type": "stream",
          "name": "stdout",
          "text": [
            "Job Title: Data Scientist\n"
          ]
        }
      ],
      "source": [
        "job_title = 'Data Scientist'\n",
        "title = 'Job Title: ' + job_title\n",
        "print(title)"
      ]
    },
    {
      "cell_type": "code",
      "execution_count": null,
      "metadata": {
        "colab": {
          "base_uri": "https://localhost:8080/"
        },
        "id": "xaVgmz0OPkcp",
        "outputId": "61dcc3fd-c0f3-410b-9f52-6e5234f04604"
      },
      "outputs": [
        {
          "output_type": "stream",
          "name": "stdout",
          "text": [
            "Data Scientist at DataWiz Inc.\n"
          ]
        }
      ],
      "source": [
        "position = 'Data Scientist'\n",
        "company = 'DataWiz Inc.'\n",
        "\n",
        "print(f'{position} at {company}')"
      ]
    },
    {
      "cell_type": "code",
      "execution_count": null,
      "metadata": {
        "colab": {
          "base_uri": "https://localhost:8080/"
        },
        "id": "3oq77X8wQznT",
        "outputId": "8ea82aec-adb2-46a7-efc2-c3ec85e61c9b"
      },
      "outputs": [
        {
          "output_type": "stream",
          "name": "stdout",
          "text": [
            "Role: Data Analyst, Skill: Python\n"
          ]
        }
      ],
      "source": [
        "role = 'Data Analyst'\n",
        "skill = 'Python'\n",
        "result = 'Role: {}, Skill: {}'.format(role, skill)\n",
        "print(result)"
      ]
    },
    {
      "cell_type": "code",
      "execution_count": null,
      "metadata": {
        "colab": {
          "base_uri": "https://localhost:8080/"
        },
        "id": "2i8mGLZhRiZn",
        "outputId": "734ca296-521d-4ac0-c58b-b222a8bd524e"
      },
      "outputs": [
        {
          "output_type": "stream",
          "name": "stdout",
          "text": [
            "Role: Data Engineer, Skill: SQL\n"
          ]
        }
      ],
      "source": [
        "role = 'Data Engineer'\n",
        "skill = 'SQL'\n",
        "result = 'Role: %s, Skill: %s' % (role, skill)\n",
        "print(result)"
      ]
    },
    {
      "cell_type": "code",
      "execution_count": null,
      "metadata": {
        "colab": {
          "base_uri": "https://localhost:8080/",
          "height": 35
        },
        "id": "QxMQbb0ASra-",
        "outputId": "1462af0a-c019-47b0-d34e-a36f81f94a79"
      },
      "outputs": [
        {
          "output_type": "execute_result",
          "data": {
            "text/plain": [
              "'L, e, b, u'"
            ],
            "application/vnd.google.colaboratory.intrinsic+json": {
              "type": "string"
            }
          },
          "metadata": {},
          "execution_count": 202
        }
      ],
      "source": [
        "city_to_travel = \"Lebu\"\n",
        "', '.join(city_to_travel)"
      ]
    },
    {
      "cell_type": "code",
      "execution_count": null,
      "metadata": {
        "colab": {
          "base_uri": "https://localhost:8080/",
          "height": 35
        },
        "id": "PwUD1_BM0Qh7",
        "outputId": "31a51ac6-481c-4aad-a39f-61751e628ea5"
      },
      "outputs": [
        {
          "output_type": "execute_result",
          "data": {
            "text/plain": [
              "'Lebu, New York, Paris, Talca'"
            ],
            "application/vnd.google.colaboratory.intrinsic+json": {
              "type": "string"
            }
          },
          "metadata": {},
          "execution_count": 203
        }
      ],
      "source": [
        "citys = ['Lebu', 'New York', \"Paris\", \"Talca\"]\n",
        "', '.join(citys)"
      ]
    },
    {
      "cell_type": "code",
      "execution_count": null,
      "metadata": {
        "id": "gkzy-SH_06k0"
      },
      "outputs": [],
      "source": [
        "# Recuerda de siempre usar los f strings ya que son los mejores en cuanto a lectura pero siempre podrías usar los otros siempr y cuando tu equipo lo haga saber"
      ]
    },
    {
      "cell_type": "code",
      "execution_count": null,
      "metadata": {
        "colab": {
          "base_uri": "https://localhost:8080/"
        },
        "id": "EH4Bk0px1iFh",
        "outputId": "167c3c8f-67b7-4ec3-b533-478f43d8bfdc"
      },
      "outputs": [
        {
          "output_type": "stream",
          "name": "stdout",
          "text": [
            "96000\n"
          ]
        }
      ],
      "source": [
        "monthly_salary = 8000\n",
        "annual_salary = 8000 * 12\n",
        "print(annual_salary)"
      ]
    },
    {
      "cell_type": "code",
      "execution_count": null,
      "metadata": {
        "colab": {
          "base_uri": "https://localhost:8080/"
        },
        "id": "VxrxR9Wt1mhR",
        "outputId": "43afcdff-5bfd-4a04-af9a-c865ca429b86"
      },
      "outputs": [
        {
          "output_type": "stream",
          "name": "stdout",
          "text": [
            "False\n"
          ]
        }
      ],
      "source": [
        "avg_salary_analyst = 70000\n",
        "avg_salary_scientist = 85000\n",
        "result = avg_salary_analyst > avg_salary_scientist\n",
        "print(result)"
      ]
    },
    {
      "cell_type": "code",
      "execution_count": null,
      "metadata": {
        "colab": {
          "base_uri": "https://localhost:8080/"
        },
        "id": "lJxwBNWl14_B",
        "outputId": "551c3da8-099b-4663-e628-2cd55991ccdf"
      },
      "outputs": [
        {
          "output_type": "stream",
          "name": "stdout",
          "text": [
            "56\n"
          ]
        }
      ],
      "source": [
        "total_applications = 123\n",
        "job_openings = 67\n",
        "result = total_applications % job_openings\n",
        "print(result)"
      ]
    },
    {
      "cell_type": "code",
      "execution_count": null,
      "metadata": {
        "colab": {
          "base_uri": "https://localhost:8080/"
        },
        "id": "rVoQ55Wm2p-5",
        "outputId": "29278c33-3b34-4bd8-e7a8-c110dd6ffbe9"
      },
      "outputs": [
        {
          "output_type": "stream",
          "name": "stdout",
          "text": [
            "25\n"
          ]
        }
      ],
      "source": [
        "job_postings = 20\n",
        "job_postings += 5\n",
        "print(job_postings)"
      ]
    },
    {
      "cell_type": "code",
      "execution_count": null,
      "metadata": {
        "colab": {
          "base_uri": "https://localhost:8080/"
        },
        "id": "jpd12Cih3NVL",
        "outputId": "7b53a2c2-7909-49db-c366-0b2211915a0e"
      },
      "outputs": [
        {
          "output_type": "stream",
          "name": "stdout",
          "text": [
            "85000\n"
          ]
        }
      ],
      "source": [
        "min_salary = 50000\n",
        "max_salary = 120000\n",
        "avg_salary = (min_salary + max_salary) / 2\n",
        "print(int(avg_salary))"
      ]
    },
    {
      "cell_type": "code",
      "execution_count": null,
      "metadata": {
        "colab": {
          "base_uri": "https://localhost:8080/"
        },
        "id": "rEkgeii_3ZID",
        "outputId": "3cb4c272-eb51-4929-d31b-8636ffe9a642"
      },
      "outputs": [
        {
          "output_type": "stream",
          "name": "stdout",
          "text": [
            "you're intermediate to python\n"
          ]
        }
      ],
      "source": [
        "python_experience = 3\n",
        "\n",
        "if python_experience < 2:\n",
        "  print(\"you're beginner to python\")\n",
        "else:\n",
        "    print(\"you're intermediate to python\")"
      ]
    },
    {
      "cell_type": "code",
      "execution_count": null,
      "metadata": {
        "colab": {
          "base_uri": "https://localhost:8080/"
        },
        "id": "kfVBEkml5vav",
        "outputId": "941e57a9-281b-411c-ccca-de28503ba24b"
      },
      "outputs": [
        {
          "output_type": "stream",
          "name": "stdout",
          "text": [
            "Intermediate\n"
          ]
        }
      ],
      "source": [
        "tools_known = 3\n",
        "\n",
        "if tools_known <= 1:\n",
        "  skill_level = \"Beginner\"\n",
        "elif tools_known <= 4:\n",
        "  skill_level = \"Intermediate\"\n",
        "elif tools_known > 4:\n",
        "  skill_level = \"Advanced\"\n",
        "else:\n",
        "  print(\"You're a Match.\")\n",
        "print(skill_level)"
      ]
    },
    {
      "cell_type": "code",
      "execution_count": null,
      "metadata": {
        "colab": {
          "base_uri": "https://localhost:8080/"
        },
        "id": "4xEfyJ5Y65nC",
        "outputId": "44849948-005c-4efa-a539-d78774e82261"
      },
      "outputs": [
        {
          "output_type": "stream",
          "name": "stdout",
          "text": [
            "Senior Analyst\n"
          ]
        }
      ],
      "source": [
        "job_experience = 4\n",
        "sql_experience = 2\n",
        "\n",
        "\n",
        "    # Less than 2 years of job experience is 'Junior Analyst'.\n",
        "    # 2 to 5 years of job experience and 1 year of SQL experience is 'Intermediate Analyst'.\n",
        "    # 2 to 5 years of job experience and 2 or more years of SQL experience is 'Senior Analyst'.\n",
        "    # More than 5 years of job experience and 3 or more years of SQL experience is 'Lead Analyst'.\n",
        "    # More than 5 years of job experience and less than 3 years of SQL experience is 'Data Analyst'.\n",
        "\n",
        "if job_experience <= 2:\n",
        "  skill_experience = \"Junior Analyst\"\n",
        "elif job_experience <= 5 and sql_experience == 1:\n",
        "  skill_experience = \"Intermediate Analyst\"\n",
        "elif job_experience <= 5 and sql_experience >= 2:\n",
        "  skill_experience = \"Senior Analyst\"\n",
        "elif job_experience > 5 and sql_experience >= 3:\n",
        "  skill_experience = \"Lead Analyst\"\n",
        "elif job_experience > 5 and sql_experience < 3:\n",
        "  skill_experience = \"Data Analyst\"\n",
        "else:\n",
        "  skill_experience = \"We will be in contact.\"\n",
        "\n",
        "print(skill_experience)"
      ]
    },
    {
      "cell_type": "code",
      "execution_count": null,
      "metadata": {
        "colab": {
          "base_uri": "https://localhost:8080/"
        },
        "id": "gPa3MBIn-raA",
        "outputId": "59d97825-d827-4f7a-adec-db58e1200eff"
      },
      "outputs": [
        {
          "output_type": "stream",
          "name": "stdout",
          "text": [
            "Data Analyst\n"
          ]
        }
      ],
      "source": [
        "job_titles = ['Data Scientist', 'Data Analyst', 'Machine Learning Engineer']\n",
        "print(job_titles[1])"
      ]
    },
    {
      "cell_type": "code",
      "execution_count": null,
      "metadata": {
        "colab": {
          "base_uri": "https://localhost:8080/"
        },
        "id": "hV8lg6S8_CyL",
        "outputId": "26c633f5-b61b-43cc-fcee-bcdeb49a7d53"
      },
      "outputs": [
        {
          "output_type": "stream",
          "name": "stdout",
          "text": [
            "['Data Scientist', 'Data Analyst', 'AI Specialist']\n"
          ]
        }
      ],
      "source": [
        "job_titles = ['Data Scientist', 'Data Analyst', 'Machine Learning Engineer']\n",
        "job_titles[2] = 'AI Specialist'\n",
        "print(job_titles)"
      ]
    },
    {
      "cell_type": "code",
      "execution_count": null,
      "metadata": {
        "colab": {
          "base_uri": "https://localhost:8080/"
        },
        "id": "1mXEQ1Pr_awl",
        "outputId": "dd2324ef-c8f8-4425-f440-ab7ba007ef16"
      },
      "outputs": [
        {
          "output_type": "execute_result",
          "data": {
            "text/plain": [
              "['Data Scientist', 'Data Analyst']"
            ]
          },
          "metadata": {},
          "execution_count": 215
        }
      ],
      "source": [
        "job_titles = ['Data Scientist', 'Data Analyst', 'Machine Learning Engineer', 'Data Engineer']\n",
        "job_titles[:2]"
      ]
    },
    {
      "cell_type": "code",
      "execution_count": null,
      "metadata": {
        "id": "UPkLdspXEQhL",
        "colab": {
          "base_uri": "https://localhost:8080/"
        },
        "outputId": "1c6568a5-d2f6-4fb1-80ac-d90604dfcaa4"
      },
      "outputs": [
        {
          "output_type": "stream",
          "name": "stdout",
          "text": [
            "['Data Scientist', 'Data Analyst', 'Machine Learning Engineer', 'Data Engineer']\n"
          ]
        }
      ],
      "source": [
        "job_titles = ['Data Scientist', 'Data Analyst', 'Machine Learning Engineer']\n",
        "job_titles.append('Data Engineer')\n",
        "print(job_titles)"
      ]
    },
    {
      "cell_type": "code",
      "execution_count": null,
      "metadata": {
        "id": "79XDa13nFiEw",
        "colab": {
          "base_uri": "https://localhost:8080/"
        },
        "outputId": "8bdd2b8f-6798-44e3-a176-0827fcbc9618"
      },
      "outputs": [
        {
          "output_type": "stream",
          "name": "stdout",
          "text": [
            "['Data Scientist', 'Business Analyst', 'Data Analyst', 'Machine Learning Engineer']\n"
          ]
        }
      ],
      "source": [
        "job_titles = ['Data Scientist', 'Data Analyst', 'Machine Learning Engineer']\n",
        "job_titles.insert(1, 'Business Analyst')\n",
        "print(job_titles)"
      ]
    },
    {
      "cell_type": "code",
      "execution_count": null,
      "metadata": {
        "id": "edekgK61JgYu",
        "colab": {
          "base_uri": "https://localhost:8080/"
        },
        "outputId": "bd7adf0c-48ec-4f92-961c-a7f6ffa21fa5"
      },
      "outputs": [
        {
          "output_type": "stream",
          "name": "stdout",
          "text": [
            "80\n"
          ]
        }
      ],
      "source": [
        "job_postings = {'Data Scientist': 120, 'Data Analyst': 80, 'Machine Learning Engineer': 50}\n",
        "print(job_postings['Data Analyst'])"
      ]
    },
    {
      "cell_type": "code",
      "execution_count": null,
      "metadata": {
        "id": "2Costp3DJ957",
        "colab": {
          "base_uri": "https://localhost:8080/"
        },
        "outputId": "47808a5d-f8b5-4319-8eec-256315bb92ec"
      },
      "outputs": [
        {
          "output_type": "stream",
          "name": "stdout",
          "text": [
            "{'Data Scientist': 120, 'Data Analyst': 80, 'Machine Learning Engineer': 50, 'AI Specialist': 30}\n"
          ]
        }
      ],
      "source": [
        "job_postings = {'Data Scientist': 120, 'Data Analyst': 80, 'Machine Learning Engineer': 50}\n",
        "job_postings.update({'AI Specialist': 30}) # job_postings['AI Specialist'] = 30 era la solución. Ambos te dan el resultado igualmente\n",
        "print(job_postings)"
      ]
    },
    {
      "cell_type": "code",
      "execution_count": null,
      "metadata": {
        "id": "H61YoYqOKan1",
        "colab": {
          "base_uri": "https://localhost:8080/"
        },
        "outputId": "ba34c9ef-d709-487b-81de-22964558d195"
      },
      "outputs": [
        {
          "output_type": "stream",
          "name": "stdout",
          "text": [
            "{'Data Scientist': 120, 'Data Analyst': 80}\n"
          ]
        }
      ],
      "source": [
        "job_postings = {'Data Scientist': 120, 'Data Analyst': 80, 'Machine Learning Engineer': 50}\n",
        "job_postings.pop('Machine Learning Engineer')\n",
        "print(job_postings)"
      ]
    },
    {
      "cell_type": "code",
      "execution_count": null,
      "metadata": {
        "id": "TxjyxPEbMdFJ",
        "colab": {
          "base_uri": "https://localhost:8080/"
        },
        "outputId": "77a4f6f4-ca50-4055-d500-52e2aefe6ad0"
      },
      "outputs": [
        {
          "output_type": "stream",
          "name": "stdout",
          "text": [
            "{'Data Scientist': 120, 'Data Analyst': 80, 'Machine Learning Engineer': 50, 'AI Specialist': 30}\n"
          ]
        }
      ],
      "source": [
        "job_postings1 = {'Data Scientist': 120, 'Data Analyst': 80}\n",
        "job_postings2 = {'Machine Learning Engineer': 50, 'AI Specialist': 30}\n",
        "job_postings1.update(job_postings2)\n",
        "print(job_postings1)"
      ]
    },
    {
      "cell_type": "code",
      "execution_count": null,
      "metadata": {
        "id": "pc1yjMOLNIhd",
        "colab": {
          "base_uri": "https://localhost:8080/"
        },
        "outputId": "9c2bfd71-fb96-4a48-e70e-066bced22d0c"
      },
      "outputs": [
        {
          "output_type": "stream",
          "name": "stdout",
          "text": [
            "{'job_role': 'Data Scientist', 'postings': 120, 'average_salary': 120000} {'job_role': 'Data Analyst', 'postings': 80, 'average_salary': 80000} {'job_role': 'Machine Learning Engineer', 'postings': 50, 'average_salary': 110000}\n"
          ]
        }
      ],
      "source": [
        "job_details1 = {\n",
        "    'job_role': 'Data Scientist',\n",
        "    'postings': 120,\n",
        "    'average_salary': 120000\n",
        "}\n",
        "\n",
        "job_details2 = {\n",
        "    'job_role': 'Data Analyst',\n",
        "    'postings': 80,\n",
        "    'average_salary': 80000\n",
        "}\n",
        "\n",
        "job_details3 = {\n",
        "    'job_role': 'Machine Learning Engineer',\n",
        "    'postings': 50,\n",
        "    'average_salary': 110000\n",
        "}\n",
        "\n",
        "print(job_details1, job_details2, job_details3)\n",
        "\n",
        "# Se tenia que hacer asi:\n",
        "\n",
        "# job_details = {\n",
        "#     'Data Scientist': {'postings': 120, 'average_salary': 120000},\n",
        "#     'Data Analyst': {'postings': 80, 'average_salary': 80000},\n",
        "#     'Machine Learning Engineer': {'postings': 50, 'average_salary': 110000}\n",
        "# }\n",
        "# print(job_details)"
      ]
    },
    {
      "cell_type": "code",
      "execution_count": null,
      "metadata": {
        "id": "RBpKy-avOnOX",
        "colab": {
          "base_uri": "https://localhost:8080/"
        },
        "outputId": "38c416f6-c448-4844-ff9b-cd42c57149ee"
      },
      "outputs": [
        {
          "output_type": "stream",
          "name": "stdout",
          "text": [
            "{'Data Scientist', 'Data Analyst', 'Machine Learning Engineer', 'AI Specialist'}\n"
          ]
        }
      ],
      "source": [
        "unique_job_titles = {'Data Scientist', 'Data Analyst', 'Machine Learning Engineer'}\n",
        "unique_job_titles.add('AI Specialist')\n",
        "print(unique_job_titles)"
      ]
    },
    {
      "cell_type": "code",
      "execution_count": null,
      "metadata": {
        "id": "y9agpqqRPEzO",
        "colab": {
          "base_uri": "https://localhost:8080/"
        },
        "outputId": "d48e1b26-26c4-4af4-8a77-f59e853ccc83"
      },
      "outputs": [
        {
          "output_type": "stream",
          "name": "stdout",
          "text": [
            "{'Data Scientist', 'Machine Learning Engineer'}\n"
          ]
        }
      ],
      "source": [
        "unique_job_titles = {'Data Scientist', 'Data Analyst', 'Machine Learning Engineer'}\n",
        "unique_job_titles.remove('Data Analyst')\n",
        "print(unique_job_titles)"
      ]
    },
    {
      "cell_type": "code",
      "execution_count": null,
      "metadata": {
        "id": "iWJKALXMPXp_",
        "colab": {
          "base_uri": "https://localhost:8080/"
        },
        "outputId": "3cf95c14-792a-40d2-b0dc-7884f43f3c0e"
      },
      "outputs": [
        {
          "output_type": "stream",
          "name": "stdout",
          "text": [
            "{'San Francisco', 'Austin', 'New York'}\n"
          ]
        }
      ],
      "source": [
        "job_locations = ['New York', 'San Francisco', 'New York', 'Austin', 'San Francisco']\n",
        "print(set(job_locations))\n"
      ]
    },
    {
      "cell_type": "code",
      "execution_count": null,
      "metadata": {
        "id": "cl5wdBtgQKxv",
        "colab": {
          "base_uri": "https://localhost:8080/"
        },
        "outputId": "451cacbf-83b7-4419-cc58-4b1e82bd2e94"
      },
      "outputs": [
        {
          "output_type": "stream",
          "name": "stdout",
          "text": [
            "{'Tableau', 'SQL', 'Machine Learning', 'Python', 'R'}\n"
          ]
        }
      ],
      "source": [
        "skills_set1 = {'Python', 'SQL', 'Tableau'}\n",
        "skills_set2 = {'R', 'SQL', 'Machine Learning'}\n",
        "result = skills_set1.union(skills_set2)\n",
        "print(result)"
      ]
    },
    {
      "cell_type": "code",
      "execution_count": null,
      "metadata": {
        "id": "t_tCkNAoQm1g",
        "colab": {
          "base_uri": "https://localhost:8080/"
        },
        "outputId": "4373f20f-f919-4adf-dfc8-34d862f27793"
      },
      "outputs": [
        {
          "output_type": "stream",
          "name": "stdout",
          "text": [
            "Data Analyst\n"
          ]
        }
      ],
      "source": [
        "job_roles = ('Data Scientist', 'Data Analyst', 'Machine Learning Engineer')\n",
        "print(job_roles[1])"
      ]
    },
    {
      "cell_type": "code",
      "execution_count": null,
      "metadata": {
        "id": "aUoYeugoTIPp",
        "colab": {
          "base_uri": "https://localhost:8080/"
        },
        "outputId": "aecfd787-805e-4cad-b4a7-5c68e3d82361"
      },
      "outputs": [
        {
          "output_type": "execute_result",
          "data": {
            "text/plain": [
              "('Data Scientist',\n",
              " 'Data Analyst',\n",
              " 'Machine Learning Engineer',\n",
              " 'AI Specialist')"
            ]
          },
          "metadata": {},
          "execution_count": 228
        }
      ],
      "source": [
        "job_roles = ('Data Scientist', 'Data Analyst', 'Machine Learning Engineer')\n",
        "extended_job_roles = ('AI Specialist', )\n",
        "job_roles + extended_job_roles"
      ]
    },
    {
      "cell_type": "code",
      "execution_count": null,
      "metadata": {
        "id": "t-W-YoYHTbVe"
      },
      "outputs": [],
      "source": [
        "# job_roles = ('Data Scientist', 'Data Analyst', 'Machine Learning Engineer')\n",
        "# job_roles_list = list(job_roles)\n",
        "# job_roles_list.remove('Data Analyst')\n",
        "# updated_job_roles = tuple(job_roles_list)\n",
        "# print(updated_job_roles)\n",
        "\n",
        "# Esta era la forma correcta de resolverlo. No pude hacerlo"
      ]
    },
    {
      "cell_type": "code",
      "execution_count": null,
      "metadata": {
        "id": "An54c1WiWYKP",
        "colab": {
          "base_uri": "https://localhost:8080/"
        },
        "outputId": "47ba2d3c-434b-4dd2-f4b0-44ab2ca67dfe"
      },
      "outputs": [
        {
          "output_type": "stream",
          "name": "stdout",
          "text": [
            "(120, 80, 50)\n"
          ]
        }
      ],
      "source": [
        "job_postings = (120, 80, 50)\n",
        "\n",
        "data_scientist_postings, data_analyst_postings, ml_engineer_postings = job_postings\n",
        "\n",
        "print(job_postings)"
      ]
    },
    {
      "cell_type": "code",
      "execution_count": null,
      "metadata": {
        "id": "yE1lruvTWfHY",
        "colab": {
          "base_uri": "https://localhost:8080/"
        },
        "outputId": "2ec70322-370a-4020-80c9-9c450b34d2cb"
      },
      "outputs": [
        {
          "output_type": "stream",
          "name": "stdout",
          "text": [
            "120\n",
            "80\n",
            "50\n"
          ]
        }
      ],
      "source": [
        "print(data_scientist_postings)\n",
        "print(data_analyst_postings)\n",
        "print(ml_engineer_postings)"
      ]
    },
    {
      "cell_type": "code",
      "execution_count": null,
      "metadata": {
        "id": "Mtve2I1hWmzQ",
        "colab": {
          "base_uri": "https://localhost:8080/"
        },
        "outputId": "473dd6cd-5f5a-499f-f84f-097a351d53cd"
      },
      "outputs": [
        {
          "output_type": "stream",
          "name": "stdout",
          "text": [
            "50\n"
          ]
        }
      ],
      "source": [
        "job_details = (('Data Scientist', 120), ('Data Analyst', 80), ('Machine Learning Engineer', 50))\n",
        "print(job_details[2][1])"
      ]
    },
    {
      "cell_type": "code",
      "execution_count": null,
      "metadata": {
        "id": "pNS69YOtWxm2",
        "colab": {
          "base_uri": "https://localhost:8080/"
        },
        "outputId": "3dd2e500-3e8f-42e8-de6a-0a61cdf080e1"
      },
      "outputs": [
        {
          "output_type": "stream",
          "name": "stdout",
          "text": [
            "True\n"
          ]
        }
      ],
      "source": [
        "job_title1 = 'Data Engineer'\n",
        "job_title2 = 'Data Scientist'\n",
        "\n",
        "print(job_title1 is not job_title2)"
      ]
    },
    {
      "cell_type": "code",
      "execution_count": null,
      "metadata": {
        "id": "SLF10BvB2K6U",
        "colab": {
          "base_uri": "https://localhost:8080/"
        },
        "outputId": "4b5fbf32-4f88-4680-f66c-faa4aabd47ce"
      },
      "outputs": [
        {
          "output_type": "stream",
          "name": "stdout",
          "text": [
            "True\n"
          ]
        }
      ],
      "source": [
        "job_locations = ['New York', 'San Francisco', 'Austin']\n",
        "print('New York' in job_locations)"
      ]
    },
    {
      "cell_type": "code",
      "execution_count": null,
      "metadata": {
        "id": "m1ppTLG62VUk",
        "colab": {
          "base_uri": "https://localhost:8080/"
        },
        "outputId": "06b5857e-00c6-434d-ea7f-55a10b6d0587"
      },
      "outputs": [
        {
          "output_type": "stream",
          "name": "stdout",
          "text": [
            "True\n"
          ]
        }
      ],
      "source": [
        "job_title = 'Data Analyst'\n",
        "job_description = 'Data Scientist at Tech Corp'\n",
        "print(job_title not in job_description)"
      ]
    },
    {
      "cell_type": "code",
      "execution_count": null,
      "metadata": {
        "id": "l4_yotf32dxo",
        "colab": {
          "base_uri": "https://localhost:8080/"
        },
        "outputId": "8a1935f3-d585-44cd-a566-df2f1f26ed05"
      },
      "outputs": [
        {
          "output_type": "stream",
          "name": "stdout",
          "text": [
            "True\n"
          ]
        }
      ],
      "source": [
        "job_titles = ['Data Scientist', 'Data Analyst', 'Machine Learning Engineer']\n",
        "print('Data Scientist' and 'Machine Learning Engineer' in job_titles)"
      ]
    },
    {
      "cell_type": "code",
      "execution_count": null,
      "metadata": {
        "id": "8al0LeBr2nGX",
        "colab": {
          "base_uri": "https://localhost:8080/"
        },
        "outputId": "9e39ecdb-1dfa-4d4f-91a4-15ef2334e74e"
      },
      "outputs": [
        {
          "output_type": "stream",
          "name": "stdout",
          "text": [
            "116720\n"
          ]
        }
      ],
      "source": [
        "salary1 = 100000\n",
        "salary2 = 50000\n",
        "print(salary1 | salary2)"
      ]
    },
    {
      "cell_type": "code",
      "execution_count": null,
      "metadata": {
        "id": "rrKZdpcF3RrH",
        "colab": {
          "base_uri": "https://localhost:8080/"
        },
        "outputId": "fcc03484-e056-4bae-cb80-208732f9eda1"
      },
      "outputs": [
        {
          "output_type": "stream",
          "name": "stdout",
          "text": [
            "Data Scientist\n",
            "Data Analyst\n",
            "Machine Learning Engineer\n"
          ]
        }
      ],
      "source": [
        "job_titles = ['Data Scientist', 'Data Analyst', 'Machine Learning Engineer']\n",
        "\n",
        "for title in job_titles:\n",
        "  print(title)"
      ]
    },
    {
      "cell_type": "code",
      "execution_count": null,
      "metadata": {
        "id": "oAptHJvd4orG",
        "colab": {
          "base_uri": "https://localhost:8080/"
        },
        "outputId": "2d398412-7f3a-4c3f-ed28-d8532efe9685"
      },
      "outputs": [
        {
          "output_type": "stream",
          "name": "stdout",
          "text": [
            "75\n"
          ]
        }
      ],
      "source": [
        "index = 0\n",
        "total_postings = 0\n",
        "job_postings = [5, 10, 15, 20, 25]\n",
        "\n",
        "while index < len(job_postings):\n",
        "  total_postings += job_postings[index]\n",
        "  index += 1\n",
        "print(total_postings)"
      ]
    },
    {
      "cell_type": "code",
      "execution_count": null,
      "metadata": {
        "id": "NdZGCKYI5Nt7",
        "colab": {
          "base_uri": "https://localhost:8080/"
        },
        "outputId": "5c48bb62-db96-4fb6-9d33-04dd1e7e30e9"
      },
      "outputs": [
        {
          "output_type": "stream",
          "name": "stdout",
          "text": [
            "['Data Scientist', 'Data Analyst', 'Machine Learning Engineer']\n"
          ]
        }
      ],
      "source": [
        "job_titles = ['Data Scientist', 'Data Analyst', 'Machine Learning Engineer']\n",
        "result = enumerate(job_titles)\n",
        "print(job_titles)\n",
        "\n",
        "# job_titles = ['Data Scientist', 'Data Analyst', 'Machine Learning Engineer']\n",
        "# for index, title in enumerate(job_titles):\n",
        "#     print(f'{index}: {title}') este era el resultado, damn."
      ]
    },
    {
      "cell_type": "code",
      "execution_count": null,
      "metadata": {
        "id": "HFUqu7ETIo5I",
        "colab": {
          "base_uri": "https://localhost:8080/"
        },
        "outputId": "b84e2f34-e2fb-4914-b063-8d394fd6b565"
      },
      "outputs": [
        {
          "output_type": "stream",
          "name": "stdout",
          "text": [
            "Machine Learning Engineer\n"
          ]
        }
      ],
      "source": [
        "job_titles = ['Data Scientist', 'Data Analyst', 'Machine Learning Engineer', 'Software Engineer']\n",
        "\n",
        "index = 0\n",
        "while index < len(job_titles):\n",
        "    if 'Engineer' in job_titles[index]:\n",
        "        print(job_titles[index])\n",
        "        break\n",
        "    index += 1 # solución"
      ]
    },
    {
      "cell_type": "code",
      "execution_count": null,
      "metadata": {
        "id": "kOuF7kLRJcax",
        "colab": {
          "base_uri": "https://localhost:8080/"
        },
        "outputId": "6b725cf8-3153-44d8-bbc9-3b58b0c086df"
      },
      "outputs": [
        {
          "output_type": "stream",
          "name": "stdout",
          "text": [
            "0: Data Scientist\n",
            "1: Data Analyst\n",
            "2: Machine Learning Engineer\n"
          ]
        }
      ],
      "source": [
        "job_titles = ['Data Scientist', 'Data Analyst', 'Machine Learning Engineer']\n",
        "for index, title in enumerate(job_titles):\n",
        "    print(f'{index}: {title}')"
      ]
    },
    {
      "cell_type": "code",
      "execution_count": null,
      "metadata": {
        "id": "pNzoi3Idhrkv",
        "colab": {
          "base_uri": "https://localhost:8080/"
        },
        "outputId": "ace79c0f-2888-4d7e-cb0e-36568215bd22"
      },
      "outputs": [
        {
          "output_type": "stream",
          "name": "stdout",
          "text": [
            "The role of Data Scientist, requires proficiency in Python.\n",
            "The role of Data Scientist, requires proficiency in R.\n",
            "The role of Data Analyst, requires proficiency in SQL.\n",
            "The role of Data Analyst, requires proficiency in Excel.\n",
            "The role of Machine Learning Engineer, requires proficiency in Python.\n",
            "The role of Machine Learning Engineer, requires proficiency in TensorFlow.\n"
          ]
        }
      ],
      "source": [
        "positions_skills = {\n",
        "    'Data Scientist': ['Python', 'R'],\n",
        "    'Data Analyst': ['SQL', 'Excel'],\n",
        "    'Machine Learning Engineer': ['Python', 'TensorFlow']\n",
        "}\n",
        "for position, skills in positions_skills.items():\n",
        "    for skill in skills:\n",
        "        print(f'The role of {position}, requires proficiency in {skill}.')"
      ]
    },
    {
      "cell_type": "code",
      "execution_count": null,
      "metadata": {
        "id": "_w8qcPNiiH-D",
        "colab": {
          "base_uri": "https://localhost:8080/"
        },
        "outputId": "f8bffe2f-1bcf-41c2-fbcb-cbe14574097a"
      },
      "outputs": [
        {
          "output_type": "execute_result",
          "data": {
            "text/plain": [
              "[85000, 102000, 68000, 76500]"
            ]
          },
          "metadata": {},
          "execution_count": 244
        }
      ],
      "source": [
        "salaries_usd = [100000, 120000, 80000, 90000]\n",
        "salaries_eur = [int(x*0.85) for x in salaries_usd]\n",
        "salaries_eur"
      ]
    },
    {
      "cell_type": "code",
      "execution_count": null,
      "metadata": {
        "id": "ePEbsGiojz7V",
        "colab": {
          "base_uri": "https://localhost:8080/"
        },
        "outputId": "b615ff69-33bd-49ae-a9a4-91814ae01af9"
      },
      "outputs": [
        {
          "output_type": "stream",
          "name": "stdout",
          "text": [
            "['Data Scientist', 'Machine Learning Specialist']\n"
          ]
        }
      ],
      "source": [
        "job_experience = {'Data Scientist': 3, 'Data Analyst': 1, 'Machine Learning Specialist': 4, 'Data Engineer': 2}\n",
        "experienced_jobs = [job for job, exp in job_experience.items() if exp > 2]\n",
        "print(experienced_jobs) #solucion"
      ]
    },
    {
      "cell_type": "code",
      "execution_count": null,
      "metadata": {
        "id": "zU5wAQFtm6d6",
        "colab": {
          "base_uri": "https://localhost:8080/"
        },
        "outputId": "2050cf57-6308-4bb6-8c6c-be036c012925"
      },
      "outputs": [
        {
          "output_type": "stream",
          "name": "stdout",
          "text": [
            "['Data Scientist', 'Data Analyst']\n"
          ]
        }
      ],
      "source": [
        "job_salary_dicts = [{'job_title': 'Data Scientist', 'salary': 100000}, {'job_title': 'Data Analyst', 'salary': 120000}, {'job_title': 'Data Engineer', 'salary': 80000}, {'job_title': 'Machine Learning Engineer', 'salary': 90000}]\n",
        "# result = [job for job, salary in job_salary_dicts.items() if salary < 90000]\n",
        "# print(result)\n",
        "\n",
        "high_salary_jobs = [job['job_title'] for job in job_salary_dicts if job['salary'] > 90000]\n",
        "print(high_salary_jobs) #solución"
      ]
    },
    {
      "cell_type": "code",
      "execution_count": null,
      "metadata": {
        "id": "I798Av4kocEl"
      },
      "outputs": [],
      "source": [
        "# Define data science job roles and required skills\n",
        "job_roles = [\n",
        "    {'role': 'Data Analyst', 'skills': ['Python', 'SQL', 'Excel']},\n",
        "    {'role': 'Data Scientist', 'skills': ['Python', 'R', 'Machine Learning', 'Deep Learning']},\n",
        "    {'role': 'Machine Learning Engineer', 'skills': ['Python', 'TensorFlow', 'PyTorch', 'Scikit-Learn']},\n",
        "    {'role': 'Data Engineer', 'skills': ['Python', 'Apache Spark', 'Hadoop', 'SQL']},\n",
        "    {'role': 'Business Intelligence Analyst', 'skills': ['Python', 'SQL', 'Tableau', 'Power BI', 'Excel']},\n",
        "    {'role': 'Quantitative Analyst', 'skills': ['R', 'Python', 'MATLAB', 'Statistics']},\n",
        "    {'role': 'Operations Analyst', 'skills': ['Python', 'SQL', 'Data Visualization', 'Process Improvement']},\n",
        "    {'role': 'Database Administrator', 'skills': ['SQL', 'Oracle', 'MySQL', 'Database Management']},\n",
        "    {'role': 'AI Engineer', 'skills': ['Python', 'TensorFlow', 'PyTorch', 'Computer Vision']},\n",
        "    {'role': 'Statistician', 'skills': ['R', 'SAS', 'Python', 'Statistical Modeling']}\n",
        "]\n",
        "# My skills\n",
        "my_skills = ['Python', 'SQL', 'Excel']"
      ]
    },
    {
      "cell_type": "code",
      "execution_count": null,
      "metadata": {
        "id": "accXByo6qJX8",
        "colab": {
          "base_uri": "https://localhost:8080/"
        },
        "outputId": "c802460d-64ab-4397-b026-7b66af474427"
      },
      "outputs": [
        {
          "output_type": "execute_result",
          "data": {
            "text/plain": [
              "['Data Analyst', 'Business Intelligence Analyst']"
            ]
          },
          "metadata": {},
          "execution_count": 248
        }
      ],
      "source": [
        "qualified_roles=[]\n",
        "\n",
        "for job in job_roles:\n",
        "  qualified = True\n",
        "\n",
        "\n",
        "  for skill in my_skills:\n",
        "    if skill not in job['skills']:\n",
        "      qualified = False\n",
        "      break\n",
        "  if qualified:\n",
        "    qualified_roles.append(job['role'])\n",
        "\n",
        "qualified_roles"
      ]
    },
    {
      "cell_type": "code",
      "execution_count": null,
      "metadata": {
        "id": "T4umUMDKqcqV",
        "colab": {
          "base_uri": "https://localhost:8080/"
        },
        "outputId": "e9a7f0de-07c7-4a5f-a2f1-6ddae0673e3a"
      },
      "outputs": [
        {
          "output_type": "execute_result",
          "data": {
            "text/plain": [
              "3"
            ]
          },
          "metadata": {},
          "execution_count": 249
        }
      ],
      "source": [
        "skill_list = ['Python', 'SQL', 'Excel']\n",
        "\n",
        "len(skill_list)"
      ]
    },
    {
      "cell_type": "code",
      "execution_count": null,
      "metadata": {
        "id": "ZCp67aaSsNWJ",
        "colab": {
          "base_uri": "https://localhost:8080/"
        },
        "outputId": "afc6c71a-c0df-4e7b-9e41-58ee499605cd"
      },
      "outputs": [
        {
          "output_type": "stream",
          "name": "stdout",
          "text": [
            "True\n"
          ]
        }
      ],
      "source": [
        "job_title = 'Data Scientist'\n",
        "keyword = 'Data'\n",
        "job_title_contains = keyword in job_title\n",
        "\n",
        "print(job_title_contains)\n",
        "\n",
        "# def job_title_contains(job_title, keyword):\n",
        "#     return keyword in job_title\n",
        "\n",
        "# job_title = 'Data Scientist'\n",
        "# keyword = 'Data'\n",
        "# job_title_contains(job_title, keyword) solución de luke."
      ]
    },
    {
      "cell_type": "code",
      "execution_count": null,
      "metadata": {
        "id": "oZEB-bYyuCtY",
        "colab": {
          "base_uri": "https://localhost:8080/"
        },
        "outputId": "cc55f412-0544-480e-90a2-5e85583672fa"
      },
      "outputs": [
        {
          "output_type": "execute_result",
          "data": {
            "text/plain": [
              "108000.0"
            ]
          },
          "metadata": {},
          "execution_count": 251
        }
      ],
      "source": [
        "salaries = [95000, 120000, 105000, 90000, 130000]\n",
        "\n",
        "def total_salary(salaries):\n",
        "\n",
        "  avg_salary = sum(salaries) / len(salaries)\n",
        "\n",
        "  return avg_salary\n",
        "\n",
        "total_salary(salaries)\n",
        "\n",
        "# def average_salary(salaries):\n",
        "#     return sum(salaries) / len(salaries)\n",
        "\n",
        "# salaries = [95000, 120000, 105000, 90000, 130000]\n",
        "# average_salary(salaries) luke."
      ]
    },
    {
      "cell_type": "code",
      "execution_count": null,
      "metadata": {
        "id": "7F-PvWWIvt6v",
        "colab": {
          "base_uri": "https://localhost:8080/"
        },
        "outputId": "6fc6d091-a20d-4350-adc5-9f365f1ac557"
      },
      "outputs": [
        {
          "output_type": "execute_result",
          "data": {
            "text/plain": [
              "(90000, 130000, 108000.0)"
            ]
          },
          "metadata": {},
          "execution_count": 252
        }
      ],
      "source": [
        "# Create a function salary_statistics that takes a list of salaries and returns a dictionary with the minimum, maximum, and average salary. The list of salaries is set to [95000, 120000, 105000, 90000, 130000].\n",
        "\n",
        "salaries = [95000, 120000, 105000, 90000, 130000]\n",
        "\n",
        "def salary_statistics(salaries):\n",
        "  return min(salaries), max(salaries), sum(salaries) / len(salaries)\n",
        "salary_statistics(salaries)\n",
        "\n",
        "# def salary_statistics(salaries):\n",
        "#     return {\n",
        "#         'min': min(salaries),\n",
        "#         'max': max(salaries),\n",
        "#         'average': sum(salaries) / len(salaries)\n",
        "#     }\n",
        "\n",
        "# salaries = [95000, 120000, 105000, 90000, 130000]\n",
        "# salary_statistics(salaries) luke."
      ]
    },
    {
      "cell_type": "code",
      "execution_count": null,
      "metadata": {
        "id": "EoU88Ksgw3-e",
        "colab": {
          "base_uri": "https://localhost:8080/"
        },
        "outputId": "34f87779-fac2-4f7b-b022-fff385227031"
      },
      "outputs": [
        {
          "output_type": "execute_result",
          "data": {
            "text/plain": [
              "{'total_postings': 3,\n",
              " 'average_salary': 98333.33333333333,\n",
              " 'unique_locations': ['San Francisco', 'New York']}"
            ]
          },
          "metadata": {},
          "execution_count": 253
        }
      ],
      "source": [
        "# Create a function job_posting_summary that takes a list of job postings, where each posting is a dictionary with keys 'title', 'location', and 'salary', and returns a summary dictionary with the total number of postings, the average salary, and a list of unique locations. The job_postings is set to [{'title': 'Data Scientist', 'location': 'New York', 'salary': 95000}, {'title': 'Data Analyst', 'location': 'San Francisco', 'salary': 85000}, {'title': 'Machine Learning Engineer', 'location': 'New York', 'salary': 115000}].\n",
        "\n",
        "# def job_posting_summary(job_postings):\n",
        "#   return {\n",
        "#       'location'\n",
        "#       'title'\n",
        "#       'salary'\n",
        "#   }\n",
        "\n",
        "# job_postings = [\n",
        "#     {'title': 'Data Scientist', 'location': 'New York', 'salary': 95000},\n",
        "#     {'title': 'Data Analyst', 'location': 'San Francisco', 'salary': 85000},\n",
        "#     {'title': 'Machine Learning Engineer', 'location': 'New York', 'salary': 115000}\n",
        "# ]\n",
        "# set(job_postings)\n",
        "\n",
        "def job_posting_summary(job_postings):\n",
        "    total_postings = len(job_postings)\n",
        "    total_salary = sum(posting['salary'] for posting in job_postings)\n",
        "    average_salary = total_salary / total_postings\n",
        "    unique_locations = list(set(posting['location'] for posting in job_postings))\n",
        "    return {\n",
        "        'total_postings': total_postings,\n",
        "        'average_salary': average_salary,\n",
        "        'unique_locations': unique_locations\n",
        "    }\n",
        "\n",
        "job_postings = [\n",
        "    {'title': 'Data Scientist', 'location': 'New York', 'salary': 95000},\n",
        "    {'title': 'Data Analyst', 'location': 'San Francisco', 'salary': 85000},\n",
        "    {'title': 'Machine Learning Engineer', 'location': 'New York', 'salary': 115000}\n",
        "]\n",
        "job_posting_summary(job_postings)\n",
        "\n",
        "# luke"
      ]
    },
    {
      "cell_type": "code",
      "execution_count": null,
      "metadata": {
        "id": "ak2HeLyOzm0n",
        "colab": {
          "base_uri": "https://localhost:8080/"
        },
        "outputId": "023cab72-11c2-442e-9968-22f3498bc1a7"
      },
      "outputs": [
        {
          "output_type": "execute_result",
          "data": {
            "text/plain": [
              "108000.0"
            ]
          },
          "metadata": {},
          "execution_count": 254
        }
      ],
      "source": [
        "salaries = [95000, 120000, 105000, 90000, 130000]\n",
        "\n",
        "(lambda salaries: sum(salaries) / len(salaries)) (salaries)\n",
        "\n",
        "# salaries = [95000, 120000, 105000, 90000, 130000]\n",
        "# average_salary = lambda salaries: sum(salaries) / len(salaries)\n",
        "# average = average_salary(salaries)\n",
        "# average luke."
      ]
    },
    {
      "cell_type": "code",
      "execution_count": null,
      "metadata": {
        "id": "d8-_g4vx198L",
        "colab": {
          "base_uri": "https://localhost:8080/"
        },
        "outputId": "c19d6eef-dba4-41ea-e65f-8c2baf6e51c7"
      },
      "outputs": [
        {
          "output_type": "execute_result",
          "data": {
            "text/plain": [
              "['Data Scientist', 'Data Engineer', 'Data Analyst']"
            ]
          },
          "metadata": {},
          "execution_count": 255
        }
      ],
      "source": [
        "job_titles = ['Data Scientist', 'Data Engineer', 'Machine Learning Engineer', 'Data Analyst']\n",
        "\n",
        "# filter(lambda title: title['Data'], [] in job_titles) (job_titles)\n",
        "\n",
        "contains_data = lambda title: 'Data' in title\n",
        "filtered_titles = list(filter(contains_data, job_titles))\n",
        "filtered_titles\n",
        "# luke"
      ]
    },
    {
      "cell_type": "code",
      "execution_count": null,
      "metadata": {
        "id": "K1bk2IPZ3Xqt",
        "colab": {
          "base_uri": "https://localhost:8080/"
        },
        "outputId": "b4541b8f-f48c-4e2e-ba4f-c3f8f274a182"
      },
      "outputs": [
        {
          "output_type": "execute_result",
          "data": {
            "text/plain": [
              "[{'title': 'Data Scientist', 'skills': ['Python', 'SQL'], 'remote': True},\n",
              " {'title': 'Machine Learning Engineer',\n",
              "  'skills': ['Python', 'TensorFlow'],\n",
              "  'remote': True}]"
            ]
          },
          "metadata": {},
          "execution_count": 256
        }
      ],
      "source": [
        "# Create a lambda function to filter remote job postings that require Python skills from a list of job postings. The list for the variable job_postings is shown below.\n",
        "\n",
        "job_postings = [\n",
        "    {'title': 'Data Scientist', 'skills': ['Python', 'SQL'], 'remote': True},\n",
        "    {'title': 'Data Analyst', 'skills': ['Excel', 'SQL'], 'remote': False},\n",
        "    {'title': 'Machine Learning Engineer', 'skills': ['Python', 'TensorFlow'], 'remote': True},\n",
        "    {'title': 'Software Developer', 'skills': ['Java', 'C++'], 'remote': True}\n",
        "]\n",
        "\n",
        "list(filter(lambda skill: skill['remote'] and 'Python' in skill['skills'], job_postings))\n",
        "\n",
        "# job_postings = [\n",
        "#     {'title': 'Data Scientist', 'skills': ['Python', 'SQL'], 'remote': True},\n",
        "#     {'title': 'Data Analyst', 'skills': ['Excel', 'SQL'], 'remote': False},\n",
        "#     {'title': 'Machine Learning Engineer', 'skills': ['Python', 'TensorFlow'], 'remote': True},\n",
        "#     {'title': 'Software Developer', 'skills': ['Java', 'C++'], 'remote': True}\n",
        "# ]\n",
        "\n",
        "# filter_postings = lambda posting: 'Python' in posting['skills'] and posting['remote']\n",
        "# remote_python_postings = list(filter(filter_postings, job_postings))\n",
        "# remote_python_postings solucion luke. La mía requería menos código."
      ]
    },
    {
      "cell_type": "code",
      "execution_count": null,
      "metadata": {
        "id": "0oLMQ0jFG8T5",
        "colab": {
          "base_uri": "https://localhost:8080/",
          "height": 383
        },
        "outputId": "3d6bd991-59c1-47c0-ef7b-fc9ddb87b559"
      },
      "outputs": [
        {
          "output_type": "error",
          "ename": "ModuleNotFoundError",
          "evalue": "No module named 'salary_calculator'",
          "traceback": [
            "\u001b[0;31m---------------------------------------------------------------------------\u001b[0m",
            "\u001b[0;31mModuleNotFoundError\u001b[0m                       Traceback (most recent call last)",
            "\u001b[0;32m<ipython-input-257-7fddb076defa>\u001b[0m in \u001b[0;36m<cell line: 1>\u001b[0;34m()\u001b[0m\n\u001b[0;32m----> 1\u001b[0;31m \u001b[0;32mfrom\u001b[0m \u001b[0msalary_calculator\u001b[0m\u001b[0;34m.\u001b[0m\u001b[0mpy\u001b[0m \u001b[0;32mimport\u001b[0m \u001b[0;34m*\u001b[0m\u001b[0;34m\u001b[0m\u001b[0;34m\u001b[0m\u001b[0m\n\u001b[0m\u001b[1;32m      2\u001b[0m \u001b[0;34m\u001b[0m\u001b[0m\n\u001b[1;32m      3\u001b[0m \u001b[0msalary_calculator\u001b[0m\u001b[0;34m.\u001b[0m\u001b[0mcalculate_annual_salary\u001b[0m\u001b[0;34m(\u001b[0m\u001b[0;36m50\u001b[0m\u001b[0;34m,\u001b[0m \u001b[0;36m40\u001b[0m\u001b[0;34m)\u001b[0m \u001b[0;31m# Yo había puesto el 40 en la funcion. despues de hours_per_week=40, sin embargo, es mejor acá ya que la funcion siempre tendrá como horas por semana 40 y si fueron menos/mas no se modificará.\u001b[0m\u001b[0;34m\u001b[0m\u001b[0;34m\u001b[0m\u001b[0m\n",
            "\u001b[0;31mModuleNotFoundError\u001b[0m: No module named 'salary_calculator'",
            "",
            "\u001b[0;31m---------------------------------------------------------------------------\u001b[0;32m\nNOTE: If your import is failing due to a missing package, you can\nmanually install dependencies using either !pip or !apt.\n\nTo view examples of installing some common dependencies, click the\n\"Open Examples\" button below.\n\u001b[0;31m---------------------------------------------------------------------------\u001b[0m\n"
          ],
          "errorDetails": {
            "actions": [
              {
                "action": "open_url",
                "actionText": "Open Examples",
                "url": "/notebooks/snippets/importing_libraries.ipynb"
              }
            ]
          }
        }
      ],
      "source": [
        "from salary_calculator.py import *\n",
        "\n",
        "salary_calculator.calculate_annual_salary(50, 40) # Yo había puesto el 40 en la funcion. despues de hours_per_week=40, sin embargo, es mejor acá ya que la funcion siempre tendrá como horas por semana 40 y si fueron menos/mas no se modificará."
      ]
    },
    {
      "cell_type": "code",
      "execution_count": null,
      "metadata": {
        "id": "eSegJaBONHW0"
      },
      "outputs": [],
      "source": [
        "# # The following is run in a new cell:\n",
        "\n",
        "# import salary_calculator\n",
        "# annual_salary = salary_calculator.calculate_annual_salary(50, 40)\n",
        "# print(annual_salary) solución luke. Igual me dió el resultado!"
      ]
    },
    {
      "cell_type": "code",
      "execution_count": null,
      "metadata": {
        "id": "k5bmFvKPLcWt"
      },
      "outputs": [],
      "source": [
        "# Create a module named job_filter with a function filter_by_location that takes a list of job postings and a location and returns a list of job postings in that location. Import this module and use the function to filter job postings in 'New York'. Use the variable of job_postings shown below.\n",
        "\n",
        "#Perdiste el hilo por lo qu lo mejor que podias hacer era copiar la solución de luke.\n",
        "#Recuerda este codigo que va justo abajo era en un modulo creandolo y poniendo la función y desde \"import job_filter\" iba el codigo para hacer que te diera lo que buscabas.\n",
        "\n",
        "# %%writefile job_filter.py\n",
        "# def filter_by_location(job_postings, location):\n",
        "#     return [job for job in job_postings if job['location'] == location]\n",
        "\n",
        "# import job_filter\n",
        "# job_postings = [\n",
        "#     {'title': 'Data Scientist', 'location': 'New York'},\n",
        "#     {'title': 'Data Analyst', 'location': 'San Francisco'},\n",
        "#     {'title': 'Machine Learning Engineer', 'location': 'New York'}\n",
        "# ]\n",
        "# filtered_jobs = job_filter.filter_by_location(job_postings, 'New York')\n",
        "# print(filtered_jobs)\n",
        "\n",
        "#Expected Output:\n",
        "\n",
        "# [{'title': 'Data Scientist', 'location': 'New York'}, {'title': 'Machine Learning Engineer', 'location': 'New York'}] solución de luke."
      ]
    },
    {
      "cell_type": "code",
      "execution_count": null,
      "metadata": {
        "id": "ooprJpdNNCW1"
      },
      "outputs": [],
      "source": [
        "data_science_jobs = [\n",
        "    {'job_title': 'Data Scientist', 'job_skills': \"['Python', 'SQL', 'Machine Learning']\", 'job_date': '2023-05-12'},\n",
        "    {'job_title': 'Machine Learning Engineer', 'job_skills': \"['Python', 'TensorFlow', 'Deep Learning']\", 'job_date': '2023-05-15'},\n",
        "    {'job_title': 'Data Analyst', 'job_skills': \"['SQL', 'R', 'Tableau']\", 'job_date': '2023-05-10'},\n",
        "    {'job_title': 'Business Intelligence Developer', 'job_skills': \"['SQL', 'PowerBI', 'Data Warehousing']\", 'job_date': '2023-05-08'},\n",
        "    {'job_title': 'Data Engineer', 'job_skills': \"['Python', 'Spark', 'Hadoop']\", 'job_date': '2023-05-18'},\n",
        "    {'job_title': 'AI Specialist', 'job_skills': \"['Python', 'PyTorch', 'AI Ethics']\", 'job_date': '2023-05-20'}\n",
        "]"
      ]
    },
    {
      "cell_type": "code",
      "execution_count": null,
      "metadata": {
        "id": "sLpqSIDCOLRs"
      },
      "outputs": [],
      "source": [
        "from datetime import datetime"
      ]
    },
    {
      "cell_type": "code",
      "execution_count": null,
      "metadata": {
        "id": "fa1mJnsjO7qX"
      },
      "outputs": [],
      "source": [
        "datetime.now() #year / month / day / hour / minute / seconds / milisecs"
      ]
    },
    {
      "cell_type": "code",
      "execution_count": null,
      "metadata": {
        "id": "LjsjkZLJO931"
      },
      "outputs": [],
      "source": [
        "type(data_science_jobs[0]['job_date']) #recuerda es siempre importante si es job poner job, si es jobs poner jobs, si es Job poner Job, si es Jobs poner Jobs. Python es case sensitive!"
      ]
    },
    {
      "cell_type": "code",
      "execution_count": null,
      "metadata": {
        "id": "NoIaANT1PjdC"
      },
      "outputs": [],
      "source": [
        "test_date = data_science_jobs[0]['job_date'] #Esto era solo para hacer la prueba. Dentro del strptime tiene que haber una variable, en este caso era test_date. Como puedes ver, abajo era la variable job['job_date'], por eso pudiste hacer la modificación y te cambio los datos dentro de data_science_jobs\n",
        "# datetime.strptime(test_date, '%Y-%m-%d')"
      ]
    },
    {
      "cell_type": "code",
      "execution_count": null,
      "metadata": {
        "id": "6q0WxKRyQIGi"
      },
      "outputs": [],
      "source": [
        "import ast\n",
        "\n",
        "for job in data_science_jobs: #ESTE SIEMPRE LO VAS A USAR SI O SI.\n",
        "  job['job_date'] = datetime.strptime(job['job_date'], '%Y-%m-%d')\n",
        "  job['job_skills'] = ast.literal_eval(job['job_skills'])"
      ]
    },
    {
      "cell_type": "code",
      "execution_count": null,
      "metadata": {
        "id": "vWlv-xtVQscD"
      },
      "outputs": [],
      "source": [
        "data_science_jobs #ya está funcionando lo de arriba, por eso te da error. Tienes solo que darle a run again. Nota: A la parte de job_skills le quitaste las \"\" que llevaba delante de cada [], antes estaba así: \"['Python', 'SQL', 'Machine Learning']\", y quedó ['Python', 'SQL', 'Machine Learning']."
      ]
    },
    {
      "cell_type": "code",
      "execution_count": null,
      "metadata": {
        "id": "nl1jaCvPRynT"
      },
      "outputs": [],
      "source": [
        "import pandas as pd #siempre se pone así\n",
        "\n",
        "contents = pd.read_csv('sample_data/california_housing_test.csv')\n",
        "\n",
        "contents\n",
        "\n",
        "#contents['total_bedrooms'].sum() encuentra de forma rápida la suma de esa fila o diccionario. es mejor que escribir 30 lineas de código de forma manual en python."
      ]
    },
    {
      "cell_type": "code",
      "execution_count": null,
      "metadata": {
        "id": "Cc4598AFUYt5"
      },
      "outputs": [],
      "source": [
        "# para instalar panda puedes usar el bash, git, etc o puedes ocupar simplemente aquí mismo con el siguiente código:\n",
        "\n",
        "!pip install pandas"
      ]
    },
    {
      "cell_type": "code",
      "execution_count": null,
      "metadata": {
        "id": "xIr7EDCFVf2N"
      },
      "outputs": [],
      "source": [
        "!pip list"
      ]
    },
    {
      "cell_type": "code",
      "execution_count": null,
      "metadata": {
        "id": "tSdVmjflVkes"
      },
      "outputs": [],
      "source": [
        "!pip install pyjokes\n"
      ]
    },
    {
      "cell_type": "code",
      "execution_count": null,
      "metadata": {
        "id": "lS8Y2_fMVy9r"
      },
      "outputs": [],
      "source": [
        "import pyjokes"
      ]
    },
    {
      "cell_type": "code",
      "execution_count": null,
      "metadata": {
        "id": "Qqa2Df93V4vb"
      },
      "outputs": [],
      "source": [
        "pyjokes.get_joke()"
      ]
    },
    {
      "cell_type": "code",
      "execution_count": null,
      "metadata": {
        "id": "l3DKusnFWcXU"
      },
      "outputs": [],
      "source": [
        "pyjokes.get_joke()"
      ]
    },
    {
      "cell_type": "code",
      "execution_count": null,
      "metadata": {
        "id": "Z40oVwR-Wpjl"
      },
      "outputs": [],
      "source": [
        "import os\n",
        "\n",
        "files = os.listdir('.')\n",
        "for file in files:\n",
        "    print(file)\n"
      ]
    },
    {
      "cell_type": "code",
      "execution_count": null,
      "metadata": {
        "id": "KkcfjvLEXPCy"
      },
      "outputs": [],
      "source": [
        "import requests\n",
        "\n",
        "url = 'https://pokeapi.co/api/v2/pokemon/pikachu'\n",
        "\n",
        "response = requests.get(url)\n",
        "data = response.json()\n",
        "print(data)\n"
      ]
    },
    {
      "cell_type": "code",
      "execution_count": null,
      "metadata": {
        "id": "XbbDfkeyXjEg"
      },
      "outputs": [],
      "source": [
        "class JobPosting:\n",
        "  def __init__(self, title, company, location):\n",
        "    self.title = title\n",
        "    self.company = company\n",
        "    self.location = location\n",
        "\n",
        "job = JobPosting('Data Scientist', 'Tech Innovations', 'New York')\n",
        "print(job.title)\n",
        "print(job.company)\n",
        "print(job.location)"
      ]
    },
    {
      "cell_type": "code",
      "execution_count": null,
      "metadata": {
        "id": "SYlqbSQwxiGj"
      },
      "outputs": [],
      "source": [
        "class JobPosting:\n",
        "    def __init__(self, title, company, location, salary):\n",
        "        self.title = title\n",
        "        self.company = company\n",
        "        self.location = location\n",
        "        self.salary = salary\n",
        "\n",
        "    def to_dict(self):\n",
        "        return {\n",
        "            'title': self.title,\n",
        "            'company': self.company,\n",
        "            'location': self.location,\n",
        "            'salary': self.salary\n",
        "        }\n",
        "\n",
        "job = JobPosting('Data Scientist', 'Tech Innovations', 'New York', 120000)\n",
        "\n",
        "print(job.to_dict())"
      ]
    },
    {
      "cell_type": "code",
      "execution_count": null,
      "metadata": {
        "id": "Wux82Iym1G1r"
      },
      "outputs": [],
      "source": [
        "class JobPosting:\n",
        "  def __init__(self, title, company, location, salary):\n",
        "    self.title = title\n",
        "    self. company = company\n",
        "    self. location = location\n",
        "    self. salary = salary\n",
        "\n",
        "  def compare_salary(self, other_job):\n",
        "    if self.salary > other_job.salary:\n",
        "      return self.title\n",
        "    else:\n",
        "      return other_job.title\n",
        "\n",
        "job1 = JobPosting('Data Scientist', 'Tech Innovations', 'New York', 120000)\n",
        "job2 = JobPosting('Data Analyst', 'Data Driven Co', 'San Francisco', 100000)\n",
        "\n",
        "print(job1.compare_salary(job2))"
      ]
    },
    {
      "cell_type": "code",
      "execution_count": null,
      "metadata": {
        "id": "IyUyU28w2UBS"
      },
      "outputs": [],
      "source": [
        "import random\n",
        "\n",
        "salary_list = [random.randint(50000, 100000) for _ in range (1_000_000)]"
      ]
    },
    {
      "cell_type": "code",
      "execution_count": null,
      "metadata": {
        "id": "sjtZQXh_kcy5"
      },
      "outputs": [],
      "source": [
        "import statistics"
      ]
    },
    {
      "cell_type": "code",
      "execution_count": null,
      "metadata": {
        "id": "Ika10jS9kAYQ"
      },
      "outputs": [],
      "source": [
        "%%timeit\n",
        "\n",
        "statistics.mean(salary_list)"
      ]
    },
    {
      "cell_type": "code",
      "execution_count": null,
      "metadata": {
        "id": "Ziqi6sRAkTga"
      },
      "outputs": [],
      "source": [
        "import numpy as np"
      ]
    },
    {
      "cell_type": "code",
      "execution_count": null,
      "metadata": {
        "id": "Qqo7mZOHkiAC"
      },
      "outputs": [],
      "source": [
        "%%timeit\n",
        "np.mean(salary_list)"
      ]
    },
    {
      "cell_type": "code",
      "execution_count": null,
      "metadata": {
        "id": "qSKfHZbMkmxi"
      },
      "outputs": [],
      "source": [
        "my_array = np.array([1, 2, 3, 4])"
      ]
    },
    {
      "cell_type": "code",
      "execution_count": null,
      "metadata": {
        "id": "sq1puNuHlPjq"
      },
      "outputs": [],
      "source": [
        "my_array.mean()"
      ]
    },
    {
      "cell_type": "code",
      "execution_count": null,
      "metadata": {
        "id": "xl_ZsnVAlTri"
      },
      "outputs": [],
      "source": [
        "job_titles = np.array(['Data Analyst', 'Data Scientist', 'Data Engineer', 'Machine Learning Engineer', 'AI Engineer'])\n",
        "\n",
        "base_salaries = np.array([60000, 80000, 75000, 90000, np.nan])\n",
        "\n",
        "bonus_rates = np.array([.05, .1, .08, .12, np.nan])"
      ]
    },
    {
      "cell_type": "code",
      "execution_count": null,
      "metadata": {
        "id": "XI5ODnGjlsyn"
      },
      "outputs": [],
      "source": [
        "total_salaries = base_salaries * (1 + bonus_rates)\n",
        "\n",
        "total_salaries"
      ]
    },
    {
      "cell_type": "code",
      "execution_count": null,
      "metadata": {
        "id": "v-_nmZO6mn8_"
      },
      "outputs": [],
      "source": [
        "np.nanmean(total_salaries)"
      ]
    },
    {
      "cell_type": "code",
      "execution_count": null,
      "metadata": {
        "id": "82g6aNUompiq"
      },
      "outputs": [],
      "source": [
        "applications_list = np.array([10, 15, 7, 20, 25, 30, 5])\n",
        "print(applications_list)\n",
        "\n",
        "# applications_list = [10, 15, 7, 20, 25, 30, 5]\n",
        "# applications = np.array(applications_list)\n",
        "# print(applications) solución de luke. La mia fue más directo sobre el mismo código. la de el creaba otra línea aparte"
      ]
    },
    {
      "cell_type": "code",
      "execution_count": null,
      "metadata": {
        "id": "BCb_3cnonrF1"
      },
      "outputs": [],
      "source": [
        "postings_list = [10, 15, 7, 20, 25, 30, 5]\n",
        "postings = np.array(postings_list)\n",
        "print(postings[0:3])\n",
        "\n",
        "# postings_list = [10, 15, 7, 20, 25, 30, 5]\n",
        "# postings = np.array(postings_list)\n",
        "# first_three_postings = postings[:3]\n",
        "# print(first_three_postings) solución de luke."
      ]
    },
    {
      "cell_type": "code",
      "execution_count": null,
      "metadata": {
        "id": "RE1MpPMboRDG"
      },
      "outputs": [],
      "source": [
        "salaries_list = [70000, 85000, 60000, 95000, 80000]\n",
        "\n",
        "salaries = np.array(salaries_list)\n",
        "print(np.max(salaries))\n",
        "print(np.min(salaries))\n",
        "\n",
        "# salaries_list = [70000, 85000, 60000, 95000, 80000]\n",
        "# salaries = np.array(salaries_list)\n",
        "# highest_salary = np.max(salaries)\n",
        "# lowest_salary = np.min(salaries)\n",
        "# print(highest_salary, lowest_salary) solución de luke."
      ]
    },
    {
      "cell_type": "code",
      "execution_count": null,
      "metadata": {
        "id": "0RBYIiGEoxNY"
      },
      "outputs": [],
      "source": [
        "import pandas as pd"
      ]
    },
    {
      "cell_type": "code",
      "execution_count": null,
      "metadata": {
        "id": "EovGXIBTurNy"
      },
      "outputs": [],
      "source": [
        "df = pd.read_csv('/content/sample_data/california_housing_test.csv')"
      ]
    },
    {
      "cell_type": "code",
      "execution_count": null,
      "metadata": {
        "id": "oQ_ACJKevCy6"
      },
      "outputs": [],
      "source": [
        "type(df) #df es data frame"
      ]
    },
    {
      "cell_type": "code",
      "execution_count": null,
      "metadata": {
        "id": "lQTetbWevPhM"
      },
      "outputs": [],
      "source": [
        "df"
      ]
    },
    {
      "cell_type": "code",
      "execution_count": null,
      "metadata": {
        "id": "M_TqoDsBvUS9"
      },
      "outputs": [],
      "source": [
        "df['total_bedrooms']"
      ]
    },
    {
      "cell_type": "code",
      "execution_count": null,
      "metadata": {
        "id": "lKNZPN8yvg4O"
      },
      "outputs": [],
      "source": [
        "df.total_bedrooms"
      ]
    },
    {
      "cell_type": "code",
      "execution_count": null,
      "metadata": {
        "id": "rizzz4a_vmaX"
      },
      "outputs": [],
      "source": [
        "df.total_bedrooms[0] #para el index (valor)"
      ]
    },
    {
      "cell_type": "code",
      "execution_count": null,
      "metadata": {
        "id": "eTTMmdO_vr8K"
      },
      "outputs": [],
      "source": [
        "df['total_bedrooms'][2999] #para ir al ultimo, recuerda que parte en 0 y no en 1. 0 es 1, 1 es 2, etc."
      ]
    },
    {
      "cell_type": "code",
      "execution_count": null,
      "metadata": {
        "id": "-WMJ_FH5vxv8"
      },
      "outputs": [],
      "source": [
        "!pip install datasets"
      ]
    },
    {
      "cell_type": "code",
      "execution_count": null,
      "metadata": {
        "id": "vGi9WrhAwJc3"
      },
      "outputs": [],
      "source": [
        "from datasets import load_dataset"
      ]
    },
    {
      "cell_type": "code",
      "execution_count": null,
      "metadata": {
        "id": "Q9AKs63rwRk3"
      },
      "outputs": [],
      "source": [
        "dataset = load_dataset('lukebarousse/data_jobs') #esto es para no tener que descargar ningun csv. Puedo hacer el llamado con este codigo y lo buscará de forma automatica dentro de los datasets. Es importante que lo recuerdes, el dato tiene que estar dentro de strings. SI NO ESTA NO TE CARGARA nunca y dará error. Siempre crea una variable con el nombre del dataset que usarás."
      ]
    },
    {
      "cell_type": "code",
      "execution_count": null,
      "metadata": {
        "id": "nGjpVd4Kwddk"
      },
      "outputs": [],
      "source": [
        "df = dataset['train'].to_pandas()"
      ]
    },
    {
      "cell_type": "code",
      "execution_count": null,
      "metadata": {
        "id": "8EaAPQy8w0aA"
      },
      "outputs": [],
      "source": [
        "df"
      ]
    },
    {
      "cell_type": "code",
      "execution_count": null,
      "metadata": {
        "id": "6sy66OItxBP6"
      },
      "outputs": [],
      "source": [
        "df.tail(5) #imprime de atras hacia adelante, es decir, de las ultimas hasta las que decidas. Si no colocas nada dentro del () de igual forma imprimirá las ultimas 5."
      ]
    },
    {
      "cell_type": "code",
      "execution_count": null,
      "metadata": {
        "id": "ikHY3Om6xUV6"
      },
      "outputs": [],
      "source": [
        "df.job_location # o df['job_location']. Ambas sirven, luke ocupa la primera"
      ]
    },
    {
      "cell_type": "code",
      "execution_count": null,
      "metadata": {
        "id": "A-9lUwLax-9B"
      },
      "outputs": [],
      "source": [
        "df.search_location"
      ]
    },
    {
      "cell_type": "code",
      "execution_count": null,
      "metadata": {
        "id": "CSW1ts3xyuCy"
      },
      "outputs": [],
      "source": [
        "df.job_title[56]"
      ]
    },
    {
      "cell_type": "code",
      "execution_count": null,
      "metadata": {
        "id": "goG4LGATzKcb"
      },
      "outputs": [],
      "source": [
        "df.head() #reversa de tail, me devuelve las primeras 5 si no coloco nada. Si dentro del parentesis pongo un numero me devuelve ese numero."
      ]
    },
    {
      "cell_type": "code",
      "execution_count": null,
      "metadata": {
        "id": "9Ckqp7NV0Z83"
      },
      "outputs": [],
      "source": [
        "df.job_title.head(10) # o lo que es en su defecto, df['job_title'].head(10)"
      ]
    },
    {
      "cell_type": "code",
      "execution_count": null,
      "metadata": {
        "id": "Ag9PoNvx0uZD"
      },
      "outputs": [],
      "source": [
        "df[['job_title', 'job_location']].iloc[90] #se utiliza doble [][] para llamar varias cosas a la vez y se separan con una \",\". Recuerda, es doble []. Si aca especifico que 2 columnas quiero y pongo el iloc me dará solo los datos del numero 91 con los datos especificados, job_title y job_location"
      ]
    },
    {
      "cell_type": "code",
      "execution_count": null,
      "metadata": {
        "id": "TG3Rj-nP1ECq"
      },
      "outputs": [],
      "source": [
        "df.iloc[90] #acá, el iloc me dió todos los datos correspondientes al 91 como corresponde, con todos los valores y el index de estos"
      ]
    },
    {
      "cell_type": "code",
      "execution_count": null,
      "metadata": {
        "id": "VsBCX9_S1pOA"
      },
      "outputs": [],
      "source": [
        "df.iloc[90:100] #si le haces slicing puedes ver los 10 datos que selecciones, desde hasta y si le pones una \"df.iloc[90:100, 0:3]\", (despues del 100 lo hiciste) y le vuelves a dar otro valor te lo formatea de otra forma mas linda \"0 siendo desde donde y el 3 la cantidad de datos que quieres ver. Aún asi, fijate que el primer 90:100 es para decirle desde X hasta Y y luego el 0:3 para decirle de la primera columna hasta la tercera dentro del rango xy dado (90-100)\""
      ]
    },
    {
      "cell_type": "code",
      "execution_count": null,
      "metadata": {
        "id": "jqbiNH2i7Z4a"
      },
      "outputs": [],
      "source": [
        "df.info()"
      ]
    },
    {
      "cell_type": "code",
      "execution_count": null,
      "metadata": {
        "id": "RdzUypmW8i3L"
      },
      "outputs": [],
      "source": [
        "df.describe()"
      ]
    },
    {
      "cell_type": "code",
      "execution_count": null,
      "metadata": {
        "id": "E4P5Tk7V8-V4"
      },
      "outputs": [],
      "source": [
        "df.job_title_short.unique()"
      ]
    },
    {
      "cell_type": "code",
      "execution_count": null,
      "metadata": {
        "id": "uyY3aQGP9MCb"
      },
      "outputs": [],
      "source": [
        "df[(df.job_title_short == 'Data Analyst') & (df.salary_year_avg.notna())] #Aqui no se usa AND sino & o si no no funcionará. ni OR sino | arriba tenias originalmnete: df[(df.job_title_short == 'Data Analyst') & (df.salary_year_avg > 100000)]"
      ]
    },
    {
      "cell_type": "code",
      "execution_count": null,
      "metadata": {
        "id": "xvBb7-uV-QSy"
      },
      "outputs": [],
      "source": [
        "df.iloc[2]"
      ]
    },
    {
      "cell_type": "code",
      "execution_count": null,
      "metadata": {
        "id": "HqhHWZBx-xtv"
      },
      "outputs": [],
      "source": [
        "df['job_country'].unique()"
      ]
    },
    {
      "cell_type": "code",
      "execution_count": null,
      "metadata": {
        "id": "go9lm7Uv_bQB"
      },
      "outputs": [],
      "source": [
        "filtered_df = df[df['job_schedule_type'] == 'Full-time']\n",
        "filtered_df.head(3) #solucion de luke"
      ]
    },
    {
      "cell_type": "code",
      "execution_count": null,
      "metadata": {
        "id": "GR6R4llIAC3A"
      },
      "outputs": [],
      "source": [
        "df.job_skills.notna()"
      ]
    },
    {
      "cell_type": "code",
      "execution_count": null,
      "metadata": {
        "id": "lEKZkFAyAR9n"
      },
      "outputs": [],
      "source": [
        "not_na_values_df = df[df['job_skills'].notna()]\n",
        "not_na_values_df #solucion de luke"
      ]
    },
    {
      "cell_type": "code",
      "execution_count": null,
      "metadata": {
        "id": "ko6gahpbeY7h"
      },
      "outputs": [],
      "source": [
        "import pandas as pd\n",
        "from datasets import load_dataset\n",
        "\n",
        "dataset = load_dataset('lukebarousse/data_jobs')\n",
        "df = dataset['train'].to_pandas()"
      ]
    },
    {
      "cell_type": "code",
      "execution_count": null,
      "metadata": {
        "id": "_ro2cyQqAzDa"
      },
      "outputs": [],
      "source": [
        "df.info()"
      ]
    },
    {
      "cell_type": "code",
      "execution_count": null,
      "metadata": {
        "id": "VpK3SpaVdzts"
      },
      "outputs": [],
      "source": [
        "df.job_posted_date[0]"
      ]
    },
    {
      "cell_type": "code",
      "execution_count": null,
      "metadata": {
        "id": "TZL9M5f5d4ut"
      },
      "outputs": [],
      "source": [
        "df['job_posted_date'] = pd.to_datetime(df.job_posted_date) # --> df = dataframe"
      ]
    },
    {
      "cell_type": "code",
      "execution_count": null,
      "metadata": {
        "id": "JDSNjCJLeEGt"
      },
      "outputs": [],
      "source": [
        "df.info()"
      ]
    },
    {
      "cell_type": "code",
      "execution_count": null,
      "metadata": {
        "id": "zkj2-xjqewoZ"
      },
      "outputs": [],
      "source": [
        "df.job_posted_date.dt.month"
      ]
    },
    {
      "cell_type": "code",
      "execution_count": null,
      "metadata": {
        "id": "AVNwzg41fJPK"
      },
      "outputs": [],
      "source": [
        "df['job_posted_month'] = df.job_posted_date.dt.month"
      ]
    },
    {
      "cell_type": "code",
      "execution_count": null,
      "metadata": {
        "id": "LEFNkV1nfb9L"
      },
      "outputs": [],
      "source": [
        "df.info()"
      ]
    },
    {
      "cell_type": "code",
      "execution_count": null,
      "metadata": {
        "id": "4kbi5Ib-fk3n"
      },
      "outputs": [],
      "source": [
        "df"
      ]
    },
    {
      "cell_type": "code",
      "execution_count": null,
      "metadata": {
        "id": "mnchsBrcfmbv"
      },
      "outputs": [],
      "source": [
        "df.sort_values('job_posted_date', inplace=True) #con el inplace (que está False si no lo especifico) se modifica la tabla como tal. Si no colocase inplace sólo se modifica cuando llame a job_posted_date, más no cuando llame como tal a df, por ende, para que se mantenga sorted lo hago con inplace=True y de esa forma se mantiene filtrado como corresponde."
      ]
    },
    {
      "cell_type": "code",
      "execution_count": null,
      "metadata": {
        "id": "uUK2SYtOf5LD"
      },
      "outputs": [],
      "source": [
        "df"
      ]
    },
    {
      "cell_type": "code",
      "execution_count": null,
      "metadata": {
        "id": "eygsyT1XgIez"
      },
      "outputs": [],
      "source": [
        "df.drop(labels='salary_hour_avg', axis=1, inplace=True) # eliminar columna. \"\"Te da error porque ya lo corriste y no existe dicha columna\"\""
      ]
    },
    {
      "cell_type": "code",
      "execution_count": null,
      "metadata": {
        "id": "CLSkqiiJgvid"
      },
      "outputs": [],
      "source": [
        "df.dropna(subset=['salary_year_avg'], inplace=True) # Nota: Luke hizo este mismo ejercicio pero no tenias nada que hacer porque ya lo filtraste."
      ]
    },
    {
      "cell_type": "code",
      "execution_count": null,
      "metadata": {
        "id": "j3ssUtU8hNuA"
      },
      "outputs": [],
      "source": [
        "df.info()"
      ]
    },
    {
      "cell_type": "code",
      "execution_count": null,
      "metadata": {
        "id": "X2pzESYBhXVs"
      },
      "outputs": [],
      "source": [
        "df.sort_values('salary_year_avg', ascending=False, inplace=True)\n",
        "df.head(10)"
      ]
    },
    {
      "cell_type": "code",
      "execution_count": null,
      "metadata": {
        "id": "kaqE4I5rh_W_"
      },
      "outputs": [],
      "source": [
        "df['is_remote'] = df['job_work_from_home']\n"
      ]
    },
    {
      "cell_type": "code",
      "execution_count": null,
      "metadata": {
        "id": "FCTXGNaqj2eW"
      },
      "outputs": [],
      "source": [
        "df"
      ]
    },
    {
      "cell_type": "code",
      "execution_count": null,
      "metadata": {
        "id": "e3-tOP49j40w"
      },
      "outputs": [],
      "source": [
        "df.job_posted_date.dt.year\n",
        "df['job_posted_year'] = df.job_posted_date.dt.year\n",
        "df.head(5) # Aclaratoria, luke lo hizo con otra linea de código (la primera) más explicativa. La tuya es más directa y funciona igual para escribir menos código. En la solución de luke los resultados son distintos porque lo hizo antes de filtrar los NaN de salary_year_avg y antes de ELIMINAR salary_hour_avg. Por eso dan distintos resultados pero lo que muestras acá es lo correcto. Si tomas nuevamente la dataset sin limpiarla si te dará el mismo resultado."
      ]
    },
    {
      "cell_type": "markdown",
      "metadata": {
        "id": "UPFAWQ-Sm_xb"
      },
      "source": [
        "# Recuerda que cada vez que inicies sesión debes iniciar\n",
        "\n",
        "!pip install datasets"
      ]
    },
    {
      "cell_type": "code",
      "execution_count": null,
      "metadata": {
        "id": "tGPFhrfKlofy"
      },
      "outputs": [],
      "source": [
        "df.describe()"
      ]
    },
    {
      "cell_type": "code",
      "execution_count": null,
      "metadata": {
        "id": "mtJ5a8v8nKDe"
      },
      "outputs": [],
      "source": [
        "df.info()"
      ]
    },
    {
      "cell_type": "code",
      "execution_count": null,
      "metadata": {
        "id": "6QCBUflUna-y"
      },
      "outputs": [],
      "source": [
        "df['salary_year_avg'].median()"
      ]
    },
    {
      "cell_type": "code",
      "execution_count": null,
      "metadata": {
        "id": "r1GM6DJBnkkI"
      },
      "outputs": [],
      "source": [
        "df['salary_year_avg'].min()"
      ]
    },
    {
      "cell_type": "code",
      "execution_count": null,
      "metadata": {
        "id": "hJhR7CXjntvz"
      },
      "outputs": [],
      "source": [
        "min_salary = df['salary_year_avg'].idxmin() #el idxmin me da el index value, en donde está ubicado el numero. OJO, no me da el valor, me dice DONDE está ubicado ese valor.\n",
        "\n"
      ]
    },
    {
      "cell_type": "code",
      "execution_count": null,
      "metadata": {
        "id": "Lkt-tmc9nxub"
      },
      "outputs": [],
      "source": [
        "# df.iloc[min_salary]\n",
        "\n",
        "min_salary_index = df['salary_year_avg'].idxmin() # Get the index label of the row with the minimum salary\n",
        "min_salary_row = df.loc[min_salary_index] # Access the row using .loc (label-based indexing)\n",
        "print(min_salary_row) # Display the row\n",
        "\n",
        "# Nota, tuviste que usar este código porque ya está filtrada tu df, por ende, al intentar usar el idoc no pudiste encontrar el valor donde se \"supone\" debería estar. Debes investigar, pero son la 1am y no creo que es la hora correcta para hacerlo."
      ]
    },
    {
      "cell_type": "code",
      "execution_count": null,
      "metadata": {
        "id": "EoDoa0sMop1E"
      },
      "outputs": [],
      "source": [
        "df['job_title_short'].unique()"
      ]
    },
    {
      "cell_type": "code",
      "execution_count": null,
      "metadata": {
        "id": "vjTpiXXvpfG0"
      },
      "outputs": [],
      "source": [
        "df['job_title_short'].value_counts() #Recuerda, tus datos van a diferir de luke porque ya aplicaste un filtro de NaN en salary_year_avg y quitaste salary_hour_avg, por ende, tu lista es mucho mas corta"
      ]
    },
    {
      "cell_type": "code",
      "execution_count": null,
      "metadata": {
        "id": "qr8V9akZpi7n"
      },
      "outputs": [],
      "source": [
        "df.groupby('job_title_short')['salary_year_avg'].median()"
      ]
    },
    {
      "cell_type": "code",
      "execution_count": null,
      "metadata": {
        "id": "JbVfqjKaqNJT"
      },
      "outputs": [],
      "source": [
        "df.groupby(['job_title_short', 'job_country'])['salary_year_avg'].median() #si vas a hacer varios llamados dentro de 1 sólo debes hacerlo como una lista usando []"
      ]
    },
    {
      "cell_type": "code",
      "execution_count": null,
      "metadata": {
        "id": "7G1atzjPqqds"
      },
      "outputs": [],
      "source": [
        "df.groupby('job_title_short')['salary_year_avg'].median() #igual que el anterior, si quieres haceer varios llamados debes agregar unas segundas llaves.df.groupby('job_title_short')[['salary_year_avg', salary_hour_avg]].median()"
      ]
    },
    {
      "cell_type": "code",
      "execution_count": null,
      "metadata": {
        "id": "vpu0AUVKq0vq"
      },
      "outputs": [],
      "source": [
        "df.groupby('job_title_short')['salary_year_avg'].agg(['min', 'median', 'max']) #Y, finalmente, nuevamente, PARA TODO debes agregar [] y en este caso los metodos los llamas como si fueran strings con sus '' y sus abreviaciones como antes."
      ]
    },
    {
      "cell_type": "code",
      "execution_count": null,
      "metadata": {
        "id": "da9OchAMrgwg"
      },
      "outputs": [],
      "source": [
        "df.groupby('job_title_short')['salary_year_avg'].mean() #Tu solución lo hiciste agrupando, por ende, no te dió la media d TODOS los trabajos, si no que lo hiciste TRABAJO POR TRABAJO, es decir, la media de business analyst, media de data analyst, media de X Y Z. Luke te pidió la medía de TODOS los trabajos juntos que fue el código que escribiste abajo (sacado de la página de luke)"
      ]
    },
    {
      "cell_type": "code",
      "execution_count": null,
      "metadata": {
        "id": "mVe9Z_7ir3GK"
      },
      "outputs": [],
      "source": [
        "mean_salary = df['salary_year_avg'].mean()\n",
        "mean_salary"
      ]
    },
    {
      "cell_type": "code",
      "execution_count": null,
      "metadata": {
        "id": "GQ3rP12isTmx"
      },
      "outputs": [],
      "source": [
        "median_salary = df['salary_year_avg'].median()\n",
        "median_salary"
      ]
    },
    {
      "cell_type": "code",
      "execution_count": null,
      "metadata": {
        "id": "VDwTx80OtBnM"
      },
      "outputs": [],
      "source": [
        "# Este ejercicio lo cambiaste de salary_hour_avg a salary_year_avg porque YA BORRASTE ESA COLUMNA.\n",
        "\n",
        "# avg_hourly_by_job = df.groupby('job_title_short')['salary_hour_avg'].mean()\n",
        "# avg_hourly_by_job Código de luke\n",
        "\n",
        "df.groupby('job_title_short')['salary_year_avg'].mean()\n"
      ]
    },
    {
      "cell_type": "code",
      "execution_count": null,
      "metadata": {
        "id": "uEOpRAJgtXDA"
      },
      "outputs": [],
      "source": [
        "min_salary_index = df['salary_year_avg'].idxmin()\n",
        "min_salary_row = df.loc[min_salary_index]\n",
        "print(min_salary_row)\n",
        "\n",
        "#recuerda que usas este codigo porque al estar filtrado no te sale el iloc como corresponde.\n",
        "\n",
        "#El código de luke es este:\n",
        "\n",
        "# min_hourly_index = df['salary_hour_avg'].idxmin()\n",
        "# min_hourly_job = df.iloc[min_hourly_index][['job_title_short', 'salary_hour_avg']]\n",
        "# min_hourly_job"
      ]
    },
    {
      "cell_type": "code",
      "execution_count": null,
      "metadata": {
        "id": "E-txWL-LtuFL"
      },
      "outputs": [],
      "source": [
        "df.groupby('job_country').size() # Recuerda que te da menos porque tienes el filtro aplicado. Buen trabajo! :D"
      ]
    },
    {
      "cell_type": "code",
      "execution_count": null,
      "metadata": {
        "id": "uOtkvOn3uaDd"
      },
      "outputs": [],
      "source": [
        "!pip install datasets"
      ]
    },
    {
      "cell_type": "code",
      "execution_count": null,
      "metadata": {
        "id": "NaazI_lFUaJP"
      },
      "outputs": [],
      "source": [
        "df.info()"
      ]
    },
    {
      "cell_type": "code",
      "execution_count": null,
      "metadata": {
        "id": "EuRLvcylWsWS"
      },
      "outputs": [],
      "source": [
        "!pip install datasets\n",
        "import pandas as pd\n",
        "from datasets import load_dataset\n",
        "\n",
        "dataset = load_dataset('lukebarousse/data_jobs')\n",
        "df = dataset['train'].to_pandas()\n",
        "\n",
        "df['job_posted_date'] = pd.to_datetime(df['job_posted_date'])"
      ]
    },
    {
      "cell_type": "code",
      "execution_count": null,
      "metadata": {
        "id": "HOUTh_KUbU3p"
      },
      "outputs": [],
      "source": [
        "df.info()"
      ]
    },
    {
      "cell_type": "code",
      "execution_count": null,
      "metadata": {
        "id": "X1ZRRkEjcOex"
      },
      "outputs": [],
      "source": [
        "df['job_country'].value_counts().head(20)"
      ]
    },
    {
      "cell_type": "code",
      "execution_count": null,
      "metadata": {
        "id": "kMPjtqdzcjbD"
      },
      "outputs": [],
      "source": [
        "us_jobs = df[df['job_country'] == 'United States']"
      ]
    },
    {
      "cell_type": "code",
      "execution_count": null,
      "metadata": {
        "id": "CNo5wKQwcxeu"
      },
      "outputs": [],
      "source": [
        "us_jobs"
      ]
    },
    {
      "cell_type": "code",
      "execution_count": null,
      "metadata": {
        "id": "Py5CLzVGc0K2"
      },
      "outputs": [],
      "source": [
        "us_jobs = us_jobs[us_jobs['salary_year_avg'].notna()]"
      ]
    },
    {
      "cell_type": "code",
      "execution_count": null,
      "metadata": {
        "id": "26aKyZE0c-aW"
      },
      "outputs": [],
      "source": [
        "us_jobs"
      ]
    },
    {
      "cell_type": "code",
      "execution_count": null,
      "metadata": {
        "id": "IQxxYwtZc_bn"
      },
      "outputs": [],
      "source": [
        "us_jobs.groupby('job_title_short')['salary_year_avg'].agg(['median', 'min', 'max', 'count']).sort_values(by='median', ascending=False)"
      ]
    },
    {
      "cell_type": "code",
      "execution_count": null,
      "metadata": {
        "id": "TMu1BY7BdH6z"
      },
      "outputs": [],
      "source": [
        "import matplotlib.pyplot as plt\n",
        "import numpy as np"
      ]
    },
    {
      "cell_type": "code",
      "execution_count": null,
      "metadata": {
        "id": "mp-QDHUUec1H"
      },
      "outputs": [],
      "source": [
        "x = np.arange(0, 5, 0.1)\n",
        "y = np.sin(x)\n",
        "plt.plot(x, y)"
      ]
    },
    {
      "cell_type": "code",
      "execution_count": null,
      "metadata": {
        "id": "eqkQ-e2me5sm"
      },
      "outputs": [],
      "source": [
        "x = [1, 2, 3, 4]\n",
        "y = [1, 2, 3, 4]\n",
        "\n",
        "plt.plot(x, y)\n",
        "plt.show()"
      ]
    },
    {
      "cell_type": "code",
      "source": [],
      "metadata": {
        "id": "z_lLjQwdtQ95"
      },
      "execution_count": null,
      "outputs": []
    },
    {
      "cell_type": "code",
      "execution_count": null,
      "metadata": {
        "id": "qNsG643kfXmc"
      },
      "outputs": [],
      "source": [
        "df.job_posted_date.head()"
      ]
    },
    {
      "cell_type": "code",
      "execution_count": null,
      "metadata": {
        "id": "QtF2cvw2fyOM"
      },
      "outputs": [],
      "source": [
        "plt.plot(df.job_posted_date, df.job_posted_date)\n",
        "plt.show()"
      ]
    },
    {
      "cell_type": "code",
      "execution_count": null,
      "metadata": {
        "id": "mAq4_bNEf5dL"
      },
      "outputs": [],
      "source": [
        "date_counts = df.job_posted_date.value_counts()\n",
        "date_counts = date_counts.sort_index()\n",
        "\n"
      ]
    },
    {
      "cell_type": "code",
      "execution_count": null,
      "metadata": {
        "id": "6vwrShgnghNc"
      },
      "outputs": [],
      "source": [
        "date_counts"
      ]
    },
    {
      "cell_type": "code",
      "execution_count": null,
      "metadata": {
        "id": "KJKqlwkMf_2o"
      },
      "outputs": [],
      "source": [
        "plt.plot(date_counts.index, date_counts)\n",
        "plt.show()"
      ]
    },
    {
      "cell_type": "code",
      "execution_count": null,
      "metadata": {
        "id": "22S7P8zHgX9t"
      },
      "outputs": [],
      "source": [
        "df['job_posted_month'] = df['job_posted_date'].dt.month"
      ]
    },
    {
      "cell_type": "code",
      "execution_count": null,
      "metadata": {
        "id": "Xr6QLMuzg9_O"
      },
      "outputs": [],
      "source": [
        "monthly_counts = df.job_posted_month.value_counts()\n",
        "\n",
        "monthly_counts = monthly_counts.sort_index()\n",
        "\n",
        "monthly_counts"
      ]
    },
    {
      "cell_type": "code",
      "execution_count": null,
      "metadata": {
        "id": "ibKtLp5Vg-eJ"
      },
      "outputs": [],
      "source": [
        "plt.plot(monthly_counts.index, monthly_counts)\n",
        "plt.show()"
      ]
    },
    {
      "cell_type": "code",
      "execution_count": null,
      "metadata": {
        "id": "rELObIYphQL1"
      },
      "outputs": [],
      "source": [
        "series = pd.Series([10, 20, 30, 40, 50], index=['a', 'b', 'c', 'd', 'e'])"
      ]
    },
    {
      "cell_type": "code",
      "execution_count": null,
      "metadata": {
        "id": "BC2t9nMPhiQm"
      },
      "outputs": [],
      "source": [
        "series.index"
      ]
    },
    {
      "cell_type": "code",
      "execution_count": null,
      "metadata": {
        "id": "SCTsiFIShtnO"
      },
      "outputs": [],
      "source": [
        "series.values"
      ]
    },
    {
      "cell_type": "code",
      "execution_count": null,
      "metadata": {
        "id": "UphTy_qfhz3U"
      },
      "outputs": [],
      "source": [
        "job_counts = df.job_title_short.value_counts()"
      ]
    },
    {
      "cell_type": "code",
      "execution_count": null,
      "metadata": {
        "id": "z2nYB-RdjJ3k"
      },
      "outputs": [],
      "source": [
        "job_counts"
      ]
    },
    {
      "cell_type": "code",
      "execution_count": null,
      "metadata": {
        "id": "h7eF682LjOv7"
      },
      "outputs": [],
      "source": [
        "job_counts = job_counts.sort_values(ascending=True)\n",
        "plt.barh(job_counts.index, job_counts)"
      ]
    },
    {
      "cell_type": "code",
      "execution_count": null,
      "metadata": {
        "id": "S8S535RijW6b"
      },
      "outputs": [],
      "source": [
        "months = ['January', 'February', 'March', 'April']\n",
        "postings = [120, 150, 100, 130]\n",
        "\n",
        "plt.plot(months, postings)\n",
        "plt.show()"
      ]
    },
    {
      "cell_type": "code",
      "execution_count": null,
      "metadata": {
        "id": "GWtAuhZYkFq-"
      },
      "outputs": [],
      "source": [
        "months = ['January', 'February', 'March', 'April']\n",
        "postings = [120, 150, 100, 130]\n",
        "\n",
        "plt.bar(months, postings)\n",
        "plt.show()"
      ]
    },
    {
      "cell_type": "code",
      "execution_count": null,
      "metadata": {
        "id": "AK1ELA6dkUR5"
      },
      "outputs": [],
      "source": [
        "job_counts = df.job_title_short.value_counts()\n",
        "job_counts"
      ]
    },
    {
      "cell_type": "code",
      "execution_count": null,
      "metadata": {
        "id": "U3s0DGFDk4t4"
      },
      "outputs": [],
      "source": [
        "plt.bar(job_counts.index, job_counts)\n",
        "plt.title('Postings by Job Title')\n",
        "plt.ylabel('Count of Job Postings')\n",
        "plt.xticks(rotation=45, ha='right')\n",
        "plt.show()"
      ]
    },
    {
      "cell_type": "code",
      "execution_count": null,
      "metadata": {
        "id": "K3RZDTd7mudt"
      },
      "outputs": [],
      "source": [
        "location_counts = df['job_country'].value_counts().head(5)"
      ]
    },
    {
      "cell_type": "code",
      "execution_count": null,
      "metadata": {
        "id": "yodqCUQSk-Pw"
      },
      "outputs": [],
      "source": [
        "plt.bar(location_counts.index, location_counts.values, color='orange')\n",
        "plt.title('Postings by Job Country')\n",
        "plt.ylabel('Count of Job Country')\n",
        "plt.xticks(rotation=45)\n",
        "plt.show()"
      ]
    },
    {
      "cell_type": "code",
      "execution_count": null,
      "metadata": {
        "id": "98_3H0Lnp6JK"
      },
      "outputs": [],
      "source": [
        "job_salary = df.groupby('job_title_short')['salary_year_avg'].mean()\n",
        "job_salary = job_salary.sort_values(ascending=True)\n",
        "\n",
        "plt.barh(job_salary.index, job_salary.values)\n",
        "plt.show()"
      ]
    },
    {
      "cell_type": "code",
      "execution_count": null,
      "metadata": {
        "id": "yiUGC7cvMMY2"
      },
      "outputs": [],
      "source": [
        "df['job_posted_date'] = pd.to_datetime(df['job_posted_date'])\n",
        "\n",
        "df['job_posted_month'] = df['job_posted_date'].dt.month\n",
        "monthly_avg_salary = df.groupby('job_posted_month')['salary_year_avg'].mean().sort_index()\n",
        "\n",
        "plt.plot(monthly_avg_salary.index, monthly_avg_salary.values, color='green')\n",
        "plt.show()"
      ]
    },
    {
      "cell_type": "code",
      "execution_count": null,
      "metadata": {
        "id": "Y5Eu2ehKNItW"
      },
      "outputs": [],
      "source": [
        "plt.bar(job_counts.index, job_counts)\n",
        "plt.show()"
      ]
    },
    {
      "cell_type": "code",
      "execution_count": null,
      "metadata": {
        "id": "-pKpgdoGNc9s"
      },
      "outputs": [],
      "source": [
        "job_counts.plot(kind='bar')\n",
        "plt.ylabel('Count of Postings')\n",
        "plt.xlabel('')\n",
        "plt.title('Job Postings by Job Title')\n",
        "plt.xticks(rotation=45, ha='right')\n",
        "plt.show()"
      ]
    },
    {
      "cell_type": "code",
      "execution_count": null,
      "metadata": {
        "id": "MQKbNt17N8J2"
      },
      "outputs": [],
      "source": [
        "df[['job_posted_date', 'salary_year_avg']].dropna(subset=['salary_year_avg'])"
      ]
    },
    {
      "cell_type": "code",
      "execution_count": null,
      "metadata": {
        "id": "o9ejG1hyOotv"
      },
      "outputs": [],
      "source": [
        "df.plot(x='job_posted_date', y='salary_year_avg', kind='line')"
      ]
    },
    {
      "cell_type": "code",
      "execution_count": null,
      "metadata": {
        "id": "62pn-ol4Ow31"
      },
      "outputs": [],
      "source": [
        "plt.bar(location_counts.index, location_counts.values)\n",
        "plt.title('Number of Jobs per Country')\n",
        "plt.xlabel('Job Country')\n",
        "plt.ylabel('Number of Postings')\n",
        "plt.xticks(rotation=45, ha='right')\n",
        "plt.show()"
      ]
    },
    {
      "cell_type": "code",
      "execution_count": null,
      "metadata": {
        "id": "MV72WYogPZ_L"
      },
      "outputs": [],
      "source": [
        "avg_salary_by_job = df.groupby('job_title_short')['salary_year_avg'].mean().sort_values()\n",
        "\n",
        "plt.barh(avg_salary_by_job.index, avg_salary_by_job.values)\n",
        "plt.xlabel('Average Salary')\n",
        "plt.title('Average Salary by Job Title')\n",
        "plt.show()"
      ]
    },
    {
      "cell_type": "code",
      "execution_count": null,
      "metadata": {
        "id": "Z7B_mTiDQQsW"
      },
      "outputs": [],
      "source": [
        "df['job_posted_date'] = pd.to_datetime(df['job_posted_date'])\n",
        "\n",
        "df['job_posted_month'] = df['job_posted_date'].dt.month\n",
        "monthly_avg_salary = df.groupby('job_posted_month')['salary_year_avg'].mean().sort_index()\n",
        "\n",
        "plt.plot(monthly_avg_salary.index, monthly_avg_salary.values, color='green', label='Average Salary')\n",
        "plt.show()"
      ]
    },
    {
      "cell_type": "code",
      "execution_count": null,
      "metadata": {
        "id": "0kUjpO8_Qdw5"
      },
      "outputs": [],
      "source": [
        "plt.plot(monthly_avg_salary.index, monthly_avg_salary.values, color='green', label='Average Salary')\n",
        "plt.xlabel('Month')\n",
        "plt.ylabel('Average Salary')\n",
        "plt.title('Average Salary by Month')\n",
        "plt.legend()\n",
        "plt.show()"
      ]
    },
    {
      "cell_type": "code",
      "execution_count": null,
      "metadata": {
        "id": "4C3n3wGtQypf"
      },
      "outputs": [],
      "source": [
        "job_counts = df['job_via'].value_counts().head(5)\n",
        "job_counts.plot(kind='bar')\n",
        "plt.show()\n",
        "\n"
      ]
    },
    {
      "cell_type": "code",
      "execution_count": null,
      "metadata": {
        "id": "uUh1Y_INRfVX"
      },
      "outputs": [],
      "source": [
        "df['job_posted_date'] = pd.to_datetime(df['job_posted_date'])\n",
        "\n",
        "df['job_posted_month'] = df['job_posted_date'].dt.to_period('M')\n",
        "monthly_job_counts = df['job_posted_month'].value_counts().sort_index()\n",
        "monthly_job_counts.plot(kind='line')\n",
        "plt.xlabel('Month')\n",
        "plt.ylabel('Number of Job Postings')\n",
        "plt.title('Trend of Job Postings Over Time')\n",
        "plt.show()\n"
      ]
    },
    {
      "cell_type": "code",
      "execution_count": null,
      "metadata": {
        "id": "XAUhqtGSSeIZ"
      },
      "outputs": [],
      "source": [
        "location_counts = df['job_location'].value_counts().head(5)\n",
        "location_counts.plot(kind='barh')\n",
        "plt.xlabel('Count of Jobs')\n",
        "plt.ylabel('Job Location')\n",
        "plt.title('Number of Job Postings by Job Location')\n",
        "plt.show()"
      ]
    },
    {
      "cell_type": "code",
      "execution_count": null,
      "metadata": {
        "id": "JjERitXPUdIU"
      },
      "outputs": [],
      "source": [
        "job_salary = df.groupby('job_title_short')['salary_year_avg'].median().sort_values()"
      ]
    },
    {
      "cell_type": "code",
      "execution_count": null,
      "metadata": {
        "id": "gw4EdBLEVaks"
      },
      "outputs": [],
      "source": [
        "job_salary.plot(kind='barh', xlabel='Salary ($USD)', ylabel='', title='Median Salary by Job Title')\n",
        "plt.show()"
      ]
    },
    {
      "cell_type": "markdown",
      "metadata": {
        "id": "zvWNnSHvpicN"
      },
      "source": [
        "# Practicando nuevamente desde NumPy"
      ]
    },
    {
      "cell_type": "code",
      "execution_count": null,
      "metadata": {
        "id": "G_23oMHspkbR"
      },
      "outputs": [],
      "source": [
        "import random\n",
        "\n",
        "salary_list = [random.randint(50_000, 100_000) for _ in range(10_000_000)]"
      ]
    },
    {
      "cell_type": "code",
      "execution_count": null,
      "metadata": {
        "id": "FYdMZdR0qSTq"
      },
      "outputs": [],
      "source": [
        "import statistics"
      ]
    },
    {
      "cell_type": "code",
      "execution_count": null,
      "metadata": {
        "id": "mgvpO2lap1ms"
      },
      "outputs": [],
      "source": [
        "%%timeit\n",
        "\n",
        "statistics.mean(salary_list)"
      ]
    },
    {
      "cell_type": "code",
      "execution_count": null,
      "metadata": {
        "id": "Xd2tlB-wqIOu"
      },
      "outputs": [],
      "source": [
        "import numpy as np"
      ]
    },
    {
      "cell_type": "code",
      "execution_count": null,
      "metadata": {
        "id": "-VqCJJNKqYIn"
      },
      "outputs": [],
      "source": [
        "%%timeit\n",
        "\n",
        "np.mean(salary_list)"
      ]
    },
    {
      "cell_type": "code",
      "execution_count": null,
      "metadata": {
        "id": "BrQt3BOTqaFK"
      },
      "outputs": [],
      "source": [
        "my_array = np.array([1, 2, 3, 4, 5])"
      ]
    },
    {
      "cell_type": "code",
      "execution_count": null,
      "metadata": {
        "id": "OAJIkuUXrFta"
      },
      "outputs": [],
      "source": [
        "my_array.mean()"
      ]
    },
    {
      "cell_type": "code",
      "execution_count": null,
      "metadata": {
        "id": "_n_1E6hDrJ_l"
      },
      "outputs": [],
      "source": [
        "job_titles = np.array(['Data Analyst', 'Data Scientist', 'Data Engineer', 'Machine Learning Engineer', 'AI Engineer'])\n",
        "\n",
        "base_salaries = np.array([60000, 80000, 75000, 90000, np.nan])\n",
        "\n",
        "bonus_rates = np.array([.05, .1, .08, .12, np.nan])"
      ]
    },
    {
      "cell_type": "code",
      "execution_count": null,
      "metadata": {
        "id": "ECU_DBcWrj57"
      },
      "outputs": [],
      "source": [
        "total_salaries = base_salaries * (1 + bonus_rates)\n",
        "\n",
        "total_salaries"
      ]
    },
    {
      "cell_type": "code",
      "execution_count": null,
      "metadata": {
        "id": "EvsiybhZrtcC"
      },
      "outputs": [],
      "source": [
        "np.nanmean(total_salaries) # si pones solo np.mean te dara NAN como resultado, tienes que usar np.nanmean"
      ]
    },
    {
      "cell_type": "code",
      "execution_count": null,
      "metadata": {
        "id": "CCG21XXWr3dQ"
      },
      "outputs": [],
      "source": [
        "applications_list = np.array([10, 15, 7, 20, 25, 30, 5])\n",
        "\n",
        "applications_list"
      ]
    },
    {
      "cell_type": "code",
      "execution_count": null,
      "metadata": {
        "id": "TTSPeN4rs0YK"
      },
      "outputs": [],
      "source": [
        "postings_list = [10, 15, 7, 20, 25, 30, 5]\n",
        "\n",
        "print(postings_list[:3])"
      ]
    },
    {
      "cell_type": "code",
      "execution_count": null,
      "metadata": {
        "id": "h_KoEmritUEI"
      },
      "outputs": [],
      "source": [
        "salaries_list = [70000, 85000, 60000, 95000, 80000]\n",
        "\n",
        "max_salary = np.max(salaries_list)\n",
        "min_salary = np.min(salaries_list)\n",
        "print(max_salary, min_salary)"
      ]
    },
    {
      "cell_type": "code",
      "execution_count": null,
      "metadata": {
        "id": "9JmKidT7tlLb"
      },
      "outputs": [],
      "source": [
        "import pandas as pd"
      ]
    },
    {
      "cell_type": "code",
      "execution_count": null,
      "metadata": {
        "id": "ggJMlK3F5A6E"
      },
      "outputs": [],
      "source": [
        "df = pd.read_csv('/content/sample_data/california_housing_test.csv')"
      ]
    },
    {
      "cell_type": "code",
      "execution_count": null,
      "metadata": {
        "id": "nWMNvaBX5ykJ"
      },
      "outputs": [],
      "source": [
        "df"
      ]
    },
    {
      "cell_type": "code",
      "execution_count": null,
      "metadata": {
        "id": "w3gkAwa_55Se"
      },
      "outputs": [],
      "source": [
        "df['total_bedrooms']"
      ]
    },
    {
      "cell_type": "code",
      "execution_count": null,
      "metadata": {
        "id": "QBUccGcJ6O1t"
      },
      "outputs": [],
      "source": [
        "df.total_bedrooms"
      ]
    },
    {
      "cell_type": "code",
      "execution_count": null,
      "metadata": {
        "id": "1QvxgH1J6TwY"
      },
      "outputs": [],
      "source": [
        "df.total_bedrooms[0]"
      ]
    },
    {
      "cell_type": "code",
      "execution_count": null,
      "metadata": {
        "id": "ie1_Vy-36YZo"
      },
      "outputs": [],
      "source": [
        "df['total_bedrooms'][2999]"
      ]
    },
    {
      "cell_type": "code",
      "execution_count": null,
      "metadata": {
        "id": "9YWf0OFm6ecH"
      },
      "outputs": [],
      "source": [
        "df.total_bedrooms[2999]"
      ]
    },
    {
      "cell_type": "code",
      "execution_count": null,
      "metadata": {
        "id": "70AWAjwY6xUf"
      },
      "outputs": [],
      "source": [
        "!pip install datasets"
      ]
    },
    {
      "cell_type": "code",
      "execution_count": null,
      "metadata": {
        "id": "xSkV1riN6gBH"
      },
      "outputs": [],
      "source": [
        "from datasets import load_dataset\n",
        "dataset = load_dataset('lukebarousse/data_jobs')"
      ]
    },
    {
      "cell_type": "code",
      "execution_count": null,
      "metadata": {
        "id": "BAqqBcHY7ayP"
      },
      "outputs": [],
      "source": [
        "df = dataset['train'].to_pandas() #tienes que tenerlo como dataframe! no como dataset. Si lo dejas así sin ponerle to_pandas será un dataset y no dataframe. Cuando pones .to_pandas lo transformas y queda como df :D"
      ]
    },
    {
      "cell_type": "code",
      "execution_count": null,
      "metadata": {
        "id": "zN7BpxeY7uak"
      },
      "outputs": [],
      "source": [
        "df"
      ]
    },
    {
      "cell_type": "code",
      "execution_count": null,
      "metadata": {
        "id": "rpO-T_ci8CVX"
      },
      "outputs": [],
      "source": [
        "df.tail(5)"
      ]
    },
    {
      "cell_type": "code",
      "execution_count": null,
      "metadata": {
        "id": "sxDPIWBp8H_F"
      },
      "outputs": [],
      "source": [
        "df.job_location"
      ]
    },
    {
      "cell_type": "code",
      "execution_count": null,
      "metadata": {
        "id": "ITj_urCW8c7I"
      },
      "outputs": [],
      "source": [
        "df['job_location']"
      ]
    },
    {
      "cell_type": "code",
      "execution_count": null,
      "metadata": {
        "id": "IIRtOAbA8e5_"
      },
      "outputs": [],
      "source": [
        "df.search_location"
      ]
    },
    {
      "cell_type": "code",
      "execution_count": null,
      "metadata": {
        "id": "Ub8NjH4z8mmo"
      },
      "outputs": [],
      "source": [
        "df.job_title[56]"
      ]
    },
    {
      "cell_type": "markdown",
      "metadata": {
        "id": "dHzfFzjYP3Yf"
      },
      "source": [
        "# !pip install datasets\n",
        "\n",
        "# Siempre tienes que poner !pip install datasets si te sales"
      ]
    },
    {
      "cell_type": "code",
      "execution_count": null,
      "metadata": {
        "id": "WYwxo7eER62R"
      },
      "outputs": [],
      "source": [
        "!pip install datasets"
      ]
    },
    {
      "cell_type": "code",
      "execution_count": null,
      "metadata": {
        "id": "LGlC6kDK_zy_"
      },
      "outputs": [],
      "source": [
        "import pandas as pd\n",
        "from datasets import load_dataset\n",
        "\n",
        "dataset = load_dataset('lukebarousse/data_jobs')\n",
        "df = dataset['train'].to_pandas()"
      ]
    },
    {
      "cell_type": "code",
      "execution_count": null,
      "metadata": {
        "id": "zUyA_OOUPF0K"
      },
      "outputs": [],
      "source": [
        "df[['job_title_short', 'job_location']].iloc[100] #doble [] [] iloc = intenger location"
      ]
    },
    {
      "cell_type": "code",
      "execution_count": null,
      "metadata": {
        "id": "apoChGdWSKYr"
      },
      "outputs": [],
      "source": [
        "df.iloc[90:100, 0:2]"
      ]
    },
    {
      "cell_type": "code",
      "execution_count": null,
      "metadata": {
        "id": "8ai21IZzSqeG"
      },
      "outputs": [],
      "source": [
        "df.info()"
      ]
    },
    {
      "cell_type": "code",
      "execution_count": null,
      "metadata": {
        "id": "66CoXsMzTM-t"
      },
      "outputs": [],
      "source": [
        "df.describe() # Solo devolverá los que tengan numero o sean float, int"
      ]
    },
    {
      "cell_type": "code",
      "execution_count": null,
      "metadata": {
        "id": "N_cqDImBTpgZ"
      },
      "outputs": [],
      "source": [
        "df.job_title_short.unique()"
      ]
    },
    {
      "cell_type": "code",
      "execution_count": null,
      "metadata": {
        "id": "HRV6QD3PTxAG"
      },
      "outputs": [],
      "source": [
        "df[(df.job_title_short == 'Data Analyst') & (df.salary_year_avg.notna())]"
      ]
    },
    {
      "cell_type": "code",
      "execution_count": null,
      "metadata": {
        "id": "o3lE9hYbT_4y"
      },
      "outputs": [],
      "source": [
        "df.iloc[2]"
      ]
    },
    {
      "cell_type": "code",
      "execution_count": null,
      "metadata": {
        "id": "olHynfNAVh_p"
      },
      "outputs": [],
      "source": [
        "df.job_country.unique()"
      ]
    },
    {
      "cell_type": "code",
      "execution_count": null,
      "metadata": {
        "id": "cAu1KagMWVno"
      },
      "outputs": [],
      "source": [
        "df[(df.job_schedule_type == 'Full-time')].head(3)"
      ]
    },
    {
      "cell_type": "code",
      "execution_count": null,
      "metadata": {
        "id": "K2WObqVlXT5N"
      },
      "outputs": [],
      "source": [
        "df.job_skills.notna()"
      ]
    },
    {
      "cell_type": "code",
      "execution_count": null,
      "metadata": {
        "id": "-19j7-QyXziA"
      },
      "outputs": [],
      "source": [
        "df[df.job_skills.notna()]"
      ]
    },
    {
      "cell_type": "code",
      "execution_count": null,
      "metadata": {
        "id": "biyo10qfZFH3"
      },
      "outputs": [],
      "source": [
        "df.info()"
      ]
    },
    {
      "cell_type": "code",
      "execution_count": null,
      "metadata": {
        "id": "JdxMsHPRZrT1"
      },
      "outputs": [],
      "source": [
        "df['job_posted_date'] = pd.to_datetime(df.job_posted_date) # Recuerda que para cambiar el tipo del dato (en este caso era object, por ende, str) a tiempo (date_time) debes crear la funcion y decirle en que lo trransformarás. Arriba era object, abajo es datetime64"
      ]
    },
    {
      "cell_type": "code",
      "execution_count": null,
      "metadata": {
        "id": "qKeVnG1faG4e"
      },
      "outputs": [],
      "source": [
        "df.info()"
      ]
    },
    {
      "cell_type": "code",
      "execution_count": null,
      "metadata": {
        "id": "M0DSCAsoa0tP"
      },
      "outputs": [],
      "source": [
        "df['job_posted_month'] = df.job_posted_date.dt.month # Creación de una nueva columna. Se crea en int porque le estoy diciendo que tiene DATETIME.MONTH"
      ]
    },
    {
      "cell_type": "code",
      "execution_count": null,
      "metadata": {
        "id": "GVsJUX64cHK5"
      },
      "outputs": [],
      "source": [
        "df.info() # Si colocas df abajo sólo, ahora cada columna además de tener su mes tiene el numero que corresponde porque le estas diciendo basicamente que separe el job_posted_date o más especificamente que te de el mes donde fue posteado el cual lo está sacando de esa columna job_posted_date y la está colocando como un número simple al final. Esto se usa para poder filtrar mejor el dato sin borrar nada que puedas llegar a ocupar más adelante"
      ]
    },
    {
      "cell_type": "code",
      "execution_count": null,
      "metadata": {
        "id": "j00qdsyccb6C"
      },
      "outputs": [],
      "source": [
        "df.sort_values('job_posted_date', inplace=True) #inplace=True para que se cambie automaticamente el valor en el df sin tener rque crear otra linea de código aparte"
      ]
    },
    {
      "cell_type": "code",
      "execution_count": null,
      "metadata": {
        "id": "XzevI7ODdCWI"
      },
      "outputs": [],
      "source": [
        "df"
      ]
    },
    {
      "cell_type": "code",
      "execution_count": null,
      "metadata": {
        "id": "IaXT9sdXdZj0"
      },
      "outputs": [],
      "source": [
        "df.drop(labels='salary_hour_avg', axis=1, inplace=True)"
      ]
    },
    {
      "cell_type": "code",
      "execution_count": null,
      "metadata": {
        "id": "3er9slntdq_S"
      },
      "outputs": [],
      "source": [
        "df"
      ]
    },
    {
      "cell_type": "code",
      "execution_count": null,
      "metadata": {
        "id": "BwOi67MjdvPH"
      },
      "outputs": [],
      "source": [
        "df.dropna(subset=['salary_year_avg'], inplace=True)"
      ]
    },
    {
      "cell_type": "code",
      "execution_count": null,
      "metadata": {
        "id": "xYo06iILeE_j"
      },
      "outputs": [],
      "source": [
        "df.info()"
      ]
    },
    {
      "cell_type": "code",
      "execution_count": null,
      "metadata": {
        "id": "oa8mzKYoeKRF"
      },
      "outputs": [],
      "source": [
        "df['salary_year_avg'].sort_values(ascending=False,).head(10)"
      ]
    },
    {
      "cell_type": "code",
      "execution_count": null,
      "metadata": {
        "id": "m6QK2VAwfPi9"
      },
      "outputs": [],
      "source": [
        "df.sort_values(by='salary_year_avg', ascending=False).head(10)"
      ]
    },
    {
      "cell_type": "code",
      "execution_count": null,
      "metadata": {
        "id": "-GRuLeBEfZrB"
      },
      "outputs": [],
      "source": [
        "df['is_remote'] = df.job_work_from_home # Para crear una nueva columna no puedo ocupar el df.>>>>>>> tengo que si o si usar df['']. a lo que es = si puedo ponerle df.>>>_>>_>>_>>>"
      ]
    },
    {
      "cell_type": "code",
      "execution_count": null,
      "metadata": {
        "id": "VBkwVGJ_fq4p"
      },
      "outputs": [],
      "source": [
        "df"
      ]
    },
    {
      "cell_type": "code",
      "execution_count": null,
      "metadata": {
        "id": "M8wfExixfrq3"
      },
      "outputs": [],
      "source": [
        "df['job_posted_year'] = df.job_posted_date.dt.year"
      ]
    },
    {
      "cell_type": "code",
      "execution_count": null,
      "metadata": {
        "id": "Y7vEKS2qgMFf"
      },
      "outputs": [],
      "source": [
        "df.job_posted_year.head(5)"
      ]
    },
    {
      "cell_type": "code",
      "execution_count": null,
      "metadata": {
        "id": "HCFEu1RagMsK"
      },
      "outputs": [],
      "source": [
        "df"
      ]
    },
    {
      "cell_type": "code",
      "execution_count": null,
      "metadata": {
        "id": "0gCtmgnzgW8z"
      },
      "outputs": [],
      "source": [
        "df.dropna(subset=['salary_year_avg'], inplace=True)\n",
        "df.head(5)"
      ]
    },
    {
      "cell_type": "code",
      "execution_count": null,
      "metadata": {
        "id": "uG1D7OYMkCYI"
      },
      "outputs": [],
      "source": [
        "!pip install datasets"
      ]
    },
    {
      "cell_type": "code",
      "execution_count": null,
      "metadata": {
        "id": "fjvpcsYpgihA"
      },
      "outputs": [],
      "source": [
        "import pandas as pd\n",
        "from datasets import load_dataset\n",
        "\n",
        "dataset = load_dataset('lukebarousse/data_jobs')\n",
        "df = dataset['train'].to_pandas()\n",
        "\n",
        "df['job_posted_date'] = pd.to_datetime(df['job_posted_date'])"
      ]
    },
    {
      "cell_type": "code",
      "execution_count": null,
      "metadata": {
        "id": "WfqXY_lDkC63"
      },
      "outputs": [],
      "source": [
        "df.describe()"
      ]
    },
    {
      "cell_type": "code",
      "execution_count": null,
      "metadata": {
        "id": "_uihKpLwkGTF"
      },
      "outputs": [],
      "source": [
        "df.info()"
      ]
    },
    {
      "cell_type": "code",
      "execution_count": null,
      "metadata": {
        "id": "xjtmuw32kLXU"
      },
      "outputs": [],
      "source": [
        "df.count()"
      ]
    },
    {
      "cell_type": "code",
      "execution_count": null,
      "metadata": {
        "id": "62_drW29kRk_"
      },
      "outputs": [],
      "source": [
        "df.salary_year_avg.median()"
      ]
    },
    {
      "cell_type": "code",
      "execution_count": null,
      "metadata": {
        "id": "RXmp_3SGkdkl"
      },
      "outputs": [],
      "source": [
        "df.salary_year_avg.idxmin() # > te dice cual es el index del min que estas buscando, en este caso el salario"
      ]
    },
    {
      "cell_type": "code",
      "execution_count": null,
      "metadata": {
        "id": "BerGfGbbkldd"
      },
      "outputs": [],
      "source": [
        "df.job_title_short.value_counts()"
      ]
    },
    {
      "cell_type": "code",
      "execution_count": null,
      "metadata": {
        "id": "YQfcmqnSk6Et"
      },
      "outputs": [],
      "source": [
        "df.groupby(['job_title_short', 'job_country'])[['salary_year_avg']].median() # Siempre que vayas a solicitar más values en el groupby tienes que usar las [] y de alli ya los agrupas como gustes"
      ]
    },
    {
      "cell_type": "code",
      "execution_count": null,
      "metadata": {
        "id": "hCIxqX3LlktV"
      },
      "outputs": [],
      "source": [
        "df.groupby('job_title_short')['salary_year_avg'].agg(['min', 'max', 'median'])"
      ]
    },
    {
      "cell_type": "code",
      "execution_count": null,
      "metadata": {
        "id": "wVVoh4wzmZoW"
      },
      "outputs": [],
      "source": [
        "df.salary_year_avg.mean()"
      ]
    },
    {
      "cell_type": "code",
      "execution_count": null,
      "metadata": {
        "id": "G1ejlmldmwPI"
      },
      "outputs": [],
      "source": [
        "df.salary_year_avg.median()"
      ]
    },
    {
      "cell_type": "code",
      "execution_count": null,
      "metadata": {
        "id": "wwwgKPf6m0qs"
      },
      "outputs": [],
      "source": [
        "# Vas a utilizar salary_year_avg en vez de salary_hour_avg porque la borraste y no voy a complicarme más la vida :D\n",
        "\n",
        "df.groupby('job_title_short')['salary_year_avg'].mean()"
      ]
    },
    {
      "cell_type": "code",
      "execution_count": null,
      "metadata": {
        "id": "qeHB2VynnEn5"
      },
      "outputs": [],
      "source": [
        "# No podré hacer esta, pero MI código es así (Para buscar el salario por hora minimo)\n",
        "\n",
        "df.salary_year_avg.idxmin() # df.iloc[665729]. No me va a salir porque la info ya la filtre y la borre"
      ]
    },
    {
      "cell_type": "code",
      "execution_count": null,
      "metadata": {
        "id": "d_pbBWKQnZ9U"
      },
      "outputs": [],
      "source": [
        "df.groupby('job_country').size() # Saldrán menos porque ya está filtrado quitando los que no publicaron el salario"
      ]
    },
    {
      "cell_type": "code",
      "execution_count": null,
      "metadata": {
        "id": "IqVv-s0Zn-_R"
      },
      "outputs": [],
      "source": [
        "df.job_country.value_counts().head(20)"
      ]
    },
    {
      "cell_type": "code",
      "execution_count": null,
      "metadata": {
        "id": "hklAkRDS46rF"
      },
      "outputs": [],
      "source": [
        "us_jobs = df[df['job_country'] == \"United States\"]"
      ]
    },
    {
      "cell_type": "code",
      "execution_count": null,
      "metadata": {
        "id": "Nekpao6C5Z1U"
      },
      "outputs": [],
      "source": [
        "us_jobs"
      ]
    },
    {
      "cell_type": "code",
      "execution_count": null,
      "metadata": {
        "id": "31s7TI_y5cDd"
      },
      "outputs": [],
      "source": [
        "df.dropna(subset=['salary_year_avg'], inplace=True)"
      ]
    },
    {
      "cell_type": "code",
      "execution_count": null,
      "metadata": {
        "id": "7_FjWKwS5whX"
      },
      "outputs": [],
      "source": [
        "us_jobs"
      ]
    },
    {
      "cell_type": "code",
      "execution_count": null,
      "metadata": {
        "id": "BKNCKRv-5x9K"
      },
      "outputs": [],
      "source": [
        "us_jobs = us_jobs[us_jobs['salary_year_avg'].notna()]"
      ]
    },
    {
      "cell_type": "code",
      "execution_count": null,
      "metadata": {
        "id": "mdq_D_d05-gn"
      },
      "outputs": [],
      "source": [
        "us_jobs"
      ]
    },
    {
      "cell_type": "code",
      "execution_count": null,
      "metadata": {
        "id": "bpGKBTs96AGr"
      },
      "outputs": [],
      "source": [
        "us_jobs.groupby('job_title_short')['salary_year_avg'].agg(['median', 'min', 'max', 'count']).sort_values(by='median', ascending=False)"
      ]
    },
    {
      "cell_type": "code",
      "execution_count": null,
      "metadata": {
        "id": "uc-NRV2Wj87K"
      },
      "outputs": [],
      "source": [
        "import matplotlib.pyplot as plt\n",
        "import numpy as np"
      ]
    },
    {
      "cell_type": "code",
      "execution_count": null,
      "metadata": {
        "id": "57tn8ql-kOg-"
      },
      "outputs": [],
      "source": [
        "x = np.arange(0, 5, 0.1)\n",
        "y = np.sin(x)\n",
        "plt.plot(x, y)"
      ]
    },
    {
      "cell_type": "code",
      "execution_count": null,
      "metadata": {
        "id": "sPVCT3AukVkR"
      },
      "outputs": [],
      "source": [
        "months = ['January', 'February', 'March', 'April']\n",
        "postings = [120, 150, 100, 130]\n",
        "\n",
        "x = months # puedes hacerlo asi con la X y Y o simplemente poner plt.plot(months, postings) y se entenderá que months es X y postings es Y\n",
        "y = postings\n",
        "plt.plot(months, postings)\n",
        "plt.show()"
      ]
    },
    {
      "cell_type": "code",
      "execution_count": null,
      "metadata": {
        "id": "s1sZR7Raks3u"
      },
      "outputs": [],
      "source": [
        "job_titles = ['Data Analyst', 'Data Scientist', 'Data Engineer']\n",
        "postings = [50, 75, 60]\n",
        "plt.bar(job_titles, postings)\n",
        "plt.show()"
      ]
    },
    {
      "cell_type": "code",
      "execution_count": null,
      "metadata": {
        "colab": {
          "base_uri": "https://localhost:8080/",
          "height": 1000
        },
        "id": "3fDln2X3lImM",
        "outputId": "2c331d05-97fc-4128-87eb-14771868e44f"
      },
      "outputs": [
        {
          "output_type": "stream",
          "name": "stdout",
          "text": [
            "Collecting datasets\n",
            "  Downloading datasets-2.20.0-py3-none-any.whl.metadata (19 kB)\n",
            "Requirement already satisfied: filelock in /usr/local/lib/python3.10/dist-packages (from datasets) (3.15.4)\n",
            "Requirement already satisfied: numpy>=1.17 in /usr/local/lib/python3.10/dist-packages (from datasets) (1.26.4)\n",
            "Collecting pyarrow>=15.0.0 (from datasets)\n",
            "  Downloading pyarrow-17.0.0-cp310-cp310-manylinux_2_28_x86_64.whl.metadata (3.3 kB)\n",
            "Requirement already satisfied: pyarrow-hotfix in /usr/local/lib/python3.10/dist-packages (from datasets) (0.6)\n",
            "Collecting dill<0.3.9,>=0.3.0 (from datasets)\n",
            "  Downloading dill-0.3.8-py3-none-any.whl.metadata (10 kB)\n",
            "Requirement already satisfied: pandas in /usr/local/lib/python3.10/dist-packages (from datasets) (2.1.4)\n",
            "Collecting requests>=2.32.2 (from datasets)\n",
            "  Downloading requests-2.32.3-py3-none-any.whl.metadata (4.6 kB)\n",
            "Requirement already satisfied: tqdm>=4.66.3 in /usr/local/lib/python3.10/dist-packages (from datasets) (4.66.4)\n",
            "Collecting xxhash (from datasets)\n",
            "  Downloading xxhash-3.4.1-cp310-cp310-manylinux_2_17_x86_64.manylinux2014_x86_64.whl.metadata (12 kB)\n",
            "Collecting multiprocess (from datasets)\n",
            "  Downloading multiprocess-0.70.16-py310-none-any.whl.metadata (7.2 kB)\n",
            "Collecting fsspec<=2024.5.0,>=2023.1.0 (from fsspec[http]<=2024.5.0,>=2023.1.0->datasets)\n",
            "  Downloading fsspec-2024.5.0-py3-none-any.whl.metadata (11 kB)\n",
            "Requirement already satisfied: aiohttp in /usr/local/lib/python3.10/dist-packages (from datasets) (3.10.0)\n",
            "Requirement already satisfied: huggingface-hub>=0.21.2 in /usr/local/lib/python3.10/dist-packages (from datasets) (0.23.5)\n",
            "Requirement already satisfied: packaging in /usr/local/lib/python3.10/dist-packages (from datasets) (24.1)\n",
            "Requirement already satisfied: pyyaml>=5.1 in /usr/local/lib/python3.10/dist-packages (from datasets) (6.0.1)\n",
            "Requirement already satisfied: aiohappyeyeballs>=2.3.0 in /usr/local/lib/python3.10/dist-packages (from aiohttp->datasets) (2.3.4)\n",
            "Requirement already satisfied: aiosignal>=1.1.2 in /usr/local/lib/python3.10/dist-packages (from aiohttp->datasets) (1.3.1)\n",
            "Requirement already satisfied: attrs>=17.3.0 in /usr/local/lib/python3.10/dist-packages (from aiohttp->datasets) (23.2.0)\n",
            "Requirement already satisfied: frozenlist>=1.1.1 in /usr/local/lib/python3.10/dist-packages (from aiohttp->datasets) (1.4.1)\n",
            "Requirement already satisfied: multidict<7.0,>=4.5 in /usr/local/lib/python3.10/dist-packages (from aiohttp->datasets) (6.0.5)\n",
            "Requirement already satisfied: yarl<2.0,>=1.0 in /usr/local/lib/python3.10/dist-packages (from aiohttp->datasets) (1.9.4)\n",
            "Requirement already satisfied: async-timeout<5.0,>=4.0 in /usr/local/lib/python3.10/dist-packages (from aiohttp->datasets) (4.0.3)\n",
            "Requirement already satisfied: typing-extensions>=3.7.4.3 in /usr/local/lib/python3.10/dist-packages (from huggingface-hub>=0.21.2->datasets) (4.12.2)\n",
            "Requirement already satisfied: charset-normalizer<4,>=2 in /usr/local/lib/python3.10/dist-packages (from requests>=2.32.2->datasets) (3.3.2)\n",
            "Requirement already satisfied: idna<4,>=2.5 in /usr/local/lib/python3.10/dist-packages (from requests>=2.32.2->datasets) (3.7)\n",
            "Requirement already satisfied: urllib3<3,>=1.21.1 in /usr/local/lib/python3.10/dist-packages (from requests>=2.32.2->datasets) (2.0.7)\n",
            "Requirement already satisfied: certifi>=2017.4.17 in /usr/local/lib/python3.10/dist-packages (from requests>=2.32.2->datasets) (2024.7.4)\n",
            "Requirement already satisfied: python-dateutil>=2.8.2 in /usr/local/lib/python3.10/dist-packages (from pandas->datasets) (2.8.2)\n",
            "Requirement already satisfied: pytz>=2020.1 in /usr/local/lib/python3.10/dist-packages (from pandas->datasets) (2024.1)\n",
            "Requirement already satisfied: tzdata>=2022.1 in /usr/local/lib/python3.10/dist-packages (from pandas->datasets) (2024.1)\n",
            "Requirement already satisfied: six>=1.5 in /usr/local/lib/python3.10/dist-packages (from python-dateutil>=2.8.2->pandas->datasets) (1.16.0)\n",
            "Downloading datasets-2.20.0-py3-none-any.whl (547 kB)\n",
            "\u001b[2K   \u001b[90m━━━━━━━━━━━━━━━━━━━━━━━━━━━━━━━━━━━━━━━━\u001b[0m \u001b[32m547.8/547.8 kB\u001b[0m \u001b[31m10.4 MB/s\u001b[0m eta \u001b[36m0:00:00\u001b[0m\n",
            "\u001b[?25hDownloading dill-0.3.8-py3-none-any.whl (116 kB)\n",
            "\u001b[2K   \u001b[90m━━━━━━━━━━━━━━━━━━━━━━━━━━━━━━━━━━━━━━━━\u001b[0m \u001b[32m116.3/116.3 kB\u001b[0m \u001b[31m8.7 MB/s\u001b[0m eta \u001b[36m0:00:00\u001b[0m\n",
            "\u001b[?25hDownloading fsspec-2024.5.0-py3-none-any.whl (316 kB)\n",
            "\u001b[2K   \u001b[90m━━━━━━━━━━━━━━━━━━━━━━━━━━━━━━━━━━━━━━━━\u001b[0m \u001b[32m316.1/316.1 kB\u001b[0m \u001b[31m23.9 MB/s\u001b[0m eta \u001b[36m0:00:00\u001b[0m\n",
            "\u001b[?25hDownloading pyarrow-17.0.0-cp310-cp310-manylinux_2_28_x86_64.whl (39.9 MB)\n",
            "\u001b[2K   \u001b[90m━━━━━━━━━━━━━━━━━━━━━━━━━━━━━━━━━━━━━━━━\u001b[0m \u001b[32m39.9/39.9 MB\u001b[0m \u001b[31m18.0 MB/s\u001b[0m eta \u001b[36m0:00:00\u001b[0m\n",
            "\u001b[?25hDownloading requests-2.32.3-py3-none-any.whl (64 kB)\n",
            "\u001b[2K   \u001b[90m━━━━━━━━━━━━━━━━━━━━━━━━━━━━━━━━━━━━━━━━\u001b[0m \u001b[32m64.9/64.9 kB\u001b[0m \u001b[31m4.9 MB/s\u001b[0m eta \u001b[36m0:00:00\u001b[0m\n",
            "\u001b[?25hDownloading multiprocess-0.70.16-py310-none-any.whl (134 kB)\n",
            "\u001b[2K   \u001b[90m━━━━━━━━━━━━━━━━━━━━━━━━━━━━━━━━━━━━━━━━\u001b[0m \u001b[32m134.8/134.8 kB\u001b[0m \u001b[31m9.1 MB/s\u001b[0m eta \u001b[36m0:00:00\u001b[0m\n",
            "\u001b[?25hDownloading xxhash-3.4.1-cp310-cp310-manylinux_2_17_x86_64.manylinux2014_x86_64.whl (194 kB)\n",
            "\u001b[2K   \u001b[90m━━━━━━━━━━━━━━━━━━━━━━━━━━━━━━━━━━━━━━━━\u001b[0m \u001b[32m194.1/194.1 kB\u001b[0m \u001b[31m13.0 MB/s\u001b[0m eta \u001b[36m0:00:00\u001b[0m\n",
            "\u001b[?25hInstalling collected packages: xxhash, requests, pyarrow, fsspec, dill, multiprocess, datasets\n",
            "  Attempting uninstall: requests\n",
            "    Found existing installation: requests 2.31.0\n",
            "    Uninstalling requests-2.31.0:\n",
            "      Successfully uninstalled requests-2.31.0\n",
            "  Attempting uninstall: pyarrow\n",
            "    Found existing installation: pyarrow 14.0.2\n",
            "    Uninstalling pyarrow-14.0.2:\n",
            "      Successfully uninstalled pyarrow-14.0.2\n",
            "  Attempting uninstall: fsspec\n",
            "    Found existing installation: fsspec 2024.6.1\n",
            "    Uninstalling fsspec-2024.6.1:\n",
            "      Successfully uninstalled fsspec-2024.6.1\n",
            "\u001b[31mERROR: pip's dependency resolver does not currently take into account all the packages that are installed. This behaviour is the source of the following dependency conflicts.\n",
            "torch 2.3.1+cu121 requires nvidia-cublas-cu12==12.1.3.1; platform_system == \"Linux\" and platform_machine == \"x86_64\", which is not installed.\n",
            "torch 2.3.1+cu121 requires nvidia-cuda-cupti-cu12==12.1.105; platform_system == \"Linux\" and platform_machine == \"x86_64\", which is not installed.\n",
            "torch 2.3.1+cu121 requires nvidia-cuda-nvrtc-cu12==12.1.105; platform_system == \"Linux\" and platform_machine == \"x86_64\", which is not installed.\n",
            "torch 2.3.1+cu121 requires nvidia-cuda-runtime-cu12==12.1.105; platform_system == \"Linux\" and platform_machine == \"x86_64\", which is not installed.\n",
            "torch 2.3.1+cu121 requires nvidia-cudnn-cu12==8.9.2.26; platform_system == \"Linux\" and platform_machine == \"x86_64\", which is not installed.\n",
            "torch 2.3.1+cu121 requires nvidia-cufft-cu12==11.0.2.54; platform_system == \"Linux\" and platform_machine == \"x86_64\", which is not installed.\n",
            "torch 2.3.1+cu121 requires nvidia-curand-cu12==10.3.2.106; platform_system == \"Linux\" and platform_machine == \"x86_64\", which is not installed.\n",
            "torch 2.3.1+cu121 requires nvidia-cusolver-cu12==11.4.5.107; platform_system == \"Linux\" and platform_machine == \"x86_64\", which is not installed.\n",
            "torch 2.3.1+cu121 requires nvidia-cusparse-cu12==12.1.0.106; platform_system == \"Linux\" and platform_machine == \"x86_64\", which is not installed.\n",
            "torch 2.3.1+cu121 requires nvidia-nccl-cu12==2.20.5; platform_system == \"Linux\" and platform_machine == \"x86_64\", which is not installed.\n",
            "torch 2.3.1+cu121 requires nvidia-nvtx-cu12==12.1.105; platform_system == \"Linux\" and platform_machine == \"x86_64\", which is not installed.\n",
            "cudf-cu12 24.4.1 requires pyarrow<15.0.0a0,>=14.0.1, but you have pyarrow 17.0.0 which is incompatible.\n",
            "gcsfs 2024.6.1 requires fsspec==2024.6.1, but you have fsspec 2024.5.0 which is incompatible.\n",
            "google-colab 1.0.0 requires requests==2.31.0, but you have requests 2.32.3 which is incompatible.\n",
            "ibis-framework 8.0.0 requires pyarrow<16,>=2, but you have pyarrow 17.0.0 which is incompatible.\u001b[0m\u001b[31m\n",
            "\u001b[0mSuccessfully installed datasets-2.20.0 dill-0.3.8 fsspec-2024.5.0 multiprocess-0.70.16 pyarrow-17.0.0 requests-2.32.3 xxhash-3.4.1\n"
          ]
        },
        {
          "output_type": "display_data",
          "data": {
            "application/vnd.colab-display-data+json": {
              "pip_warning": {
                "packages": [
                  "pyarrow"
                ]
              },
              "id": "48c68fa82a014a868714ec7b71f6e508"
            }
          },
          "metadata": {}
        }
      ],
      "source": [
        "!pip install datasets"
      ]
    },
    {
      "cell_type": "code",
      "execution_count": null,
      "metadata": {
        "colab": {
          "base_uri": "https://localhost:8080/",
          "height": 237,
          "referenced_widgets": [
            "4e68cb3765354099a1be1bbe24eddfcb",
            "09bcdac9ba494f09b499ae26328fdfa7",
            "ee3764d203a04a49ac6bf9ac18ad9e3c",
            "70250b78be15432a84aeee1c712302f7",
            "06d9030fcfbc400d8559d2c6550a3575",
            "97e3b72bc31e41a19d7aff522fff86b9",
            "69674d75fff94f26b9347f0d7721143f",
            "f5bfe7c276a940298a3b7d658916bfb2",
            "5f164cf819d64a6ead8e42e4efc943e0",
            "0377524213444a089b52aaaa01036c8f",
            "08dc9a12ef544f2a9903dd2c689ec200",
            "18fda8ebe34949fb9d863f127c9649df",
            "83013584e7fb44428fa9abd7ec8e0c6e",
            "6c1c428baa70413e88842d99e18af204",
            "509315a5f6ff4ff09df6c9f9b6a54027",
            "f651ad56375f4c46bed40f0fcaff6c29",
            "1d2c72d352b24e3f8a9f721f1837ac2b",
            "321941e179e84ff6af218db9d2d658ba",
            "234629a9e66d4be09658c73f824448a9",
            "fc47f792b498430fa41289bb82388ef2",
            "5b781081156a4852a2375e07e9fc0215",
            "a83183ac9df143cdb65b45e7edf68ba0",
            "1e9b0e5da94f45ee895af0978a2a52aa",
            "5e2c0f0062524187baaf4b6054e2d542",
            "2ac3739624bb44949deb2ce2f19500be",
            "5e1d907411fd45b59ff815dc0c262a97",
            "498b13b0bd904ddbb3045b5afda647a8",
            "8c99bac5b2e44a14a28f39d39bac0337",
            "111448ed3b3a42a8a9a9451ab290fd1a",
            "a92dc775829a433cb73634e228df57f3",
            "c7c0a1055f644af98d1da4ea0bce574b",
            "36fd49ad3b3e435c8865ae28fad820b9",
            "f59bf672531b4574bafdca4e5f56db83"
          ]
        },
        "id": "HP-Ko5aIlew0",
        "outputId": "de50caa8-faff-43c7-d96e-6796a9b24008"
      },
      "outputs": [
        {
          "output_type": "stream",
          "name": "stderr",
          "text": [
            "/usr/local/lib/python3.10/dist-packages/huggingface_hub/utils/_token.py:89: UserWarning: \n",
            "The secret `HF_TOKEN` does not exist in your Colab secrets.\n",
            "To authenticate with the Hugging Face Hub, create a token in your settings tab (https://huggingface.co/settings/tokens), set it as secret in your Google Colab and restart your session.\n",
            "You will be able to reuse this secret in all of your notebooks.\n",
            "Please note that authentication is recommended but still optional to access public models or datasets.\n",
            "  warnings.warn(\n"
          ]
        },
        {
          "output_type": "display_data",
          "data": {
            "text/plain": [
              "Downloading readme:   0%|          | 0.00/28.0 [00:00<?, ?B/s]"
            ],
            "application/vnd.jupyter.widget-view+json": {
              "version_major": 2,
              "version_minor": 0,
              "model_id": "4e68cb3765354099a1be1bbe24eddfcb"
            }
          },
          "metadata": {}
        },
        {
          "output_type": "display_data",
          "data": {
            "text/plain": [
              "Downloading data:   0%|          | 0.00/231M [00:00<?, ?B/s]"
            ],
            "application/vnd.jupyter.widget-view+json": {
              "version_major": 2,
              "version_minor": 0,
              "model_id": "18fda8ebe34949fb9d863f127c9649df"
            }
          },
          "metadata": {}
        },
        {
          "output_type": "display_data",
          "data": {
            "text/plain": [
              "Generating train split:   0%|          | 0/785741 [00:00<?, ? examples/s]"
            ],
            "application/vnd.jupyter.widget-view+json": {
              "version_major": 2,
              "version_minor": 0,
              "model_id": "1e9b0e5da94f45ee895af0978a2a52aa"
            }
          },
          "metadata": {}
        }
      ],
      "source": [
        "import pandas as pd\n",
        "from datasets import load_dataset\n",
        "import matplotlib.pyplot as plt\n",
        "\n",
        "dataset = load_dataset('lukebarousse/data_jobs')\n",
        "df = dataset['train'].to_pandas()\n",
        "\n",
        "# Data Cleanup (not needed for all problems but good to do anyways)\n",
        "df['job_posted_date'] = pd.to_datetime(df['job_posted_date'])"
      ]
    },
    {
      "cell_type": "code",
      "execution_count": null,
      "metadata": {
        "id": "oFfilBEUlfFw"
      },
      "outputs": [],
      "source": [
        "x = [1, 2, 3, 4, 5]\n",
        "y = [1, 2, 3, 4, 5]\n",
        "\n",
        "plt.plot(x, y)\n",
        "plt.show()"
      ]
    },
    {
      "cell_type": "code",
      "execution_count": null,
      "metadata": {
        "id": "kImGcB09ll1a"
      },
      "outputs": [],
      "source": [
        "df.job_posted_date.head()"
      ]
    },
    {
      "cell_type": "code",
      "execution_count": null,
      "metadata": {
        "id": "m6opI-1imAiD"
      },
      "outputs": [],
      "source": [
        "plt.plot(df.job_posted_date, df.job_posted_date)\n",
        "plt.show()"
      ]
    },
    {
      "cell_type": "code",
      "execution_count": null,
      "metadata": {
        "id": "F0kVEUg8mIC2"
      },
      "outputs": [],
      "source": [
        "date_counts = df.job_posted_date.value_counts()\n",
        "date_counts = date_counts.sort_index()"
      ]
    },
    {
      "cell_type": "code",
      "execution_count": null,
      "metadata": {
        "id": "kejIN3rgm3hN"
      },
      "outputs": [],
      "source": [
        "plt.plot(date_counts.index, date_counts)"
      ]
    },
    {
      "cell_type": "code",
      "execution_count": null,
      "metadata": {
        "id": "zLYsnd9gnAKa"
      },
      "outputs": [],
      "source": [
        "df['job_posted_month'] = df['job_posted_date'].dt.month"
      ]
    },
    {
      "cell_type": "code",
      "execution_count": null,
      "metadata": {
        "id": "WDcC-GeWnaXX"
      },
      "outputs": [],
      "source": [
        "monthly_counts = df.job_posted_month.value_counts()\n",
        "\n",
        "monthly_counts = monthly_counts.sort_index()\n",
        "\n",
        "monthly_counts"
      ]
    },
    {
      "cell_type": "code",
      "execution_count": null,
      "metadata": {
        "id": "B0qjjGBPnmJi"
      },
      "outputs": [],
      "source": [
        "plt.plot(monthly_counts.index, monthly_counts)"
      ]
    },
    {
      "cell_type": "code",
      "execution_count": null,
      "metadata": {
        "id": "iA3zWG6AnrIO"
      },
      "outputs": [],
      "source": [
        "series = pd.Series([10, 20, 30, 40, 50], index=['a', 'b', 'c', 'd', 'e'])"
      ]
    },
    {
      "cell_type": "code",
      "execution_count": null,
      "metadata": {
        "id": "XWFR0tUmoFNr"
      },
      "outputs": [],
      "source": [
        "series.index"
      ]
    },
    {
      "cell_type": "code",
      "execution_count": null,
      "metadata": {
        "id": "GJq7BhtfoGGw"
      },
      "outputs": [],
      "source": [
        "series.values"
      ]
    },
    {
      "cell_type": "code",
      "execution_count": null,
      "metadata": {
        "id": "kgLJ-v_GoSbR"
      },
      "outputs": [],
      "source": [
        "job_counts = df.job_title_short.value_counts()"
      ]
    },
    {
      "cell_type": "code",
      "execution_count": null,
      "metadata": {
        "id": "8jdYsLhAorvL"
      },
      "outputs": [],
      "source": [
        "job_counts = job_counts.sort_values(ascending=True)\n",
        "plt.barh(job_counts.index, job_counts)\n",
        "plt.show()"
      ]
    },
    {
      "cell_type": "code",
      "execution_count": null,
      "metadata": {
        "id": "oDA9Ss7Ho5wb"
      },
      "outputs": [],
      "source": [
        "job_country = df.job_country.value_counts().head()\n",
        "plt.bar(job_country.index, job_country, color='orange')\n",
        "plt.show()"
      ]
    },
    {
      "cell_type": "code",
      "execution_count": null,
      "metadata": {
        "id": "cwrQCx0ZqQSk"
      },
      "outputs": [],
      "source": []
    },
    {
      "cell_type": "code",
      "execution_count": null,
      "metadata": {
        "id": "bTjgPgl3q-30"
      },
      "outputs": [],
      "source": [
        "# Calculate the average salary for each job title\n",
        "average_salary = df.groupby('job_title_short')['salary_year_avg'].mean() #Aqui si o si necesitabas el groupby ()[] para darle 1 dato str y el que está dentro de [] que seria la lista como int\n",
        "\n",
        "# Plot the average salary for each job title\n",
        "plt.barh(average_salary.index, average_salary.values)\n",
        "plt.show()"
      ]
    },
    {
      "cell_type": "code",
      "execution_count": null,
      "metadata": {
        "id": "pI7njXdzrUtA"
      },
      "outputs": [],
      "source": [
        "df['job_posted_month'] = df['job_posted_date'].dt.month\n",
        "monthly_avg_salary = df.groupby('job_posted_month')['salary_year_avg'].mean().sort_index()\n",
        "\n",
        "plt.plot(monthly_avg_salary.index, monthly_avg_salary.values, color='green')\n",
        "plt.show()"
      ]
    },
    {
      "cell_type": "code",
      "execution_count": null,
      "metadata": {
        "id": "7CT9lIJ9rt6Q"
      },
      "outputs": [],
      "source": [
        "job_counts = df.job_title_short.value_counts()\n",
        "\n",
        "job_counts"
      ]
    },
    {
      "cell_type": "code",
      "execution_count": null,
      "metadata": {
        "id": "VOrfUZRIsTf4"
      },
      "outputs": [],
      "source": [
        "plt.bar(job_counts.index, job_counts)\n",
        "plt.title('Count of Job Titles')\n",
        "plt.ylabel('Count of job postings')\n",
        "plt.xticks(rotation=45, ha='right')\n",
        "plt.show()"
      ]
    },
    {
      "cell_type": "code",
      "execution_count": null,
      "metadata": {
        "id": "NxngRR9qsZ1U"
      },
      "outputs": [],
      "source": [
        "job_country = df.job_country.value_counts().head()\n",
        "plt.bar(job_country.index, job_country)\n",
        "plt.xlabel('Job Country')\n",
        "plt.ylabel('Number of jobs per Country')\n",
        "plt.title('Job Postings from each Country')\n",
        "plt.xticks(rotation=45, ha='right')\n",
        "plt.show()\n",
        "\n"
      ]
    },
    {
      "cell_type": "code",
      "execution_count": null,
      "metadata": {
        "id": "QZBbJsVZyny8"
      },
      "outputs": [],
      "source": [
        "average_salary = df.groupby('job_title_short')['salary_year_avg'].mean().sort_values() #Aqui si o si necesitabas el groupby ()[] para darle 1 dato str y el que está dentro de [] que seria la lista como int\n",
        "\n",
        "plt.barh(average_salary.index, average_salary.values)\n",
        "plt.xlabel('Average Salary')\n",
        "plt.title('Average Salary by Job Title')\n",
        "plt.xticks(rotation=45, ha='right')\n",
        "plt.show()"
      ]
    },
    {
      "cell_type": "code",
      "execution_count": null,
      "metadata": {
        "id": "Ko6YylJzznZp"
      },
      "outputs": [],
      "source": [
        "df['job_posted_month'] = df['job_posted_date'].dt.month\n",
        "monthly_avg_salary = df.groupby('job_posted_month')['salary_year_avg'].mean().sort_index()\n",
        "\n",
        "plt.plot(monthly_avg_salary.index, monthly_avg_salary.values, color='red', label='Average Salary') #aqui pusiste label para que además de mostrrarte la legend se mostrara como corresponde con el nombre que le diste.\n",
        "plt.xlabel('Month')\n",
        "plt.ylabel('Average Salary')\n",
        "plt.title('Averrage Salary by Job Month')\n",
        "plt.legend()\n",
        "plt.show()\n",
        "\n"
      ]
    },
    {
      "cell_type": "code",
      "execution_count": null,
      "metadata": {
        "id": "m80aL0qc0WGy"
      },
      "outputs": [],
      "source": [
        "job_counts.plot(kind='bar')\n",
        "plt.xlabel('')\n",
        "plt.ylabel('Counts of Postings')\n",
        "plt.title('Job Postings by Job Title')\n",
        "plt.xticks(rotation=45, ha='right')\n",
        "plt.show()"
      ]
    },
    {
      "cell_type": "code",
      "execution_count": null,
      "metadata": {
        "id": "zjHxd2jz1h3h"
      },
      "outputs": [],
      "source": [
        "df"
      ]
    },
    {
      "cell_type": "code",
      "execution_count": null,
      "metadata": {
        "id": "hBBpbZnk18bh"
      },
      "outputs": [],
      "source": [
        "df[['job_posted_date', 'salary_year_avg']].dropna(subset=['salary_year_avg'])"
      ]
    },
    {
      "cell_type": "code",
      "execution_count": null,
      "metadata": {
        "id": "fNo1XLnA2HF1"
      },
      "outputs": [],
      "source": [
        "df.plot(x='job_posted_date', y='salary_year_avg', kind='line')"
      ]
    },
    {
      "cell_type": "code",
      "execution_count": null,
      "metadata": {
        "id": "EzHUB40m2NS1"
      },
      "outputs": [],
      "source": [
        "work_platform = df.job_via.value_counts().head()\n",
        "\n",
        "work_platform.plot(kind='bar')\n",
        "plt.xlabel('')\n",
        "plt.ylabel('Number of Job Postings')\n",
        "plt.title('Job Postings by Platform')\n",
        "plt.xticks(rotation=45, ha='right')\n",
        "plt.show()"
      ]
    },
    {
      "cell_type": "code",
      "execution_count": null,
      "metadata": {
        "id": "kA_OULw5HLnM"
      },
      "outputs": [],
      "source": [
        "df['job_posted_month'] = df['job_posted_date'].dt.month\n",
        "monthly_job_counts = df.job_posted_date.dt.month\n",
        "\n",
        "monthly_job_counts.plot(kind='bar')"
      ]
    },
    {
      "cell_type": "code",
      "execution_count": null,
      "metadata": {
        "id": "GFQCiR1TusI-",
        "colab": {
          "base_uri": "https://localhost:8080/",
          "height": 488
        },
        "outputId": "aa573cdc-d525-494f-e51c-a52a25e0a4bd"
      },
      "outputs": [
        {
          "output_type": "display_data",
          "data": {
            "text/plain": [
              "<Figure size 640x480 with 1 Axes>"
            ],
            "image/png": "[encoded data removed]"
          },
          "metadata": {}
        }
      ],
      "source": [
        "df['job_posted_date'] = pd.to_datetime(df['job_posted_date'])\n",
        "\n",
        "df['job_posted_month'] = df['job_posted_date'].dt.to_period('M')\n",
        "monthly_job_counts = df['job_posted_month'].value_counts().sort_index()\n",
        "monthly_job_counts.plot(kind='line')\n",
        "plt.xlabel('Month')\n",
        "plt.ylabel('Number of Job Postings')\n",
        "plt.title('Trend of Job Postings Over Time')\n",
        "plt.show()\n",
        "\n",
        "# lo saque directo de luke. toma en consideración que cambia al final dt.to_period('M') para que lo muestre como MES.\n"
      ]
    },
    {
      "cell_type": "code",
      "source": [
        "job_salary = df.groupby('job_title_short')['salary_year_avg'].median().sort_values()"
      ],
      "metadata": {
        "id": "JSe69wZwtgx4"
      },
      "execution_count": null,
      "outputs": []
    },
    {
      "cell_type": "code",
      "source": [
        "job_salary.plot(kind='barh')\n",
        "plt.xlabel('Salary ($USD)')\n",
        "plt.ylabel('')\n",
        "plt.title('Median Salary by Job Title')\n",
        "plt.show()"
      ],
      "metadata": {
        "colab": {
          "base_uri": "https://localhost:8080/",
          "height": 472
        },
        "id": "RSRlajDFTHeL",
        "outputId": "19193bb5-9fc9-431c-e191-c75b5b584f48"
      },
      "execution_count": null,
      "outputs": [
        {
          "output_type": "display_data",
          "data": {
            "text/plain": [
              "<Figure size 640x480 with 1 Axes>"
            ],
            "image/png": "[encoded data removed]"
          },
          "metadata": {}
        }
      ]
    },
    {
      "cell_type": "code",
      "source": [
        "job_location = df.job_location.value_counts().head(5)\n",
        "job_location.plot(kind='barh', ylabel='Job Location', xlabel='Count of Jobs', title='Number of Job Postings by Job Location')\n",
        "# Habia puesto job_country en vez de job_location que son 2 datos distintos\n",
        "plt.show()"
      ],
      "metadata": {
        "colab": {
          "base_uri": "https://localhost:8080/",
          "height": 472
        },
        "id": "ckKRI_TsUDKT",
        "outputId": "3321277f-aeec-4bba-e9bb-6a23ea3ede4c"
      },
      "execution_count": null,
      "outputs": [
        {
          "output_type": "display_data",
          "data": {
            "text/plain": [
              "<Figure size 640x480 with 1 Axes>"
            ],
            "image/png": "[encoded data removed]"
          },
          "metadata": {}
        }
      ]
    },
    {
      "cell_type": "code",
      "source": [
        "location_counts = df['job_location'].value_counts().head(5)\n",
        "location_counts.plot(kind='barh')\n",
        "plt.xlabel('Count of Jobs')\n",
        "plt.ylabel('Job Location')\n",
        "plt.title('Number of Job Postings by Job Location')\n",
        "plt.show()"
      ],
      "metadata": {
        "colab": {
          "base_uri": "https://localhost:8080/",
          "height": 472
        },
        "id": "1CqWLBY6Uxcz",
        "outputId": "043ca5c4-5d05-4fb8-b482-def960301fbf"
      },
      "execution_count": null,
      "outputs": [
        {
          "output_type": "display_data",
          "data": {
            "text/plain": [
              "<Figure size 640x480 with 1 Axes>"
            ],
            "image/png": "[encoded data removed]"
          },
          "metadata": {}
        }
      ]
    },
    {
      "cell_type": "code",
      "source": [],
      "metadata": {
        "id": "n7HzMb7tV3Rw"
      },
      "execution_count": null,
      "outputs": []
    }
  ],
  "metadata": {
    "colab": {
      "provenance": []
    },
    "kernelspec": {
      "display_name": "Python 3",
      "name": "python3"
    },
    "language_info": {
      "name": "python"
    },
    "widgets": {
      "application/vnd.jupyter.widget-state+json": {
        "4e68cb3765354099a1be1bbe24eddfcb": {
          "model_module": "@jupyter-widgets/controls",
          "model_name": "HBoxModel",
          "model_module_version": "1.5.0",
          "state": {
            "_dom_classes": [],
            "_model_module": "@jupyter-widgets/controls",
            "_model_module_version": "1.5.0",
            "_model_name": "HBoxModel",
            "_view_count": null,
            "_view_module": "@jupyter-widgets/controls",
            "_view_module_version": "1.5.0",
            "_view_name": "HBoxView",
            "box_style": "",
            "children": [
              "IPY_MODEL_09bcdac9ba494f09b499ae26328fdfa7",
              "IPY_MODEL_ee3764d203a04a49ac6bf9ac18ad9e3c",
              "IPY_MODEL_70250b78be15432a84aeee1c712302f7"
            ],
            "layout": "IPY_MODEL_06d9030fcfbc400d8559d2c6550a3575"
          }
        },
        "09bcdac9ba494f09b499ae26328fdfa7": {
          "model_module": "@jupyter-widgets/controls",
          "model_name": "HTMLModel",
          "model_module_version": "1.5.0",
          "state": {
            "_dom_classes": [],
            "_model_module": "@jupyter-widgets/controls",
            "_model_module_version": "1.5.0",
            "_model_name": "HTMLModel",
            "_view_count": null,
            "_view_module": "@jupyter-widgets/controls",
            "_view_module_version": "1.5.0",
            "_view_name": "HTMLView",
            "description": "",
            "description_tooltip": null,
            "layout": "IPY_MODEL_97e3b72bc31e41a19d7aff522fff86b9",
            "placeholder": "​",
            "style": "IPY_MODEL_69674d75fff94f26b9347f0d7721143f",
            "value": "Downloading readme: 100%"
          }
        },
        "ee3764d203a04a49ac6bf9ac18ad9e3c": {
          "model_module": "@jupyter-widgets/controls",
          "model_name": "FloatProgressModel",
          "model_module_version": "1.5.0",
          "state": {
            "_dom_classes": [],
            "_model_module": "@jupyter-widgets/controls",
            "_model_module_version": "1.5.0",
            "_model_name": "FloatProgressModel",
            "_view_count": null,
            "_view_module": "@jupyter-widgets/controls",
            "_view_module_version": "1.5.0",
            "_view_name": "ProgressView",
            "bar_style": "success",
            "description": "",
            "description_tooltip": null,
            "layout": "IPY_MODEL_f5bfe7c276a940298a3b7d658916bfb2",
            "max": 28,
            "min": 0,
            "orientation": "horizontal",
            "style": "IPY_MODEL_5f164cf819d64a6ead8e42e4efc943e0",
            "value": 28
          }
        },
        "70250b78be15432a84aeee1c712302f7": {
          "model_module": "@jupyter-widgets/controls",
          "model_name": "HTMLModel",
          "model_module_version": "1.5.0",
          "state": {
            "_dom_classes": [],
            "_model_module": "@jupyter-widgets/controls",
            "_model_module_version": "1.5.0",
            "_model_name": "HTMLModel",
            "_view_count": null,
            "_view_module": "@jupyter-widgets/controls",
            "_view_module_version": "1.5.0",
            "_view_name": "HTMLView",
            "description": "",
            "description_tooltip": null,
            "layout": "IPY_MODEL_0377524213444a089b52aaaa01036c8f",
            "placeholder": "​",
            "style": "IPY_MODEL_08dc9a12ef544f2a9903dd2c689ec200",
            "value": " 28.0/28.0 [00:00&lt;00:00, 388B/s]"
          }
        },
        "06d9030fcfbc400d8559d2c6550a3575": {
          "model_module": "@jupyter-widgets/base",
          "model_name": "LayoutModel",
          "model_module_version": "1.2.0",
          "state": {
            "_model_module": "@jupyter-widgets/base",
            "_model_module_version": "1.2.0",
            "_model_name": "LayoutModel",
            "_view_count": null,
            "_view_module": "@jupyter-widgets/base",
            "_view_module_version": "1.2.0",
            "_view_name": "LayoutView",
            "align_content": null,
            "align_items": null,
            "align_self": null,
            "border": null,
            "bottom": null,
            "display": null,
            "flex": null,
            "flex_flow": null,
            "grid_area": null,
            "grid_auto_columns": null,
            "grid_auto_flow": null,
            "grid_auto_rows": null,
            "grid_column": null,
            "grid_gap": null,
            "grid_row": null,
            "grid_template_areas": null,
            "grid_template_columns": null,
            "grid_template_rows": null,
            "height": null,
            "justify_content": null,
            "justify_items": null,
            "left": null,
            "margin": null,
            "max_height": null,
            "max_width": null,
            "min_height": null,
            "min_width": null,
            "object_fit": null,
            "object_position": null,
            "order": null,
            "overflow": null,
            "overflow_x": null,
            "overflow_y": null,
            "padding": null,
            "right": null,
            "top": null,
            "visibility": null,
            "width": null
          }
        },
        "97e3b72bc31e41a19d7aff522fff86b9": {
          "model_module": "@jupyter-widgets/base",
          "model_name": "LayoutModel",
          "model_module_version": "1.2.0",
          "state": {
            "_model_module": "@jupyter-widgets/base",
            "_model_module_version": "1.2.0",
            "_model_name": "LayoutModel",
            "_view_count": null,
            "_view_module": "@jupyter-widgets/base",
            "_view_module_version": "1.2.0",
            "_view_name": "LayoutView",
            "align_content": null,
            "align_items": null,
            "align_self": null,
            "border": null,
            "bottom": null,
            "display": null,
            "flex": null,
            "flex_flow": null,
            "grid_area": null,
            "grid_auto_columns": null,
            "grid_auto_flow": null,
            "grid_auto_rows": null,
            "grid_column": null,
            "grid_gap": null,
            "grid_row": null,
            "grid_template_areas": null,
            "grid_template_columns": null,
            "grid_template_rows": null,
            "height": null,
            "justify_content": null,
            "justify_items": null,
            "left": null,
            "margin": null,
            "max_height": null,
            "max_width": null,
            "min_height": null,
            "min_width": null,
            "object_fit": null,
            "object_position": null,
            "order": null,
            "overflow": null,
            "overflow_x": null,
            "overflow_y": null,
            "padding": null,
            "right": null,
            "top": null,
            "visibility": null,
            "width": null
          }
        },
        "69674d75fff94f26b9347f0d7721143f": {
          "model_module": "@jupyter-widgets/controls",
          "model_name": "DescriptionStyleModel",
          "model_module_version": "1.5.0",
          "state": {
            "_model_module": "@jupyter-widgets/controls",
            "_model_module_version": "1.5.0",
            "_model_name": "DescriptionStyleModel",
            "_view_count": null,
            "_view_module": "@jupyter-widgets/base",
            "_view_module_version": "1.2.0",
            "_view_name": "StyleView",
            "description_width": ""
          }
        },
        "f5bfe7c276a940298a3b7d658916bfb2": {
          "model_module": "@jupyter-widgets/base",
          "model_name": "LayoutModel",
          "model_module_version": "1.2.0",
          "state": {
            "_model_module": "@jupyter-widgets/base",
            "_model_module_version": "1.2.0",
            "_model_name": "LayoutModel",
            "_view_count": null,
            "_view_module": "@jupyter-widgets/base",
            "_view_module_version": "1.2.0",
            "_view_name": "LayoutView",
            "align_content": null,
            "align_items": null,
            "align_self": null,
            "border": null,
            "bottom": null,
            "display": null,
            "flex": null,
            "flex_flow": null,
            "grid_area": null,
            "grid_auto_columns": null,
            "grid_auto_flow": null,
            "grid_auto_rows": null,
            "grid_column": null,
            "grid_gap": null,
            "grid_row": null,
            "grid_template_areas": null,
            "grid_template_columns": null,
            "grid_template_rows": null,
            "height": null,
            "justify_content": null,
            "justify_items": null,
            "left": null,
            "margin": null,
            "max_height": null,
            "max_width": null,
            "min_height": null,
            "min_width": null,
            "object_fit": null,
            "object_position": null,
            "order": null,
            "overflow": null,
            "overflow_x": null,
            "overflow_y": null,
            "padding": null,
            "right": null,
            "top": null,
            "visibility": null,
            "width": null
          }
        },
        "5f164cf819d64a6ead8e42e4efc943e0": {
          "model_module": "@jupyter-widgets/controls",
          "model_name": "ProgressStyleModel",
          "model_module_version": "1.5.0",
          "state": {
            "_model_module": "@jupyter-widgets/controls",
            "_model_module_version": "1.5.0",
            "_model_name": "ProgressStyleModel",
            "_view_count": null,
            "_view_module": "@jupyter-widgets/base",
            "_view_module_version": "1.2.0",
            "_view_name": "StyleView",
            "bar_color": null,
            "description_width": ""
          }
        },
        "0377524213444a089b52aaaa01036c8f": {
          "model_module": "@jupyter-widgets/base",
          "model_name": "LayoutModel",
          "model_module_version": "1.2.0",
          "state": {
            "_model_module": "@jupyter-widgets/base",
            "_model_module_version": "1.2.0",
            "_model_name": "LayoutModel",
            "_view_count": null,
            "_view_module": "@jupyter-widgets/base",
            "_view_module_version": "1.2.0",
            "_view_name": "LayoutView",
            "align_content": null,
            "align_items": null,
            "align_self": null,
            "border": null,
            "bottom": null,
            "display": null,
            "flex": null,
            "flex_flow": null,
            "grid_area": null,
            "grid_auto_columns": null,
            "grid_auto_flow": null,
            "grid_auto_rows": null,
            "grid_column": null,
            "grid_gap": null,
            "grid_row": null,
            "grid_template_areas": null,
            "grid_template_columns": null,
            "grid_template_rows": null,
            "height": null,
            "justify_content": null,
            "justify_items": null,
            "left": null,
            "margin": null,
            "max_height": null,
            "max_width": null,
            "min_height": null,
            "min_width": null,
            "object_fit": null,
            "object_position": null,
            "order": null,
            "overflow": null,
            "overflow_x": null,
            "overflow_y": null,
            "padding": null,
            "right": null,
            "top": null,
            "visibility": null,
            "width": null
          }
        },
        "08dc9a12ef544f2a9903dd2c689ec200": {
          "model_module": "@jupyter-widgets/controls",
          "model_name": "DescriptionStyleModel",
          "model_module_version": "1.5.0",
          "state": {
            "_model_module": "@jupyter-widgets/controls",
            "_model_module_version": "1.5.0",
            "_model_name": "DescriptionStyleModel",
            "_view_count": null,
            "_view_module": "@jupyter-widgets/base",
            "_view_module_version": "1.2.0",
            "_view_name": "StyleView",
            "description_width": ""
          }
        },
        "18fda8ebe34949fb9d863f127c9649df": {
          "model_module": "@jupyter-widgets/controls",
          "model_name": "HBoxModel",
          "model_module_version": "1.5.0",
          "state": {
            "_dom_classes": [],
            "_model_module": "@jupyter-widgets/controls",
            "_model_module_version": "1.5.0",
            "_model_name": "HBoxModel",
            "_view_count": null,
            "_view_module": "@jupyter-widgets/controls",
            "_view_module_version": "1.5.0",
            "_view_name": "HBoxView",
            "box_style": "",
            "children": [
              "IPY_MODEL_83013584e7fb44428fa9abd7ec8e0c6e",
              "IPY_MODEL_6c1c428baa70413e88842d99e18af204",
              "IPY_MODEL_509315a5f6ff4ff09df6c9f9b6a54027"
            ],
            "layout": "IPY_MODEL_f651ad56375f4c46bed40f0fcaff6c29"
          }
        },
        "83013584e7fb44428fa9abd7ec8e0c6e": {
          "model_module": "@jupyter-widgets/controls",
          "model_name": "HTMLModel",
          "model_module_version": "1.5.0",
          "state": {
            "_dom_classes": [],
            "_model_module": "@jupyter-widgets/controls",
            "_model_module_version": "1.5.0",
            "_model_name": "HTMLModel",
            "_view_count": null,
            "_view_module": "@jupyter-widgets/controls",
            "_view_module_version": "1.5.0",
            "_view_name": "HTMLView",
            "description": "",
            "description_tooltip": null,
            "layout": "IPY_MODEL_1d2c72d352b24e3f8a9f721f1837ac2b",
            "placeholder": "​",
            "style": "IPY_MODEL_321941e179e84ff6af218db9d2d658ba",
            "value": "Downloading data: 100%"
          }
        },
        "6c1c428baa70413e88842d99e18af204": {
          "model_module": "@jupyter-widgets/controls",
          "model_name": "FloatProgressModel",
          "model_module_version": "1.5.0",
          "state": {
            "_dom_classes": [],
            "_model_module": "@jupyter-widgets/controls",
            "_model_module_version": "1.5.0",
            "_model_name": "FloatProgressModel",
            "_view_count": null,
            "_view_module": "@jupyter-widgets/controls",
            "_view_module_version": "1.5.0",
            "_view_name": "ProgressView",
            "bar_style": "success",
            "description": "",
            "description_tooltip": null,
            "layout": "IPY_MODEL_234629a9e66d4be09658c73f824448a9",
            "max": 231152089,
            "min": 0,
            "orientation": "horizontal",
            "style": "IPY_MODEL_fc47f792b498430fa41289bb82388ef2",
            "value": 231152089
          }
        },
        "509315a5f6ff4ff09df6c9f9b6a54027": {
          "model_module": "@jupyter-widgets/controls",
          "model_name": "HTMLModel",
          "model_module_version": "1.5.0",
          "state": {
            "_dom_classes": [],
            "_model_module": "@jupyter-widgets/controls",
            "_model_module_version": "1.5.0",
            "_model_name": "HTMLModel",
            "_view_count": null,
            "_view_module": "@jupyter-widgets/controls",
            "_view_module_version": "1.5.0",
            "_view_name": "HTMLView",
            "description": "",
            "description_tooltip": null,
            "layout": "IPY_MODEL_5b781081156a4852a2375e07e9fc0215",
            "placeholder": "​",
            "style": "IPY_MODEL_a83183ac9df143cdb65b45e7edf68ba0",
            "value": " 231M/231M [00:02&lt;00:00, 121MB/s]"
          }
        },
        "f651ad56375f4c46bed40f0fcaff6c29": {
          "model_module": "@jupyter-widgets/base",
          "model_name": "LayoutModel",
          "model_module_version": "1.2.0",
          "state": {
            "_model_module": "@jupyter-widgets/base",
            "_model_module_version": "1.2.0",
            "_model_name": "LayoutModel",
            "_view_count": null,
            "_view_module": "@jupyter-widgets/base",
            "_view_module_version": "1.2.0",
            "_view_name": "LayoutView",
            "align_content": null,
            "align_items": null,
            "align_self": null,
            "border": null,
            "bottom": null,
            "display": null,
            "flex": null,
            "flex_flow": null,
            "grid_area": null,
            "grid_auto_columns": null,
            "grid_auto_flow": null,
            "grid_auto_rows": null,
            "grid_column": null,
            "grid_gap": null,
            "grid_row": null,
            "grid_template_areas": null,
            "grid_template_columns": null,
            "grid_template_rows": null,
            "height": null,
            "justify_content": null,
            "justify_items": null,
            "left": null,
            "margin": null,
            "max_height": null,
            "max_width": null,
            "min_height": null,
            "min_width": null,
            "object_fit": null,
            "object_position": null,
            "order": null,
            "overflow": null,
            "overflow_x": null,
            "overflow_y": null,
            "padding": null,
            "right": null,
            "top": null,
            "visibility": null,
            "width": null
          }
        },
        "1d2c72d352b24e3f8a9f721f1837ac2b": {
          "model_module": "@jupyter-widgets/base",
          "model_name": "LayoutModel",
          "model_module_version": "1.2.0",
          "state": {
            "_model_module": "@jupyter-widgets/base",
            "_model_module_version": "1.2.0",
            "_model_name": "LayoutModel",
            "_view_count": null,
            "_view_module": "@jupyter-widgets/base",
            "_view_module_version": "1.2.0",
            "_view_name": "LayoutView",
            "align_content": null,
            "align_items": null,
            "align_self": null,
            "border": null,
            "bottom": null,
            "display": null,
            "flex": null,
            "flex_flow": null,
            "grid_area": null,
            "grid_auto_columns": null,
            "grid_auto_flow": null,
            "grid_auto_rows": null,
            "grid_column": null,
            "grid_gap": null,
            "grid_row": null,
            "grid_template_areas": null,
            "grid_template_columns": null,
            "grid_template_rows": null,
            "height": null,
            "justify_content": null,
            "justify_items": null,
            "left": null,
            "margin": null,
            "max_height": null,
            "max_width": null,
            "min_height": null,
            "min_width": null,
            "object_fit": null,
            "object_position": null,
            "order": null,
            "overflow": null,
            "overflow_x": null,
            "overflow_y": null,
            "padding": null,
            "right": null,
            "top": null,
            "visibility": null,
            "width": null
          }
        },
        "321941e179e84ff6af218db9d2d658ba": {
          "model_module": "@jupyter-widgets/controls",
          "model_name": "DescriptionStyleModel",
          "model_module_version": "1.5.0",
          "state": {
            "_model_module": "@jupyter-widgets/controls",
            "_model_module_version": "1.5.0",
            "_model_name": "DescriptionStyleModel",
            "_view_count": null,
            "_view_module": "@jupyter-widgets/base",
            "_view_module_version": "1.2.0",
            "_view_name": "StyleView",
            "description_width": ""
          }
        },
        "234629a9e66d4be09658c73f824448a9": {
          "model_module": "@jupyter-widgets/base",
          "model_name": "LayoutModel",
          "model_module_version": "1.2.0",
          "state": {
            "_model_module": "@jupyter-widgets/base",
            "_model_module_version": "1.2.0",
            "_model_name": "LayoutModel",
            "_view_count": null,
            "_view_module": "@jupyter-widgets/base",
            "_view_module_version": "1.2.0",
            "_view_name": "LayoutView",
            "align_content": null,
            "align_items": null,
            "align_self": null,
            "border": null,
            "bottom": null,
            "display": null,
            "flex": null,
            "flex_flow": null,
            "grid_area": null,
            "grid_auto_columns": null,
            "grid_auto_flow": null,
            "grid_auto_rows": null,
            "grid_column": null,
            "grid_gap": null,
            "grid_row": null,
            "grid_template_areas": null,
            "grid_template_columns": null,
            "grid_template_rows": null,
            "height": null,
            "justify_content": null,
            "justify_items": null,
            "left": null,
            "margin": null,
            "max_height": null,
            "max_width": null,
            "min_height": null,
            "min_width": null,
            "object_fit": null,
            "object_position": null,
            "order": null,
            "overflow": null,
            "overflow_x": null,
            "overflow_y": null,
            "padding": null,
            "right": null,
            "top": null,
            "visibility": null,
            "width": null
          }
        },
        "fc47f792b498430fa41289bb82388ef2": {
          "model_module": "@jupyter-widgets/controls",
          "model_name": "ProgressStyleModel",
          "model_module_version": "1.5.0",
          "state": {
            "_model_module": "@jupyter-widgets/controls",
            "_model_module_version": "1.5.0",
            "_model_name": "ProgressStyleModel",
            "_view_count": null,
            "_view_module": "@jupyter-widgets/base",
            "_view_module_version": "1.2.0",
            "_view_name": "StyleView",
            "bar_color": null,
            "description_width": ""
          }
        },
        "5b781081156a4852a2375e07e9fc0215": {
          "model_module": "@jupyter-widgets/base",
          "model_name": "LayoutModel",
          "model_module_version": "1.2.0",
          "state": {
            "_model_module": "@jupyter-widgets/base",
            "_model_module_version": "1.2.0",
            "_model_name": "LayoutModel",
            "_view_count": null,
            "_view_module": "@jupyter-widgets/base",
            "_view_module_version": "1.2.0",
            "_view_name": "LayoutView",
            "align_content": null,
            "align_items": null,
            "align_self": null,
            "border": null,
            "bottom": null,
            "display": null,
            "flex": null,
            "flex_flow": null,
            "grid_area": null,
            "grid_auto_columns": null,
            "grid_auto_flow": null,
            "grid_auto_rows": null,
            "grid_column": null,
            "grid_gap": null,
            "grid_row": null,
            "grid_template_areas": null,
            "grid_template_columns": null,
            "grid_template_rows": null,
            "height": null,
            "justify_content": null,
            "justify_items": null,
            "left": null,
            "margin": null,
            "max_height": null,
            "max_width": null,
            "min_height": null,
            "min_width": null,
            "object_fit": null,
            "object_position": null,
            "order": null,
            "overflow": null,
            "overflow_x": null,
            "overflow_y": null,
            "padding": null,
            "right": null,
            "top": null,
            "visibility": null,
            "width": null
          }
        },
        "a83183ac9df143cdb65b45e7edf68ba0": {
          "model_module": "@jupyter-widgets/controls",
          "model_name": "DescriptionStyleModel",
          "model_module_version": "1.5.0",
          "state": {
            "_model_module": "@jupyter-widgets/controls",
            "_model_module_version": "1.5.0",
            "_model_name": "DescriptionStyleModel",
            "_view_count": null,
            "_view_module": "@jupyter-widgets/base",
            "_view_module_version": "1.2.0",
            "_view_name": "StyleView",
            "description_width": ""
          }
        },
        "1e9b0e5da94f45ee895af0978a2a52aa": {
          "model_module": "@jupyter-widgets/controls",
          "model_name": "HBoxModel",
          "model_module_version": "1.5.0",
          "state": {
            "_dom_classes": [],
            "_model_module": "@jupyter-widgets/controls",
            "_model_module_version": "1.5.0",
            "_model_name": "HBoxModel",
            "_view_count": null,
            "_view_module": "@jupyter-widgets/controls",
            "_view_module_version": "1.5.0",
            "_view_name": "HBoxView",
            "box_style": "",
            "children": [
              "IPY_MODEL_5e2c0f0062524187baaf4b6054e2d542",
              "IPY_MODEL_2ac3739624bb44949deb2ce2f19500be",
              "IPY_MODEL_5e1d907411fd45b59ff815dc0c262a97"
            ],
            "layout": "IPY_MODEL_498b13b0bd904ddbb3045b5afda647a8"
          }
        },
        "5e2c0f0062524187baaf4b6054e2d542": {
          "model_module": "@jupyter-widgets/controls",
          "model_name": "HTMLModel",
          "model_module_version": "1.5.0",
          "state": {
            "_dom_classes": [],
            "_model_module": "@jupyter-widgets/controls",
            "_model_module_version": "1.5.0",
            "_model_name": "HTMLModel",
            "_view_count": null,
            "_view_module": "@jupyter-widgets/controls",
            "_view_module_version": "1.5.0",
            "_view_name": "HTMLView",
            "description": "",
            "description_tooltip": null,
            "layout": "IPY_MODEL_8c99bac5b2e44a14a28f39d39bac0337",
            "placeholder": "​",
            "style": "IPY_MODEL_111448ed3b3a42a8a9a9451ab290fd1a",
            "value": "Generating train split: 100%"
          }
        },
        "2ac3739624bb44949deb2ce2f19500be": {
          "model_module": "@jupyter-widgets/controls",
          "model_name": "FloatProgressModel",
          "model_module_version": "1.5.0",
          "state": {
            "_dom_classes": [],
            "_model_module": "@jupyter-widgets/controls",
            "_model_module_version": "1.5.0",
            "_model_name": "FloatProgressModel",
            "_view_count": null,
            "_view_module": "@jupyter-widgets/controls",
            "_view_module_version": "1.5.0",
            "_view_name": "ProgressView",
            "bar_style": "success",
            "description": "",
            "description_tooltip": null,
            "layout": "IPY_MODEL_a92dc775829a433cb73634e228df57f3",
            "max": 785741,
            "min": 0,
            "orientation": "horizontal",
            "style": "IPY_MODEL_c7c0a1055f644af98d1da4ea0bce574b",
            "value": 785741
          }
        },
        "5e1d907411fd45b59ff815dc0c262a97": {
          "model_module": "@jupyter-widgets/controls",
          "model_name": "HTMLModel",
          "model_module_version": "1.5.0",
          "state": {
            "_dom_classes": [],
            "_model_module": "@jupyter-widgets/controls",
            "_model_module_version": "1.5.0",
            "_model_name": "HTMLModel",
            "_view_count": null,
            "_view_module": "@jupyter-widgets/controls",
            "_view_module_version": "1.5.0",
            "_view_name": "HTMLView",
            "description": "",
            "description_tooltip": null,
            "layout": "IPY_MODEL_36fd49ad3b3e435c8865ae28fad820b9",
            "placeholder": "​",
            "style": "IPY_MODEL_f59bf672531b4574bafdca4e5f56db83",
            "value": " 785741/785741 [00:13&lt;00:00, 125877.37 examples/s]"
          }
        },
        "498b13b0bd904ddbb3045b5afda647a8": {
          "model_module": "@jupyter-widgets/base",
          "model_name": "LayoutModel",
          "model_module_version": "1.2.0",
          "state": {
            "_model_module": "@jupyter-widgets/base",
            "_model_module_version": "1.2.0",
            "_model_name": "LayoutModel",
            "_view_count": null,
            "_view_module": "@jupyter-widgets/base",
            "_view_module_version": "1.2.0",
            "_view_name": "LayoutView",
            "align_content": null,
            "align_items": null,
            "align_self": null,
            "border": null,
            "bottom": null,
            "display": null,
            "flex": null,
            "flex_flow": null,
            "grid_area": null,
            "grid_auto_columns": null,
            "grid_auto_flow": null,
            "grid_auto_rows": null,
            "grid_column": null,
            "grid_gap": null,
            "grid_row": null,
            "grid_template_areas": null,
            "grid_template_columns": null,
            "grid_template_rows": null,
            "height": null,
            "justify_content": null,
            "justify_items": null,
            "left": null,
            "margin": null,
            "max_height": null,
            "max_width": null,
            "min_height": null,
            "min_width": null,
            "object_fit": null,
            "object_position": null,
            "order": null,
            "overflow": null,
            "overflow_x": null,
            "overflow_y": null,
            "padding": null,
            "right": null,
            "top": null,
            "visibility": null,
            "width": null
          }
        },
        "8c99bac5b2e44a14a28f39d39bac0337": {
          "model_module": "@jupyter-widgets/base",
          "model_name": "LayoutModel",
          "model_module_version": "1.2.0",
          "state": {
            "_model_module": "@jupyter-widgets/base",
            "_model_module_version": "1.2.0",
            "_model_name": "LayoutModel",
            "_view_count": null,
            "_view_module": "@jupyter-widgets/base",
            "_view_module_version": "1.2.0",
            "_view_name": "LayoutView",
            "align_content": null,
            "align_items": null,
            "align_self": null,
            "border": null,
            "bottom": null,
            "display": null,
            "flex": null,
            "flex_flow": null,
            "grid_area": null,
            "grid_auto_columns": null,
            "grid_auto_flow": null,
            "grid_auto_rows": null,
            "grid_column": null,
            "grid_gap": null,
            "grid_row": null,
            "grid_template_areas": null,
            "grid_template_columns": null,
            "grid_template_rows": null,
            "height": null,
            "justify_content": null,
            "justify_items": null,
            "left": null,
            "margin": null,
            "max_height": null,
            "max_width": null,
            "min_height": null,
            "min_width": null,
            "object_fit": null,
            "object_position": null,
            "order": null,
            "overflow": null,
            "overflow_x": null,
            "overflow_y": null,
            "padding": null,
            "right": null,
            "top": null,
            "visibility": null,
            "width": null
          }
        },
        "111448ed3b3a42a8a9a9451ab290fd1a": {
          "model_module": "@jupyter-widgets/controls",
          "model_name": "DescriptionStyleModel",
          "model_module_version": "1.5.0",
          "state": {
            "_model_module": "@jupyter-widgets/controls",
            "_model_module_version": "1.5.0",
            "_model_name": "DescriptionStyleModel",
            "_view_count": null,
            "_view_module": "@jupyter-widgets/base",
            "_view_module_version": "1.2.0",
            "_view_name": "StyleView",
            "description_width": ""
          }
        },
        "a92dc775829a433cb73634e228df57f3": {
          "model_module": "@jupyter-widgets/base",
          "model_name": "LayoutModel",
          "model_module_version": "1.2.0",
          "state": {
            "_model_module": "@jupyter-widgets/base",
            "_model_module_version": "1.2.0",
            "_model_name": "LayoutModel",
            "_view_count": null,
            "_view_module": "@jupyter-widgets/base",
            "_view_module_version": "1.2.0",
            "_view_name": "LayoutView",
            "align_content": null,
            "align_items": null,
            "align_self": null,
            "border": null,
            "bottom": null,
            "display": null,
            "flex": null,
            "flex_flow": null,
            "grid_area": null,
            "grid_auto_columns": null,
            "grid_auto_flow": null,
            "grid_auto_rows": null,
            "grid_column": null,
            "grid_gap": null,
            "grid_row": null,
            "grid_template_areas": null,
            "grid_template_columns": null,
            "grid_template_rows": null,
            "height": null,
            "justify_content": null,
            "justify_items": null,
            "left": null,
            "margin": null,
            "max_height": null,
            "max_width": null,
            "min_height": null,
            "min_width": null,
            "object_fit": null,
            "object_position": null,
            "order": null,
            "overflow": null,
            "overflow_x": null,
            "overflow_y": null,
            "padding": null,
            "right": null,
            "top": null,
            "visibility": null,
            "width": null
          }
        },
        "c7c0a1055f644af98d1da4ea0bce574b": {
          "model_module": "@jupyter-widgets/controls",
          "model_name": "ProgressStyleModel",
          "model_module_version": "1.5.0",
          "state": {
            "_model_module": "@jupyter-widgets/controls",
            "_model_module_version": "1.5.0",
            "_model_name": "ProgressStyleModel",
            "_view_count": null,
            "_view_module": "@jupyter-widgets/base",
            "_view_module_version": "1.2.0",
            "_view_name": "StyleView",
            "bar_color": null,
            "description_width": ""
          }
        },
        "36fd49ad3b3e435c8865ae28fad820b9": {
          "model_module": "@jupyter-widgets/base",
          "model_name": "LayoutModel",
          "model_module_version": "1.2.0",
          "state": {
            "_model_module": "@jupyter-widgets/base",
            "_model_module_version": "1.2.0",
            "_model_name": "LayoutModel",
            "_view_count": null,
            "_view_module": "@jupyter-widgets/base",
            "_view_module_version": "1.2.0",
            "_view_name": "LayoutView",
            "align_content": null,
            "align_items": null,
            "align_self": null,
            "border": null,
            "bottom": null,
            "display": null,
            "flex": null,
            "flex_flow": null,
            "grid_area": null,
            "grid_auto_columns": null,
            "grid_auto_flow": null,
            "grid_auto_rows": null,
            "grid_column": null,
            "grid_gap": null,
            "grid_row": null,
            "grid_template_areas": null,
            "grid_template_columns": null,
            "grid_template_rows": null,
            "height": null,
            "justify_content": null,
            "justify_items": null,
            "left": null,
            "margin": null,
            "max_height": null,
            "max_width": null,
            "min_height": null,
            "min_width": null,
            "object_fit": null,
            "object_position": null,
            "order": null,
            "overflow": null,
            "overflow_x": null,
            "overflow_y": null,
            "padding": null,
            "right": null,
            "top": null,
            "visibility": null,
            "width": null
          }
        },
        "f59bf672531b4574bafdca4e5f56db83": {
          "model_module": "@jupyter-widgets/controls",
          "model_name": "DescriptionStyleModel",
          "model_module_version": "1.5.0",
          "state": {
            "_model_module": "@jupyter-widgets/controls",
            "_model_module_version": "1.5.0",
            "_model_name": "DescriptionStyleModel",
            "_view_count": null,
            "_view_module": "@jupyter-widgets/base",
            "_view_module_version": "1.2.0",
            "_view_name": "StyleView",
            "description_width": ""
          }
        }
      }
    }
  },
  "nbformat": 4,
  "nbformat_minor": 0
}